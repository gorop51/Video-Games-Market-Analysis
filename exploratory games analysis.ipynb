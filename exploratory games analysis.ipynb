{
 "cells": [
  {
   "cell_type": "markdown",
   "metadata": {},
   "source": [
    "# Проект"
   ]
  },
  {
   "cell_type": "markdown",
   "metadata": {},
   "source": [
    "## Вступление <a id='start'></a>"
   ]
  },
  {
   "cell_type": "markdown",
   "metadata": {},
   "source": [
    "### Краткое описание проекта"
   ]
  },
  {
   "cell_type": "markdown",
   "metadata": {},
   "source": [
    "**<font color=\"maroon\">Вы работаете в интернет-магазине «Стримчик», который продаёт по всему миру компьютерные игры. Из открытых источников доступны исторические данные о продажах игр, оценки пользователей и экспертов, жанры и платформы. Доступны данные до 2016 года.<font color=\"maroon\">**"
   ]
  },
  {
   "cell_type": "markdown",
   "metadata": {},
   "source": [
    "###  Цель проекта"
   ]
  },
  {
   "cell_type": "markdown",
   "metadata": {},
   "source": [
    "**<font color=\"maroon\">Нужно выявить определяющие успешность игры закономерности. Это позволит сделать ставку на потенциально популярный продукт и спланировать рекламные кампании.<font color=\"maroon\">**"
   ]
  },
  {
   "cell_type": "markdown",
   "metadata": {},
   "source": [
    "### Описание данных"
   ]
  },
  {
   "cell_type": "markdown",
   "metadata": {},
   "source": [
    "<b><font color=\"maroon\">\n",
    "Столбцы:\n",
    "- <font color=\"green\">Name</font> — название игры\n",
    "- <font color=\"green\">Platform</font> — платформа\n",
    "- <font color=\"green\">Year_of_Release</font> — год выпуска\n",
    "- <font color=\"green\">Genre</font> — жанр игры\n",
    "- <font color=\"green\">NA_sales</font> — продажи в Северной Америке (миллионы проданных копий)\n",
    "- <font color=\"green\">EU_sales</font> — продажи в Европе (миллионы проданных копий)\n",
    "- <font color=\"green\">JP_sales</font> — продажи в Японии (миллионы проданных копий)\n",
    "- <font color=\"green\">Other_sales</font> — продажи в других странах (миллионы проданных копий)\n",
    "- <font color=\"green\">Critic_Score</font> — оценка критиков (максимум 100)\n",
    "- <font color=\"green\">User_Score</font> — оценка пользователей (максимум 10)\n",
    "- <font color=\"green\">Rating</font> — рейтинг от организации ESRB (англ. Entertainment Software Rating Board). Эта ассоциация определяет рейтинг компьютерных игр и присваивает им подходящую возрастную категорию."
   ]
  },
  {
   "cell_type": "markdown",
   "metadata": {},
   "source": [
    "### Обозначения"
   ]
  },
  {
   "cell_type": "markdown",
   "metadata": {},
   "source": [
    "<b><font color=\"maroon\">\n",
    "- <font color=\"green\">Слово</font> - столбец из датафрейма\n",
    "- <font color=\"blue\">Слово</font> - значение входящее в один из столбцов датафрейма\n",
    "- <font color=\"orange\">Слово</font> - географические обьекты\n",
    "- <font color=\"pink\">Cлово</font> - компании и огранизации\n",
    "- <font color=\"violet\"><u>Слово</u></font> - внешние ссылки\n",
    "- <font style=\"font-style: italic;\" color='black'>Cлово</font> - важная информация"
   ]
  },
  {
   "cell_type": "markdown",
   "metadata": {},
   "source": [
    "### Содержание"
   ]
  },
  {
   "cell_type": "markdown",
   "metadata": {
    "toc": true
   },
   "source": [
    "<h1><span class=\"tocSkip\"></span></h1>\n",
    "<div class=\"toc\"><ul class=\"toc-item\"><li><span><a href=\"#Вступление-\" data-toc-modified-id=\"Вступление--1\"><span class=\"toc-item-num\">1&nbsp;&nbsp;</span>Вступление <a id=\"start\"></a></a></span><ul class=\"toc-item\"><li><span><a href=\"#Краткое-описание-проекта\" data-toc-modified-id=\"Краткое-описание-проекта-1.1\"><span class=\"toc-item-num\">1.1&nbsp;&nbsp;</span>Краткое описание проекта</a></span></li><li><span><a href=\"#Цель-проекта\" data-toc-modified-id=\"Цель-проекта-1.2\"><span class=\"toc-item-num\">1.2&nbsp;&nbsp;</span>Цель проекта</a></span></li><li><span><a href=\"#Описание-данных\" data-toc-modified-id=\"Описание-данных-1.3\"><span class=\"toc-item-num\">1.3&nbsp;&nbsp;</span>Описание данных</a></span></li><li><span><a href=\"#Обозначения\" data-toc-modified-id=\"Обозначения-1.4\"><span class=\"toc-item-num\">1.4&nbsp;&nbsp;</span>Обозначения</a></span></li><li><span><a href=\"#Содержание\" data-toc-modified-id=\"Содержание-1.5\"><span class=\"toc-item-num\">1.5&nbsp;&nbsp;</span>Содержание</a></span></li></ul></li><li><span><a href=\"#Подключение-датафрейма-и-нужных-библиотек\" data-toc-modified-id=\"Подключение-датафрейма-и-нужных-библиотек-2\"><span class=\"toc-item-num\">2&nbsp;&nbsp;</span>Подключение датафрейма и нужных библиотек</a></span><ul class=\"toc-item\"><li><span><a href=\"#Подключение-нужных-библиотек\" data-toc-modified-id=\"Подключение-нужных-библиотек-2.1\"><span class=\"toc-item-num\">2.1&nbsp;&nbsp;</span>Подключение нужных библиотек</a></span></li><li><span><a href=\"#Подключение-датафрейма\" data-toc-modified-id=\"Подключение-датафрейма-2.2\"><span class=\"toc-item-num\">2.2&nbsp;&nbsp;</span>Подключение датафрейма</a></span></li></ul></li><li><span><a href=\"#Ознакомление-с-данными\" data-toc-modified-id=\"Ознакомление-с-данными-3\"><span class=\"toc-item-num\">3&nbsp;&nbsp;</span>Ознакомление с данными</a></span><ul class=\"toc-item\"><li><span><a href=\"#Информация-о-датафрейме\" data-toc-modified-id=\"Информация-о-датафрейме-3.1\"><span class=\"toc-item-num\">3.1&nbsp;&nbsp;</span>Информация о датафрейме</a></span></li><li><span><a href=\"#Пример-из-датафрейма\" data-toc-modified-id=\"Пример-из-датафрейма-3.2\"><span class=\"toc-item-num\">3.2&nbsp;&nbsp;</span>Пример из датафрейма</a></span></li><li><span><a href=\"#Названия-столбцов-датафрейма\" data-toc-modified-id=\"Названия-столбцов-датафрейма-3.3\"><span class=\"toc-item-num\">3.3&nbsp;&nbsp;</span>Названия столбцов датафрейма</a></span></li><li><span><a href=\"#Кол-во-пропусков-в-каждом-столбце\" data-toc-modified-id=\"Кол-во-пропусков-в-каждом-столбце-3.4\"><span class=\"toc-item-num\">3.4&nbsp;&nbsp;</span>Кол-во пропусков в каждом столбце</a></span></li><li><span><a href=\"#Гистограммы-для-некоторых-столбцов\" data-toc-modified-id=\"Гистограммы-для-некоторых-столбцов-3.5\"><span class=\"toc-item-num\">3.5&nbsp;&nbsp;</span>Гистограммы для некоторых столбцов</a></span></li><li><span><a href=\"#Явные-дубликаты-строк\" data-toc-modified-id=\"Явные-дубликаты-строк-3.6\"><span class=\"toc-item-num\">3.6&nbsp;&nbsp;</span>Явные дубликаты строк</a></span></li><li><span><a href=\"#Вывод-из-обзора-данных\" data-toc-modified-id=\"Вывод-из-обзора-данных-3.7\"><span class=\"toc-item-num\">3.7&nbsp;&nbsp;</span>Вывод из обзора данных</a></span></li></ul></li><li><span><a href=\"#Предобработка-данных\" data-toc-modified-id=\"Предобработка-данных-4\"><span class=\"toc-item-num\">4&nbsp;&nbsp;</span>Предобработка данных</a></span><ul class=\"toc-item\"><li><span><a href=\"#Корректировка-названий-столбцов\" data-toc-modified-id=\"Корректировка-названий-столбцов-4.1\"><span class=\"toc-item-num\">4.1&nbsp;&nbsp;</span>Корректировка названий столбцов</a></span></li><li><span><a href=\"#Обработка-столбца-'year_of_release'\" data-toc-modified-id=\"Обработка-столбца-'year_of_release'-4.2\"><span class=\"toc-item-num\">4.2&nbsp;&nbsp;</span>Обработка столбца '<font color=\"green\">year_of_release</font>'</a></span></li><li><span><a href=\"#Обработка-столбца-'name'\" data-toc-modified-id=\"Обработка-столбца-'name'-4.3\"><span class=\"toc-item-num\">4.3&nbsp;&nbsp;</span>Обработка столбца '<font color=\"green\">name</font>'</a></span></li><li><span><a href=\"#Обработка-столбца-'genre'\" data-toc-modified-id=\"Обработка-столбца-'genre'-4.4\"><span class=\"toc-item-num\">4.4&nbsp;&nbsp;</span>Обработка столбца '<font color=\"green\">genre</font>'</a></span></li><li><span><a href=\"#Обработка-столбца-'rating'\" data-toc-modified-id=\"Обработка-столбца-'rating'-4.5\"><span class=\"toc-item-num\">4.5&nbsp;&nbsp;</span>Обработка столбца '<font color=\"green\">rating</font>'</a></span></li><li><span><a href=\"#Обработка-столбца-'user_score'\" data-toc-modified-id=\"Обработка-столбца-'user_score'-4.6\"><span class=\"toc-item-num\">4.6&nbsp;&nbsp;</span>Обработка столбца '<font color=\"green\">user_score</font>'</a></span></li><li><span><a href=\"#Обработка-столбца-'critic_score'\" data-toc-modified-id=\"Обработка-столбца-'critic_score'-4.7\"><span class=\"toc-item-num\">4.7&nbsp;&nbsp;</span>Обработка столбца '<font color=\"green\">critic_score</font>'</a></span></li><li><span><a href=\"#Возможные-причины-пропусков-в-данных\" data-toc-modified-id=\"Возможные-причины-пропусков-в-данных-4.8\"><span class=\"toc-item-num\">4.8&nbsp;&nbsp;</span>Возможные причины пропусков в данных</a></span></li><li><span><a href=\"#Добавление-нового-столбца\" data-toc-modified-id=\"Добавление-нового-столбца-4.9\"><span class=\"toc-item-num\">4.9&nbsp;&nbsp;</span>Добавление нового столбца</a></span></li></ul></li><li><span><a href=\"#Иссловательский-анализ-данных\" data-toc-modified-id=\"Иссловательский-анализ-данных-5\"><span class=\"toc-item-num\">5&nbsp;&nbsp;</span>Иссловательский анализ данных</a></span><ul class=\"toc-item\"><li><span><a href=\"#Кол-во-выпущенных-игр-в-различные-года\" data-toc-modified-id=\"Кол-во-выпущенных-игр-в-различные-года-5.1\"><span class=\"toc-item-num\">5.1&nbsp;&nbsp;</span>Кол-во выпущенных игр в различные года</a></span></li><li><span><a href=\"#Продажи-5-ти-самых-прибыльных-платформ-в-различные-года\" data-toc-modified-id=\"Продажи-5-ти-самых-прибыльных-платформ-в-различные-года-5.2\"><span class=\"toc-item-num\">5.2&nbsp;&nbsp;</span>Продажи 5-ти самых прибыльных платформ в различные года</a></span></li><li><span><a href=\"#Игры-лидирующие-по-продажам-за-все-время\" data-toc-modified-id=\"Игры-лидирующие-по-продажам-за-все-время-5.3\"><span class=\"toc-item-num\">5.3&nbsp;&nbsp;</span>Игры лидирующие по продажам за все время</a></span></li><li><span><a href=\"#За-какой-характерный-срок-появляются-новые-и-исчезают-старые-платформы?\" data-toc-modified-id=\"За-какой-характерный-срок-появляются-новые-и-исчезают-старые-платформы?-5.4\"><span class=\"toc-item-num\">5.4&nbsp;&nbsp;</span>За какой характерный срок появляются новые и исчезают старые платформы?</a></span></li><li><span><a href=\"#Определение-актуального-периода-для-анализа\" data-toc-modified-id=\"Определение-актуального-периода-для-анализа-5.5\"><span class=\"toc-item-num\">5.5&nbsp;&nbsp;</span>Определение актуального периода для анализа</a></span></li><li><span><a href=\"#Перспективные-платформы\" data-toc-modified-id=\"Перспективные-платформы-5.6\"><span class=\"toc-item-num\">5.6&nbsp;&nbsp;</span>Перспективные платформы</a></span></li><li><span><a href=\"#Диаграммы-размаха\" data-toc-modified-id=\"Диаграммы-размаха-5.7\"><span class=\"toc-item-num\">5.7&nbsp;&nbsp;</span>Диаграммы размаха</a></span></li><li><span><a href=\"#Влияние-отзывов-критиков-и-пользователей-на-продажи\" data-toc-modified-id=\"Влияние-отзывов-критиков-и-пользователей-на-продажи-5.8\"><span class=\"toc-item-num\">5.8&nbsp;&nbsp;</span>Влияние отзывов критиков и пользователей на продажи</a></span></li><li><span><a href=\"#Влияние-жанров\" data-toc-modified-id=\"Влияние-жанров-5.9\"><span class=\"toc-item-num\">5.9&nbsp;&nbsp;</span>Влияние жанров</a></span></li></ul></li><li><span><a href=\"#Портрет-пользователей-в-разных-регионах\" data-toc-modified-id=\"Портрет-пользователей-в-разных-регионах-6\"><span class=\"toc-item-num\">6&nbsp;&nbsp;</span>Портрет пользователей в разных регионах</a></span><ul class=\"toc-item\"><li><span><a href=\"#Портрет-пользователя-из-Северной-Америки\" data-toc-modified-id=\"Портрет-пользователя-из-Северной-Америки-6.1\"><span class=\"toc-item-num\">6.1&nbsp;&nbsp;</span>Портрет пользователя из <font color=\"orange\">Северной Америки</font></a></span></li><li><span><a href=\"#Портрет-пользователя-из-Европы\" data-toc-modified-id=\"Портрет-пользователя-из-Европы-6.2\"><span class=\"toc-item-num\">6.2&nbsp;&nbsp;</span>Портрет пользователя из <font color=\"orange\">Европы</font></a></span></li><li><span><a href=\"#Портрет-пользователя-из-Японии\" data-toc-modified-id=\"Портрет-пользователя-из-Японии-6.3\"><span class=\"toc-item-num\">6.3&nbsp;&nbsp;</span>Портрет пользователя из <font color=\"orange\">Японии</font></a></span></li><li><span><a href=\"#Вывод-из-анализа-портретов-пользователей-из-различных-регионов\" data-toc-modified-id=\"Вывод-из-анализа-портретов-пользователей-из-различных-регионов-6.4\"><span class=\"toc-item-num\">6.4&nbsp;&nbsp;</span>Вывод из анализа портретов пользователей из различных регионов</a></span></li></ul></li><li><span><a href=\"#Проверка-гипотез\" data-toc-modified-id=\"Проверка-гипотез-7\"><span class=\"toc-item-num\">7&nbsp;&nbsp;</span>Проверка гипотез</a></span><ul class=\"toc-item\"><li><span><a href=\"#Средние-пользовательские-рейтинги-платформ-'Xbox-One'-и-'PC'-одинаковые\" data-toc-modified-id=\"Средние-пользовательские-рейтинги-платформ-'Xbox-One'-и-'PC'-одинаковые-7.1\"><span class=\"toc-item-num\">7.1&nbsp;&nbsp;</span>Средние пользовательские рейтинги платформ '<font color=\"blue\">Xbox One</font>' и '<font color=\"blue\">PC</font>' одинаковые</a></span></li><li><span><a href=\"#Средние-пользовательские-рейтинги-жанров-'Action'-и-'Sports'-разные\" data-toc-modified-id=\"Средние-пользовательские-рейтинги-жанров-'Action'-и-'Sports'-разные-7.2\"><span class=\"toc-item-num\">7.2&nbsp;&nbsp;</span>Средние пользовательские рейтинги жанров '<font color=\"blue\">Action</font>' и '<font color=\"blue\">Sports</font>' разные</a></span></li><li><span><a href=\"#Пояснение-способа-проверки-гипотез\" data-toc-modified-id=\"Пояснение-способа-проверки-гипотез-7.3\"><span class=\"toc-item-num\">7.3&nbsp;&nbsp;</span>Пояснение способа проверки гипотез</a></span></li></ul></li><li><span><a href=\"#Общий-вывод\" data-toc-modified-id=\"Общий-вывод-8\"><span class=\"toc-item-num\">8&nbsp;&nbsp;</span>Общий вывод</a></span><ul class=\"toc-item\"><li><span><a href=\"#Пояснение\" data-toc-modified-id=\"Пояснение-8.1\"><span class=\"toc-item-num\">8.1&nbsp;&nbsp;</span>Пояснение</a></span></li></ul></li></ul></div>"
   ]
  },
  {
   "cell_type": "markdown",
   "metadata": {},
   "source": [
    "## Подключение датафрейма и нужных библиотек"
   ]
  },
  {
   "cell_type": "markdown",
   "metadata": {},
   "source": [
    "### Подключение нужных библиотек"
   ]
  },
  {
   "cell_type": "code",
   "execution_count": 1,
   "metadata": {},
   "outputs": [
    {
     "name": "stdout",
     "output_type": "stream",
     "text": [
      "Collecting missingno\n",
      "  Downloading missingno-0.5.1-py3-none-any.whl (8.7 kB)\n",
      "Requirement already satisfied: numpy in /opt/conda/lib/python3.9/site-packages (from missingno) (1.21.1)\n",
      "Requirement already satisfied: scipy in /opt/conda/lib/python3.9/site-packages (from missingno) (1.9.1)\n",
      "Requirement already satisfied: seaborn in /opt/conda/lib/python3.9/site-packages (from missingno) (0.11.1)\n",
      "Requirement already satisfied: matplotlib in /opt/conda/lib/python3.9/site-packages (from missingno) (3.3.4)\n",
      "Requirement already satisfied: kiwisolver>=1.0.1 in /opt/conda/lib/python3.9/site-packages (from matplotlib->missingno) (1.4.4)\n",
      "Requirement already satisfied: pillow>=6.2.0 in /opt/conda/lib/python3.9/site-packages (from matplotlib->missingno) (8.4.0)\n",
      "Requirement already satisfied: pyparsing!=2.0.4,!=2.1.2,!=2.1.6,>=2.0.3 in /opt/conda/lib/python3.9/site-packages (from matplotlib->missingno) (2.4.7)\n",
      "Requirement already satisfied: python-dateutil>=2.1 in /opt/conda/lib/python3.9/site-packages (from matplotlib->missingno) (2.8.1)\n",
      "Requirement already satisfied: cycler>=0.10 in /opt/conda/lib/python3.9/site-packages (from matplotlib->missingno) (0.11.0)\n",
      "Requirement already satisfied: six>=1.5 in /opt/conda/lib/python3.9/site-packages (from python-dateutil>=2.1->matplotlib->missingno) (1.16.0)\n",
      "Requirement already satisfied: pandas>=0.23 in /opt/conda/lib/python3.9/site-packages (from seaborn->missingno) (1.2.4)\n",
      "Requirement already satisfied: pytz>=2017.3 in /opt/conda/lib/python3.9/site-packages (from pandas>=0.23->seaborn->missingno) (2021.1)\n",
      "Installing collected packages: missingno\n",
      "Successfully installed missingno-0.5.1\n"
     ]
    }
   ],
   "source": [
    "!pip install missingno\n",
    "import pandas as pd\n",
    "import missingno as msno\n",
    "import matplotlib.pyplot as plt\n",
    "import scipy.stats as st"
   ]
  },
  {
   "cell_type": "markdown",
   "metadata": {},
   "source": [
    "### Подключение датафрейма"
   ]
  },
  {
   "cell_type": "code",
   "execution_count": 2,
   "metadata": {
    "scrolled": true
   },
   "outputs": [],
   "source": [
    "df = pd.read_csv(\"/datasets/games.csv\")"
   ]
  },
  {
   "cell_type": "markdown",
   "metadata": {},
   "source": [
    "## Ознакомление с данными"
   ]
  },
  {
   "cell_type": "markdown",
   "metadata": {},
   "source": [
    "### Информация о датафрейме"
   ]
  },
  {
   "cell_type": "code",
   "execution_count": 3,
   "metadata": {
    "scrolled": true
   },
   "outputs": [
    {
     "name": "stdout",
     "output_type": "stream",
     "text": [
      "<class 'pandas.core.frame.DataFrame'>\n",
      "RangeIndex: 16715 entries, 0 to 16714\n",
      "Data columns (total 11 columns):\n",
      " #   Column           Non-Null Count  Dtype  \n",
      "---  ------           --------------  -----  \n",
      " 0   Name             16713 non-null  object \n",
      " 1   Platform         16715 non-null  object \n",
      " 2   Year_of_Release  16446 non-null  float64\n",
      " 3   Genre            16713 non-null  object \n",
      " 4   NA_sales         16715 non-null  float64\n",
      " 5   EU_sales         16715 non-null  float64\n",
      " 6   JP_sales         16715 non-null  float64\n",
      " 7   Other_sales      16715 non-null  float64\n",
      " 8   Critic_Score     8137 non-null   float64\n",
      " 9   User_Score       10014 non-null  object \n",
      " 10  Rating           9949 non-null   object \n",
      "dtypes: float64(6), object(5)\n",
      "memory usage: 1.4+ MB\n"
     ]
    }
   ],
   "source": [
    "df.info()"
   ]
  },
  {
   "cell_type": "markdown",
   "metadata": {},
   "source": [
    "### Пример из датафрейма"
   ]
  },
  {
   "cell_type": "code",
   "execution_count": 4,
   "metadata": {
    "scrolled": true
   },
   "outputs": [
    {
     "data": {
      "text/html": [
       "<div>\n",
       "<style scoped>\n",
       "    .dataframe tbody tr th:only-of-type {\n",
       "        vertical-align: middle;\n",
       "    }\n",
       "\n",
       "    .dataframe tbody tr th {\n",
       "        vertical-align: top;\n",
       "    }\n",
       "\n",
       "    .dataframe thead th {\n",
       "        text-align: right;\n",
       "    }\n",
       "</style>\n",
       "<table border=\"1\" class=\"dataframe\">\n",
       "  <thead>\n",
       "    <tr style=\"text-align: right;\">\n",
       "      <th></th>\n",
       "      <th>Name</th>\n",
       "      <th>Platform</th>\n",
       "      <th>Year_of_Release</th>\n",
       "      <th>Genre</th>\n",
       "      <th>NA_sales</th>\n",
       "      <th>EU_sales</th>\n",
       "      <th>JP_sales</th>\n",
       "      <th>Other_sales</th>\n",
       "      <th>Critic_Score</th>\n",
       "      <th>User_Score</th>\n",
       "      <th>Rating</th>\n",
       "    </tr>\n",
       "  </thead>\n",
       "  <tbody>\n",
       "    <tr>\n",
       "      <th>0</th>\n",
       "      <td>Wii Sports</td>\n",
       "      <td>Wii</td>\n",
       "      <td>2006.0</td>\n",
       "      <td>Sports</td>\n",
       "      <td>41.36</td>\n",
       "      <td>28.96</td>\n",
       "      <td>3.77</td>\n",
       "      <td>8.45</td>\n",
       "      <td>76.0</td>\n",
       "      <td>8</td>\n",
       "      <td>E</td>\n",
       "    </tr>\n",
       "    <tr>\n",
       "      <th>1</th>\n",
       "      <td>Super Mario Bros.</td>\n",
       "      <td>NES</td>\n",
       "      <td>1985.0</td>\n",
       "      <td>Platform</td>\n",
       "      <td>29.08</td>\n",
       "      <td>3.58</td>\n",
       "      <td>6.81</td>\n",
       "      <td>0.77</td>\n",
       "      <td>NaN</td>\n",
       "      <td>NaN</td>\n",
       "      <td>NaN</td>\n",
       "    </tr>\n",
       "    <tr>\n",
       "      <th>2</th>\n",
       "      <td>Mario Kart Wii</td>\n",
       "      <td>Wii</td>\n",
       "      <td>2008.0</td>\n",
       "      <td>Racing</td>\n",
       "      <td>15.68</td>\n",
       "      <td>12.76</td>\n",
       "      <td>3.79</td>\n",
       "      <td>3.29</td>\n",
       "      <td>82.0</td>\n",
       "      <td>8.3</td>\n",
       "      <td>E</td>\n",
       "    </tr>\n",
       "    <tr>\n",
       "      <th>3</th>\n",
       "      <td>Wii Sports Resort</td>\n",
       "      <td>Wii</td>\n",
       "      <td>2009.0</td>\n",
       "      <td>Sports</td>\n",
       "      <td>15.61</td>\n",
       "      <td>10.93</td>\n",
       "      <td>3.28</td>\n",
       "      <td>2.95</td>\n",
       "      <td>80.0</td>\n",
       "      <td>8</td>\n",
       "      <td>E</td>\n",
       "    </tr>\n",
       "    <tr>\n",
       "      <th>4</th>\n",
       "      <td>Pokemon Red/Pokemon Blue</td>\n",
       "      <td>GB</td>\n",
       "      <td>1996.0</td>\n",
       "      <td>Role-Playing</td>\n",
       "      <td>11.27</td>\n",
       "      <td>8.89</td>\n",
       "      <td>10.22</td>\n",
       "      <td>1.00</td>\n",
       "      <td>NaN</td>\n",
       "      <td>NaN</td>\n",
       "      <td>NaN</td>\n",
       "    </tr>\n",
       "    <tr>\n",
       "      <th>5</th>\n",
       "      <td>Tetris</td>\n",
       "      <td>GB</td>\n",
       "      <td>1989.0</td>\n",
       "      <td>Puzzle</td>\n",
       "      <td>23.20</td>\n",
       "      <td>2.26</td>\n",
       "      <td>4.22</td>\n",
       "      <td>0.58</td>\n",
       "      <td>NaN</td>\n",
       "      <td>NaN</td>\n",
       "      <td>NaN</td>\n",
       "    </tr>\n",
       "    <tr>\n",
       "      <th>6</th>\n",
       "      <td>New Super Mario Bros.</td>\n",
       "      <td>DS</td>\n",
       "      <td>2006.0</td>\n",
       "      <td>Platform</td>\n",
       "      <td>11.28</td>\n",
       "      <td>9.14</td>\n",
       "      <td>6.50</td>\n",
       "      <td>2.88</td>\n",
       "      <td>89.0</td>\n",
       "      <td>8.5</td>\n",
       "      <td>E</td>\n",
       "    </tr>\n",
       "    <tr>\n",
       "      <th>7</th>\n",
       "      <td>Wii Play</td>\n",
       "      <td>Wii</td>\n",
       "      <td>2006.0</td>\n",
       "      <td>Misc</td>\n",
       "      <td>13.96</td>\n",
       "      <td>9.18</td>\n",
       "      <td>2.93</td>\n",
       "      <td>2.84</td>\n",
       "      <td>58.0</td>\n",
       "      <td>6.6</td>\n",
       "      <td>E</td>\n",
       "    </tr>\n",
       "    <tr>\n",
       "      <th>8</th>\n",
       "      <td>New Super Mario Bros. Wii</td>\n",
       "      <td>Wii</td>\n",
       "      <td>2009.0</td>\n",
       "      <td>Platform</td>\n",
       "      <td>14.44</td>\n",
       "      <td>6.94</td>\n",
       "      <td>4.70</td>\n",
       "      <td>2.24</td>\n",
       "      <td>87.0</td>\n",
       "      <td>8.4</td>\n",
       "      <td>E</td>\n",
       "    </tr>\n",
       "    <tr>\n",
       "      <th>9</th>\n",
       "      <td>Duck Hunt</td>\n",
       "      <td>NES</td>\n",
       "      <td>1984.0</td>\n",
       "      <td>Shooter</td>\n",
       "      <td>26.93</td>\n",
       "      <td>0.63</td>\n",
       "      <td>0.28</td>\n",
       "      <td>0.47</td>\n",
       "      <td>NaN</td>\n",
       "      <td>NaN</td>\n",
       "      <td>NaN</td>\n",
       "    </tr>\n",
       "  </tbody>\n",
       "</table>\n",
       "</div>"
      ],
      "text/plain": [
       "                        Name Platform  Year_of_Release         Genre  \\\n",
       "0                 Wii Sports      Wii           2006.0        Sports   \n",
       "1          Super Mario Bros.      NES           1985.0      Platform   \n",
       "2             Mario Kart Wii      Wii           2008.0        Racing   \n",
       "3          Wii Sports Resort      Wii           2009.0        Sports   \n",
       "4   Pokemon Red/Pokemon Blue       GB           1996.0  Role-Playing   \n",
       "5                     Tetris       GB           1989.0        Puzzle   \n",
       "6      New Super Mario Bros.       DS           2006.0      Platform   \n",
       "7                   Wii Play      Wii           2006.0          Misc   \n",
       "8  New Super Mario Bros. Wii      Wii           2009.0      Platform   \n",
       "9                  Duck Hunt      NES           1984.0       Shooter   \n",
       "\n",
       "   NA_sales  EU_sales  JP_sales  Other_sales  Critic_Score User_Score Rating  \n",
       "0     41.36     28.96      3.77         8.45          76.0          8      E  \n",
       "1     29.08      3.58      6.81         0.77           NaN        NaN    NaN  \n",
       "2     15.68     12.76      3.79         3.29          82.0        8.3      E  \n",
       "3     15.61     10.93      3.28         2.95          80.0          8      E  \n",
       "4     11.27      8.89     10.22         1.00           NaN        NaN    NaN  \n",
       "5     23.20      2.26      4.22         0.58           NaN        NaN    NaN  \n",
       "6     11.28      9.14      6.50         2.88          89.0        8.5      E  \n",
       "7     13.96      9.18      2.93         2.84          58.0        6.6      E  \n",
       "8     14.44      6.94      4.70         2.24          87.0        8.4      E  \n",
       "9     26.93      0.63      0.28         0.47           NaN        NaN    NaN  "
      ]
     },
     "execution_count": 4,
     "metadata": {},
     "output_type": "execute_result"
    }
   ],
   "source": [
    "df.head(10)"
   ]
  },
  {
   "cell_type": "markdown",
   "metadata": {},
   "source": [
    "### Названия столбцов датафрейма"
   ]
  },
  {
   "cell_type": "code",
   "execution_count": 5,
   "metadata": {
    "scrolled": true
   },
   "outputs": [
    {
     "data": {
      "text/plain": [
       "['Name',\n",
       " 'Platform',\n",
       " 'Year_of_Release',\n",
       " 'Genre',\n",
       " 'NA_sales',\n",
       " 'EU_sales',\n",
       " 'JP_sales',\n",
       " 'Other_sales',\n",
       " 'Critic_Score',\n",
       " 'User_Score',\n",
       " 'Rating']"
      ]
     },
     "execution_count": 5,
     "metadata": {},
     "output_type": "execute_result"
    }
   ],
   "source": [
    "list(df.columns)"
   ]
  },
  {
   "cell_type": "markdown",
   "metadata": {},
   "source": [
    "### Кол-во пропусков в каждом столбце"
   ]
  },
  {
   "cell_type": "code",
   "execution_count": 6,
   "metadata": {},
   "outputs": [
    {
     "data": {
      "image/png": "[encoded data removed]",
      "text/plain": [
       "<Figure size 1800x720 with 3 Axes>"
      ]
     },
     "metadata": {
      "needs_background": "light"
     },
     "output_type": "display_data"
    }
   ],
   "source": [
    "msno.bar(df)\n",
    "plt.show()"
   ]
  },
  {
   "cell_type": "markdown",
   "metadata": {},
   "source": [
    "### Гистограммы для некоторых столбцов"
   ]
  },
  {
   "cell_type": "code",
   "execution_count": 7,
   "metadata": {},
   "outputs": [
    {
     "data": {
      "image/png": "[encoded data removed]",
      "text/plain": [
       "<Figure size 720x720 with 6 Axes>"
      ]
     },
     "metadata": {
      "needs_background": "light"
     },
     "output_type": "display_data"
    }
   ],
   "source": [
    "df.hist(figsize=(10, 10))\n",
    "plt.show()"
   ]
  },
  {
   "cell_type": "markdown",
   "metadata": {},
   "source": [
    "### Явные дубликаты строк\n"
   ]
  },
  {
   "cell_type": "code",
   "execution_count": 8,
   "metadata": {},
   "outputs": [
    {
     "data": {
      "text/plain": [
       "0"
      ]
     },
     "execution_count": 8,
     "metadata": {},
     "output_type": "execute_result"
    }
   ],
   "source": [
    "df.duplicated().sum()"
   ]
  },
  {
   "cell_type": "code",
   "execution_count": 9,
   "metadata": {},
   "outputs": [
    {
     "data": {
      "text/plain": [
       "2"
      ]
     },
     "execution_count": 9,
     "metadata": {},
     "output_type": "execute_result"
    }
   ],
   "source": [
    "df.duplicated(subset=['Name', 'Platform', 'Year_of_Release']).sum()"
   ]
  },
  {
   "cell_type": "code",
   "execution_count": 10,
   "metadata": {},
   "outputs": [],
   "source": [
    "df.drop_duplicates(subset=['Name', 'Platform', 'Year_of_Release'], inplace=True)"
   ]
  },
  {
   "cell_type": "code",
   "execution_count": 11,
   "metadata": {},
   "outputs": [
    {
     "data": {
      "text/plain": [
       "0"
      ]
     },
     "execution_count": 11,
     "metadata": {},
     "output_type": "execute_result"
    }
   ],
   "source": [
    "df.duplicated(subset=['Name', 'Platform', 'Year_of_Release']).sum()"
   ]
  },
  {
   "cell_type": "markdown",
   "metadata": {},
   "source": [
    "### Вывод из обзора данных "
   ]
  },
  {
   "cell_type": "markdown",
   "metadata": {},
   "source": [
    "- <font color=\"maroon\">**В данных присутствуют пропуски, в столбцах '<font color='green'>Name</font>', '<font color='green'>Year_of_Release</font>' и '<font color='green'>Genre</font>' их малое кол-во, а в столбцах '<font color='green'>Critic_Score</font>', '<font color='green'>User_Score</font>' и '<font color='green'>Rating</font>' кол-во пропусков немного меньше или равно половине от общего кол-ва данных.</font>**\n",
    "- <font color=\"maroon\">**В столбцах '<font color=\"green\">Year_of_Release</font>' и '<font color=\"green\">Critic_Score</font>' стоит изменить тип данных на целочисленный, а в столбце '<font color=\"green\">User_Score</font>' - на вещественный.</font>**\n",
    "- <font color=\"maroon\">**В столбцах '<font color=\"green\">NA_sales</font>', '<font color=\"green\">EU_sales</font>', '<font color=\"green\">JP_sales</font>', '<font color=\"green\">Other_sales</font>' присутствуют выбросы, из-за которых, их гистограммы выглядят неинформативно.**</font>\n",
    "- <font color=\"maroon\">**Явные дубликаты строк, сгрупированные по году выпуска, имени, платформе, удалены.**</font>"
   ]
  },
  {
   "cell_type": "markdown",
   "metadata": {},
   "source": [
    "## Предобработка данных"
   ]
  },
  {
   "cell_type": "markdown",
   "metadata": {},
   "source": [
    "### Корректировка названий столбцов"
   ]
  },
  {
   "cell_type": "code",
   "execution_count": 12,
   "metadata": {
    "scrolled": true
   },
   "outputs": [],
   "source": [
    "df.columns = df.columns.str.lower()"
   ]
  },
  {
   "cell_type": "markdown",
   "metadata": {},
   "source": [
    "### Обработка столбца '<font color=\"green\">year_of_release</font>'"
   ]
  },
  {
   "cell_type": "code",
   "execution_count": 13,
   "metadata": {
    "scrolled": true
   },
   "outputs": [],
   "source": [
    "df['year_of_release'] = df['year_of_release'].fillna(0).astype('int')"
   ]
  },
  {
   "cell_type": "markdown",
   "metadata": {},
   "source": [
    "**<font color=\"maroon\">Заполним пропуски нулями, т.к. это не нужная нам информация, и изменим тип данных на целочисленный.<font color=\"maroon\">**"
   ]
  },
  {
   "cell_type": "markdown",
   "metadata": {},
   "source": [
    "### Обработка столбца '<font color=\"green\">name</font>'"
   ]
  },
  {
   "cell_type": "code",
   "execution_count": 14,
   "metadata": {},
   "outputs": [],
   "source": [
    "df.dropna(subset=['name'], inplace=True)"
   ]
  },
  {
   "cell_type": "markdown",
   "metadata": {},
   "source": [
    "### Обработка столбца '<font color=\"green\">genre</font>'"
   ]
  },
  {
   "cell_type": "code",
   "execution_count": 15,
   "metadata": {
    "scrolled": true
   },
   "outputs": [],
   "source": [
    "df['genre'] = df['genre'].fillna('unknown')"
   ]
  },
  {
   "cell_type": "markdown",
   "metadata": {},
   "source": [
    "### Обработка столбца '<font color=\"green\">rating</font>'"
   ]
  },
  {
   "cell_type": "code",
   "execution_count": 16,
   "metadata": {
    "scrolled": true
   },
   "outputs": [
    {
     "name": "stdout",
     "output_type": "stream",
     "text": [
      "undef    6764\n",
      "E        3989\n",
      "T        2961\n",
      "M        1563\n",
      "E10+     1420\n",
      "EC          8\n",
      "RP          3\n",
      "K-A         3\n",
      "AO          1\n",
      "Name: rating, dtype: int64\n"
     ]
    },
    {
     "data": {
      "image/png": "[encoded data removed]",
      "text/plain": [
       "<Figure size 432x288 with 1 Axes>"
      ]
     },
     "metadata": {
      "needs_background": "light"
     },
     "output_type": "display_data"
    }
   ],
   "source": [
    "#rating\n",
    "df['rating'] = df['rating'].fillna('undef')\n",
    "print(df['rating'].value_counts())\n",
    "df['rating'].value_counts().plot(kind='bar', title='Распределение рейтингов')\n",
    "plt.show()"
   ]
  },
  {
   "cell_type": "code",
   "execution_count": 17,
   "metadata": {},
   "outputs": [],
   "source": [
    "df['rating'] = df['rating'].replace('K-A', 'E').replace('AO', 'M').replace('RP', 'undef')"
   ]
  },
  {
   "cell_type": "code",
   "execution_count": 18,
   "metadata": {},
   "outputs": [],
   "source": [
    "df = df[df['rating'] != 'EC']"
   ]
  },
  {
   "cell_type": "markdown",
   "metadata": {},
   "source": [
    "**<font color=\"maroon\">Заменим рейтинг '<font color='blue'>K-A</font>' на  '<font color='blue'>E</font>', т.к. '<font color='blue'>K-A</font>' это прошлое название рейтинга '<font color='blue'>E</font>', '<font color='blue'>AO</font>' на рейтинг '<font color='blue'>M</font>', ввиду их схожести и малочисленности рейтинга '<font color='blue'>AO</font>',  '<font color='blue'>RP</font>' на значение-заглушку, т.к. это по сути тоже пропуски, а строки с рейтингом '<font color='blue'>EC</font>' удалим, потому что они составляют пренебрежимо малую долю в данных. (информация из интернета: [<font color=\"violet\">источник</font>](https://ru.wikipedia.org/wiki/Entertainment_Software_Rating_Board))</font>**</font>"
   ]
  },
  {
   "cell_type": "markdown",
   "metadata": {},
   "source": [
    "### Обработка столбца '<font color=\"green\">user_score</font>'"
   ]
  },
  {
   "cell_type": "code",
   "execution_count": 19,
   "metadata": {},
   "outputs": [
    {
     "name": "stdout",
     "output_type": "stream",
     "text": [
      "['8' nan '8.3' '8.5' '6.6' '8.4' '8.6' '7.7' '6.3' '7.4' '8.2' '9' '7.9'\n",
      " '8.1' '8.7' '7.1' '3.4' '5.3' '4.8' '3.2' '8.9' '6.4' '7.8' '7.5' '2.6'\n",
      " '7.2' '9.2' '7' '7.3' '4.3' '7.6' '5.7' '5' '9.1' '6.5' 'tbd' '8.8' '6.9'\n",
      " '9.4' '6.8' '6.1' '6.7' '5.4' '4' '4.9' '4.5' '9.3' '6.2' '4.2' '6' '3.7'\n",
      " '4.1' '5.8' '5.6' '5.5' '4.4' '4.6' '5.9' '3.9' '3.1' '2.9' '5.2' '3.3'\n",
      " '4.7' '5.1' '3.5' '2.5' '1.9' '3' '2.7' '2.2' '2' '9.5' '2.1' '3.6' '2.8'\n",
      " '1.8' '3.8' '0' '1.6' '9.6' '2.4' '1.7' '1.1' '0.3' '1.5' '0.7' '1.2'\n",
      " '2.3' '0.5' '1.3' '0.2' '0.6' '1.4' '0.9' '1' '9.7']\n"
     ]
    }
   ],
   "source": [
    "#user_score\n",
    "print(df['user_score'].unique())\n",
    "df.loc[df['user_score'] == 'tbd', 'user_score'] = float('NaN')\n",
    "df['user_score'] = df['user_score'].astype('float32')"
   ]
  },
  {
   "cell_type": "markdown",
   "metadata": {},
   "source": [
    "**<font color=\"maroon\">Заметим что '<font color='blue'>tbd</font>' это еще одно обозначение пропусков, а также поменяем тип данных на правильный.<font color=\"maroon\">**"
   ]
  },
  {
   "cell_type": "markdown",
   "metadata": {},
   "source": [
    "### Обработка столбца '<font color=\"green\">critic_score</font>'"
   ]
  },
  {
   "cell_type": "code",
   "execution_count": 20,
   "metadata": {},
   "outputs": [],
   "source": [
    "#critic_score\n",
    "df['critic_score'] = df['critic_score'].fillna(-5).astype('int32')"
   ]
  },
  {
   "cell_type": "markdown",
   "metadata": {},
   "source": [
    "### Возможные причины пропусков в данных"
   ]
  },
  {
   "cell_type": "markdown",
   "metadata": {},
   "source": [
    "**<font color=\"maroon\">Пропуски в столбце '<font color=\"green\">rating</font>' могут быть связаны с тем, что их выствыляет именно <font style=\"font-style: italic;\" color='black'>АМЕРИКАНСКАЯ</font> ассоциация '<font color=\"pink\">ESRB</font>', определяющая возрастной рейтинг компьютерных игр: она оценивает игры только в <font color=\"orange\">США</font> и <font color=\"orange\">Канаде</font> (информация из интернета: [<font color=\"violet\">источник</font>](https://ru.wikipedia.org/wiki/Entertainment_Software_Rating_Board)), поэтому, можно предположить, что все игры без рейтинга (с пропусками) были выпущенны где-то в других регионах. Пропуски в других столбцах скорее возникли в результате технических ошибок (например при выгрузке данных).<font color=\"maroon\">**"
   ]
  },
  {
   "cell_type": "markdown",
   "metadata": {},
   "source": [
    "### Добавление нового столбца"
   ]
  },
  {
   "cell_type": "code",
   "execution_count": 21,
   "metadata": {},
   "outputs": [],
   "source": [
    "df['all_sales'] = df[['eu_sales','na_sales','other_sales', 'jp_sales']].sum(axis='columns')"
   ]
  },
  {
   "cell_type": "markdown",
   "metadata": {},
   "source": [
    "## Иссловательский анализ данных"
   ]
  },
  {
   "cell_type": "markdown",
   "metadata": {},
   "source": [
    "### Кол-во выпущенных игр в различные года"
   ]
  },
  {
   "cell_type": "code",
   "execution_count": 22,
   "metadata": {},
   "outputs": [
    {
     "data": {
      "image/png": "[encoded data removed]",
      "text/plain": [
       "<Figure size 720x720 with 1 Axes>"
      ]
     },
     "metadata": {
      "needs_background": "light"
     },
     "output_type": "display_data"
    }
   ],
   "source": [
    "pd.Series(\n",
    "    data=[len(df[df['year_of_release']==year]['name'].unique()) for year in sorted(df['year_of_release'].unique()) if year!=0], \n",
    "    index=[year for year in sorted(df['year_of_release'].unique()) if year != 0]\n",
    ").plot(\n",
    "    kind='bar',\n",
    "    figsize=(10,10),\n",
    "    title='Кол-во выпущенных игр в различные года')\n",
    "plt.show()"
   ]
  },
  {
   "cell_type": "markdown",
   "metadata": {},
   "source": [
    "**<font color=\"maroon\">Не все периоды времени будут актуальны для исследования.<font color=\"maroon\">**"
   ]
  },
  {
   "cell_type": "markdown",
   "metadata": {},
   "source": [
    "### Продажи 5-ти самых прибыльных платформ в различные года"
   ]
  },
  {
   "cell_type": "code",
   "execution_count": 23,
   "metadata": {},
   "outputs": [
    {
     "data": {
      "image/png": "[encoded data removed]",
      "text/plain": [
       "<Figure size 432x288 with 1 Axes>"
      ]
     },
     "metadata": {
      "needs_background": "light"
     },
     "output_type": "display_data"
    },
    {
     "data": {
      "image/png": "[encoded data removed]",
      "text/plain": [
       "<Figure size 432x288 with 1 Axes>"
      ]
     },
     "metadata": {
      "needs_background": "light"
     },
     "output_type": "display_data"
    },
    {
     "data": {
      "image/png": "[encoded data removed]",
      "text/plain": [
       "<Figure size 432x288 with 1 Axes>"
      ]
     },
     "metadata": {
      "needs_background": "light"
     },
     "output_type": "display_data"
    },
    {
     "data": {
      "image/png": "[encoded data removed]",
      "text/plain": [
       "<Figure size 432x288 with 1 Axes>"
      ]
     },
     "metadata": {
      "needs_background": "light"
     },
     "output_type": "display_data"
    },
    {
     "data": {
      "image/png": "[encoded data removed]",
      "text/plain": [
       "<Figure size 432x288 with 1 Axes>"
      ]
     },
     "metadata": {
      "needs_background": "light"
     },
     "output_type": "display_data"
    }
   ],
   "source": [
    "for platform in df[df['year_of_release']!=0].groupby('platform')['all_sales'].sum().sort_values(ascending=False).head().index:\n",
    "    df[(df['platform'] == platform) & (df['year_of_release'] != 0)].groupby('year_of_release')['all_sales'].sum().plot(\n",
    "        kind='bar', title=f'Продажи платформы {platform} в различные года.'\n",
    "    )\n",
    "    plt.show()"
   ]
  },
  {
   "cell_type": "markdown",
   "metadata": {},
   "source": [
    "### Игры лидирующие по продажам за все время"
   ]
  },
  {
   "cell_type": "code",
   "execution_count": 24,
   "metadata": {},
   "outputs": [
    {
     "data": {
      "text/plain": [
       "name\n",
       "Wii Sports            82.54\n",
       "Grand Theft Auto V    56.58\n",
       "Super Mario Bros.     45.31\n",
       "Tetris                35.84\n",
       "Mario Kart Wii        35.52\n",
       "Name: all_sales, dtype: float64"
      ]
     },
     "execution_count": 24,
     "metadata": {},
     "output_type": "execute_result"
    }
   ],
   "source": [
    "df.groupby('name')['all_sales'].sum().sort_values(ascending=False).head()"
   ]
  },
  {
   "cell_type": "markdown",
   "metadata": {},
   "source": [
    "### За какой характерный срок появляются новые и исчезают старые платформы?"
   ]
  },
  {
   "cell_type": "markdown",
   "metadata": {},
   "source": [
    "**<font color=\"maroon\">По вышепоказанным графикам, можно предположить, что этот срок равен 10-тью годам; также важно уточнить, что этот срок не влияет на платформу '<font color=\"blue\">PC</font>', т.к. платформа не устаревает, из-за возможности обновлять ее комплектующие.<font color=\"maroon\">**"
   ]
  },
  {
   "cell_type": "markdown",
   "metadata": {},
   "source": [
    "### Определение актуального периода для анализа"
   ]
  },
  {
   "cell_type": "markdown",
   "metadata": {},
   "source": [
    "**<font color=\"maroon\">Учитывая что компьютерные игры, относительно новая и динамично меняющийся индустрия, нужно взять не большой временной интервал, начиная с <font color=\"blue\">2014</font> года.<font color=\"maroon\">**"
   ]
  },
  {
   "cell_type": "code",
   "execution_count": 25,
   "metadata": {},
   "outputs": [],
   "source": [
    "df_actual = df[df['year_of_release'] >= 2014]"
   ]
  },
  {
   "cell_type": "markdown",
   "metadata": {},
   "source": [
    " ### Перспективные платформы"
   ]
  },
  {
   "cell_type": "code",
   "execution_count": 26,
   "metadata": {},
   "outputs": [
    {
     "data": {
      "image/png": "[encoded data removed]",
      "text/plain": [
       "<Figure size 720x720 with 1 Axes>"
      ]
     },
     "metadata": {
      "needs_background": "light"
     },
     "output_type": "display_data"
    }
   ],
   "source": [
    "for platform in df_actual['platform'].unique():\n",
    "    pd.Series(data=[df_actual[(df_actual['platform']==platform)&(df_actual['year_of_release']==year)]['all_sales'].sum() \\\n",
    "                for year in sorted(df_actual['year_of_release'].unique())],\n",
    "        index=sorted(df_actual['year_of_release'].unique()),\n",
    "        name=platform\n",
    "    ).plot(\n",
    "        figsize=(10,10),\n",
    "        legend=True\n",
    "    )"
   ]
  },
  {
   "cell_type": "code",
   "execution_count": 27,
   "metadata": {},
   "outputs": [],
   "source": [
    "potential_platform = ['PS4', 'XOne', '3DS', 'PC']"
   ]
  },
  {
   "cell_type": "markdown",
   "metadata": {},
   "source": [
    "**<font color=\"maroon\">Выберем платформы с наибольшими возможными продажами в 2017 году, учитывая, что данные за 2016 год не полные, и продажи каждой консоли в этом году еще могут вырасти.<font color=\"maroon\">**"
   ]
  },
  {
   "cell_type": "code",
   "execution_count": 28,
   "metadata": {},
   "outputs": [],
   "source": [
    "falling_platforms = [platform for platform in df_actual['platform'].unique() if platform not in potential_platform]"
   ]
  },
  {
   "cell_type": "code",
   "execution_count": 29,
   "metadata": {},
   "outputs": [
    {
     "data": {
      "image/png": "[encoded data removed]",
      "text/plain": [
       "<Figure size 432x288 with 1 Axes>"
      ]
     },
     "metadata": {
      "needs_background": "light"
     },
     "output_type": "display_data"
    }
   ],
   "source": [
    "pd.Series(\n",
    "    data=[(2016-df[df['year_of_release']!=0].groupby('platform')['year_of_release'].min()[platform]) for platform in falling_platforms],\n",
    "    index=falling_platforms\n",
    ").plot(\n",
    "    kind='bar',\n",
    "    title='Срок существования каждой из консолей, чьи продажи падали.'\n",
    ")\n",
    "plt.show()"
   ]
  },
  {
   "cell_type": "markdown",
   "metadata": {},
   "source": [
    "**<font color=\"maroon\">Получается, что платформы ''<font color=\"blue\">PS3</font>'', '<font color=\"blue\">X360</font>', '<font color=\"blue\">PSP</font>' уже на рынке более 10 лет, следовательно сильно устарели, игры постепенно перестают на них выходить, и продажи начинают падать, а продажи платформ '<font color=\"blue\">WiiU</font>', '<font color=\"blue\">PSV</font>' практически не падают, а остаются стабильно низкими, скорее всего потому, что они являются портативными консолями, которые не сыскали популярности, как '<font color=\"blue\">PSP</font>', и востребованы в основном в регионе '<font color='orange'>JP</font>'.**</font>"
   ]
  },
  {
   "cell_type": "markdown",
   "metadata": {},
   "source": [
    " ### Диаграммы размаха"
   ]
  },
  {
   "cell_type": "code",
   "execution_count": 30,
   "metadata": {},
   "outputs": [
    {
     "data": {
      "image/png": "[encoded data removed]",
      "text/plain": [
       "<Figure size 720x720 with 1 Axes>"
      ]
     },
     "metadata": {
      "needs_background": "light"
     },
     "output_type": "display_data"
    }
   ],
   "source": [
    "df_actual[df_actual['all_sales'] <= 20].boxplot(column='all_sales', by='platform', figsize=(10, 10))\n",
    "plt.ylim(0, 20)\n",
    "plt.show()"
   ]
  },
  {
   "cell_type": "code",
   "execution_count": 31,
   "metadata": {},
   "outputs": [
    {
     "data": {
      "image/png": "[encoded data removed]",
      "text/plain": [
       "<Figure size 720x720 with 1 Axes>"
      ]
     },
     "metadata": {
      "needs_background": "light"
     },
     "output_type": "display_data"
    }
   ],
   "source": [
    "df_actual[df_actual['all_sales'] <= 2].boxplot(column='all_sales', by='platform', figsize=(10, 10))\n",
    "plt.ylim(0, 2)\n",
    "plt.show()"
   ]
  },
  {
   "cell_type": "markdown",
   "metadata": {},
   "source": [
    "**<font color=\"maroon\">У всех платформ наблюдается множество выбросов, из-за чего продажи на всех платформах скошенны вправо (вверх на диаграмме размаха), это показывает, что независимо от платформы, часто появляются очень популярные игры, с большими продажами. А медианное значение у всех платформ находится в промежутке от <font color=\"blue\">0</font> до <font color=\"blue\">1/4</font>  млн.<font color=\"maroon\">**"
   ]
  },
  {
   "cell_type": "markdown",
   "metadata": {},
   "source": [
    "### Влияние отзывов критиков и пользователей на продажи"
   ]
  },
  {
   "cell_type": "code",
   "execution_count": 32,
   "metadata": {},
   "outputs": [
    {
     "data": {
      "image/png": "[encoded data removed]",
      "text/plain": [
       "<Figure size 432x288 with 1 Axes>"
      ]
     },
     "metadata": {
      "needs_background": "light"
     },
     "output_type": "display_data"
    },
    {
     "data": {
      "image/png": "[encoded data removed]",
      "text/plain": [
       "<Figure size 432x288 with 1 Axes>"
      ]
     },
     "metadata": {
      "needs_background": "light"
     },
     "output_type": "display_data"
    },
    {
     "name": "stdout",
     "output_type": "stream",
     "text": [
      "critic_score - all_sales: 0.40266141068104083\n",
      "user_score - all_sales: -0.043185859969767905\n",
      "\n",
      "\n",
      "\n",
      "\n",
      "\n"
     ]
    },
    {
     "data": {
      "image/png": "[encoded data removed]",
      "text/plain": [
       "<Figure size 432x288 with 1 Axes>"
      ]
     },
     "metadata": {
      "needs_background": "light"
     },
     "output_type": "display_data"
    },
    {
     "data": {
      "image/png": "[encoded data removed]",
      "text/plain": [
       "<Figure size 432x288 with 1 Axes>"
      ]
     },
     "metadata": {
      "needs_background": "light"
     },
     "output_type": "display_data"
    },
    {
     "name": "stdout",
     "output_type": "stream",
     "text": [
      "critic_score - all_sales: 0.42867694370333226\n",
      "user_score - all_sales: -0.09173434626358005\n",
      "\n",
      "\n",
      "\n",
      "\n",
      "\n"
     ]
    },
    {
     "data": {
      "image/png": "[encoded data removed]",
      "text/plain": [
       "<Figure size 432x288 with 1 Axes>"
      ]
     },
     "metadata": {
      "needs_background": "light"
     },
     "output_type": "display_data"
    },
    {
     "data": {
      "image/png": "[encoded data removed]",
      "text/plain": [
       "<Figure size 432x288 with 1 Axes>"
      ]
     },
     "metadata": {
      "needs_background": "light"
     },
     "output_type": "display_data"
    },
    {
     "name": "stdout",
     "output_type": "stream",
     "text": [
      "critic_score - all_sales: 0.31411749286905105\n",
      "user_score - all_sales: 0.27984988973168434\n",
      "\n",
      "\n",
      "\n",
      "\n",
      "\n"
     ]
    },
    {
     "data": {
      "image/png": "[encoded data removed]",
      "text/plain": [
       "<Figure size 432x288 with 1 Axes>"
      ]
     },
     "metadata": {
      "needs_background": "light"
     },
     "output_type": "display_data"
    },
    {
     "data": {
      "image/png": "[encoded data removed]",
      "text/plain": [
       "<Figure size 432x288 with 1 Axes>"
      ]
     },
     "metadata": {
      "needs_background": "light"
     },
     "output_type": "display_data"
    },
    {
     "name": "stdout",
     "output_type": "stream",
     "text": [
      "critic_score - all_sales: 0.17463413769350036\n",
      "user_score - all_sales: -0.08997391075956201\n",
      "\n",
      "\n",
      "\n",
      "\n",
      "\n"
     ]
    }
   ],
   "source": [
    "for platform in potential_platform:\n",
    "    df_actual[(df_actual['platform']==platform)].plot(kind='scatter', x='user_score', y='all_sales', \\\n",
    "        title=f'Зависимость продаж от отзывов пользователей на платформе {platform}')\n",
    "    plt.show()\n",
    "    df_actual[(df_actual['platform']==platform)&(df_actual['critic_score']!=-5)].plot(kind='scatter', x='critic_score', y='all_sales', \\\n",
    "        title=f'Зависимость продаж от отзывов критиков на платформе {platform}')\n",
    "    plt.xlim(0,100)\n",
    "    plt.show()\n",
    "    for score in ['critic_score', 'user_score']:\n",
    "        print(f\"{score} - all_sales: {df_actual.loc[(df_actual['platform']==platform)&(df_actual['critic_score']!=-5),'all_sales'].corr(df_actual.loc[(df_actual['platform']==platform)&(df_actual['critic_score']!=-5), score])}\")\n",
    "    for _ in range(5):\n",
    "        print()"
   ]
  },
  {
   "cell_type": "markdown",
   "metadata": {},
   "source": [
    "**<font color=\"maroon\">Корреляции продаж с рейтингами пользователей нет, однако в случае с рейтингами критиков, можно заметить, что при высокой оценке, начинают появлятся игры с высокими продажами, следовательно, игры с высокой оценкой критиков часто продаются лучше, чем игры с более низкой оценкой.<font color=\"maroon\">**"
   ]
  },
  {
   "cell_type": "markdown",
   "metadata": {},
   "source": [
    "### Влияние жанров"
   ]
  },
  {
   "cell_type": "code",
   "execution_count": 33,
   "metadata": {},
   "outputs": [
    {
     "data": {
      "image/png": "[encoded data removed]",
      "text/plain": [
       "<Figure size 432x288 with 1 Axes>"
      ]
     },
     "metadata": {
      "needs_background": "light"
     },
     "output_type": "display_data"
    }
   ],
   "source": [
    "df_actual['genre'].value_counts().sort_values().plot(kind='barh', title='Распределение жанров игр')\n",
    "plt.show()"
   ]
  },
  {
   "cell_type": "markdown",
   "metadata": {},
   "source": [
    "**<font color=\"maroon\">Самые популярные жанры <font color=\"blue\">Action</font>, <font color=\"blue\">Role-Playing</font>, <font color=\"blue\">Adventure</font>.<font color=\"maroon\">**"
   ]
  },
  {
   "cell_type": "code",
   "execution_count": 34,
   "metadata": {},
   "outputs": [
    {
     "data": {
      "image/png": "[encoded data removed]",
      "text/plain": [
       "<Figure size 432x288 with 1 Axes>"
      ]
     },
     "metadata": {
      "needs_background": "light"
     },
     "output_type": "display_data"
    }
   ],
   "source": [
    "df_actual.groupby('genre')['all_sales'].median().sort_values().plot(kind='barh', title='Медианная прибыль одной игры различных жанров')\n",
    "plt.show()"
   ]
  },
  {
   "cell_type": "markdown",
   "metadata": {},
   "source": [
    "**<font color=\"maroon\">Самые прибыльные жанры <font color=\"blue\">Shooter</font>, <font color=\"blue\">Sports</font>, <font color=\"blue\">Platform</font>.<font color=\"maroon\">**"
   ]
  },
  {
   "cell_type": "markdown",
   "metadata": {},
   "source": [
    "## Портрет пользователей в разных регионах"
   ]
  },
  {
   "cell_type": "code",
   "execution_count": 35,
   "metadata": {},
   "outputs": [],
   "source": [
    "def user_portrait_by_region(region):\n",
    "        df_actual.groupby('platform')[f'{region.lower()}_sales'].sum().sort_values(ascending=False).plot(\n",
    "            kind='pie', fontsize=8, ylabel='', title='Круговая диаграмма продаж c разбивкой по платформам')\n",
    "        plt.show()\n",
    "        print(f'Пять платформ лидирующих по продажам в регионе {region}:')\n",
    "        print(df_actual.groupby('platform')[f'{region.lower()}_sales'].sum().sort_values(ascending=False).head(), '\\n')\n",
    "        df_actual.groupby('genre')[f'{region.lower()}_sales'].sum().sort_values(ascending=False).plot(\n",
    "            kind='pie', fontsize=8, ylabel='', title='Круговая диаграмма продаж c разбивкой по жанрам')\n",
    "        plt.show()\n",
    "        print(f'Пять жанров лидирующих по продажам в регионе {region}:')\n",
    "        print(df_actual.groupby('genre')[f'{region.lower()}_sales'].sum().sort_values(ascending=False).head(), '\\n')\n",
    "        df_actual.groupby('rating')[f'{region.lower()}_sales'].sum().sort_values(ascending=False).plot(\n",
    "            kind='pie', fontsize=8, ylabel='', title='Круговая диаграмма продаж c разбивкой по возрастным рейтингам')\n",
    "        plt.show()\n",
    "        print(f'Пять возрастных рейтингов лидирующих по продажам в регионе {region}:')\n",
    "        print(df_actual.groupby('rating')[f'{region.lower()}_sales'].sum().sort_values(ascending=False), '\\n')"
   ]
  },
  {
   "cell_type": "markdown",
   "metadata": {},
   "source": [
    "### Портрет пользователя из <font color=\"orange\">Северной Америки</font>"
   ]
  },
  {
   "cell_type": "code",
   "execution_count": 36,
   "metadata": {},
   "outputs": [
    {
     "data": {
      "image/png": "[encoded data removed]",
      "text/plain": [
       "<Figure size 432x288 with 1 Axes>"
      ]
     },
     "metadata": {},
     "output_type": "display_data"
    },
    {
     "name": "stdout",
     "output_type": "stream",
     "text": [
      "Пять платформ лидирующих по продажам в регионе NA:\n",
      "platform\n",
      "PS4     98.61\n",
      "XOne    81.27\n",
      "X360    28.30\n",
      "3DS     22.64\n",
      "PS3     22.05\n",
      "Name: na_sales, dtype: float64 \n",
      "\n"
     ]
    },
    {
     "data": {
      "image/png": "[encoded data removed]",
      "text/plain": [
       "<Figure size 432x288 with 1 Axes>"
      ]
     },
     "metadata": {},
     "output_type": "display_data"
    },
    {
     "name": "stdout",
     "output_type": "stream",
     "text": [
      "Пять жанров лидирующих по продажам в регионе NA:\n",
      "genre\n",
      "Shooter         79.02\n",
      "Action          72.53\n",
      "Sports          46.13\n",
      "Role-Playing    33.47\n",
      "Misc            15.05\n",
      "Name: na_sales, dtype: float64 \n",
      "\n"
     ]
    },
    {
     "data": {
      "image/png": "[encoded data removed]",
      "text/plain": [
       "<Figure size 432x288 with 1 Axes>"
      ]
     },
     "metadata": {},
     "output_type": "display_data"
    },
    {
     "name": "stdout",
     "output_type": "stream",
     "text": [
      "Пять возрастных рейтингов лидирующих по продажам в регионе NA:\n",
      "rating\n",
      "M        96.42\n",
      "undef    64.72\n",
      "E        50.74\n",
      "T        38.95\n",
      "E10+     33.23\n",
      "Name: na_sales, dtype: float64 \n",
      "\n"
     ]
    }
   ],
   "source": [
    "user_portrait_by_region('NA')"
   ]
  },
  {
   "cell_type": "markdown",
   "metadata": {},
   "source": [
    "### Портрет пользователя из <font color=\"orange\">Европы</font>"
   ]
  },
  {
   "cell_type": "code",
   "execution_count": 37,
   "metadata": {},
   "outputs": [
    {
     "data": {
      "image/png": "[encoded data removed]",
      "text/plain": [
       "<Figure size 432x288 with 1 Axes>"
      ]
     },
     "metadata": {},
     "output_type": "display_data"
    },
    {
     "name": "stdout",
     "output_type": "stream",
     "text": [
      "Пять платформ лидирующих по продажам в регионе EU:\n",
      "platform\n",
      "PS4     130.04\n",
      "XOne     46.25\n",
      "PS3      25.54\n",
      "PC       17.97\n",
      "3DS      16.12\n",
      "Name: eu_sales, dtype: float64 \n",
      "\n"
     ]
    },
    {
     "data": {
      "image/png": "[encoded data removed]",
      "text/plain": [
       "<Figure size 432x288 with 1 Axes>"
      ]
     },
     "metadata": {},
     "output_type": "display_data"
    },
    {
     "name": "stdout",
     "output_type": "stream",
     "text": [
      "Пять жанров лидирующих по продажам в регионе EU:\n",
      "genre\n",
      "Action          74.68\n",
      "Shooter         65.52\n",
      "Sports          45.73\n",
      "Role-Playing    28.17\n",
      "Racing          14.13\n",
      "Name: eu_sales, dtype: float64 \n",
      "\n"
     ]
    },
    {
     "data": {
      "image/png": "[encoded data removed]",
      "text/plain": [
       "<Figure size 432x288 with 1 Axes>"
      ]
     },
     "metadata": {},
     "output_type": "display_data"
    },
    {
     "name": "stdout",
     "output_type": "stream",
     "text": [
      "Пять возрастных рейтингов лидирующих по продажам в регионе EU:\n",
      "rating\n",
      "M        93.44\n",
      "undef    58.95\n",
      "E        58.06\n",
      "T        34.07\n",
      "E10+     26.16\n",
      "Name: eu_sales, dtype: float64 \n",
      "\n"
     ]
    }
   ],
   "source": [
    "user_portrait_by_region('EU')"
   ]
  },
  {
   "cell_type": "markdown",
   "metadata": {},
   "source": [
    "### Портрет пользователя из <font color=\"orange\">Японии</font>"
   ]
  },
  {
   "cell_type": "code",
   "execution_count": 38,
   "metadata": {},
   "outputs": [
    {
     "data": {
      "image/png": "[encoded data removed]",
      "text/plain": [
       "<Figure size 432x288 with 1 Axes>"
      ]
     },
     "metadata": {},
     "output_type": "display_data"
    },
    {
     "name": "stdout",
     "output_type": "stream",
     "text": [
      "Пять платформ лидирующих по продажам в регионе JP:\n",
      "platform\n",
      "3DS     44.24\n",
      "PS4     15.02\n",
      "PSV     14.54\n",
      "PS3     11.22\n",
      "WiiU     7.31\n",
      "Name: jp_sales, dtype: float64 \n",
      "\n"
     ]
    },
    {
     "data": {
      "image/png": "[encoded data removed]",
      "text/plain": [
       "<Figure size 432x288 with 1 Axes>"
      ]
     },
     "metadata": {},
     "output_type": "display_data"
    },
    {
     "name": "stdout",
     "output_type": "stream",
     "text": [
      "Пять жанров лидирующих по продажам в регионе JP:\n",
      "genre\n",
      "Role-Playing    31.16\n",
      "Action          29.58\n",
      "Fighting         6.37\n",
      "Misc             5.61\n",
      "Shooter          4.87\n",
      "Name: jp_sales, dtype: float64 \n",
      "\n"
     ]
    },
    {
     "data": {
      "image/png": "[encoded data removed]",
      "text/plain": [
       "<Figure size 432x288 with 1 Axes>"
      ]
     },
     "metadata": {},
     "output_type": "display_data"
    },
    {
     "name": "stdout",
     "output_type": "stream",
     "text": [
      "Пять возрастных рейтингов лидирующих по продажам в регионе JP:\n",
      "rating\n",
      "undef    56.90\n",
      "T        14.78\n",
      "E         8.94\n",
      "M         8.01\n",
      "E10+      4.46\n",
      "Name: jp_sales, dtype: float64 \n",
      "\n"
     ]
    }
   ],
   "source": [
    "user_portrait_by_region('JP')"
   ]
  },
  {
   "cell_type": "markdown",
   "metadata": {},
   "source": [
    "### Вывод из анализа портретов пользователей из различных регионов"
   ]
  },
  {
   "cell_type": "markdown",
   "metadata": {},
   "source": [
    "- **<font color=\"maroon\">Во всех регионах популярны '<font color=\"blue\">PS4</font>', '<font color=\"blue\">3DS</font>', '<font color=\"blue\">PS3</font>'. В регионах '<font color=\"orange\">NA</font>' и '<font color=\"orange\">EU</font>' особо популярна '<font color=\"blue\">XOne</font>'. В регионе '<font color=\"orange\">EU</font>' также популярна '<font color=\"blue\">PC</font>', в регионе '<font color=\"orange\">JP</font>' - платформа '<font color=\"blue\">WiiU</font>' и '<font color=\"blue\">PSV</font>', а в регионе '<font color=\"orange\">NA</font>' популярна платформа '<font color=\"blue\">X360</font>'.<font color=\"maroon\">**\n",
    "    \n",
    "- **<font color=\"maroon\">Во всех регионах популярны жанры '<font color=\"blue\">Action</font>', '<font color=\"blue\">Role-Playing</font>', '<font color=\"blue\">Shooter</font>'. В регионах '<font color=\"orange\">NA</font>' и '<font color=\"orange\">EU</font>' популярен  жанр '<font color=\"blue\">Sports</font>'. В регионах '<font color=\"orange\">NA</font>' и '<font color=\"orange\">JP</font>' популярен жанр '<font color=\"blue\">Misc</font>'. В регионе '<font color=\"orange\">EU</font>' популярен жанр '<font color=\"blue\">Racing</font>', а в регионе '<font color=\"orange\">JP</font>' - жанр '<font color=\"blue\">Fighting</font>'.<font color=\"maroon\">**\n",
    "    \n",
    "- **<font color=\"maroon\"> В регионах '<font color=\"orange\">NA</font>' и '<font color=\"orange\">EU</font>' больше всего играми увлекаются взрослые, а в '<font color=\"orange\">JP</font>' - подростки. Также, если учитывать гипотезу о происхождении пропусков в столбце '<font color=\"green\">rating</font>', исходи из доли можно предположить что в регионах '<font color=\"orange\">NA</font>' и '<font color=\"orange\">EU</font>' в основном предпочитают игры выпущенные в <font color=\"orange\">Северной Америке</font>,  а в регионе '<font color=\"orange\">JP</font>' - игры из других регионов, скорее всего отечественного производства.**</font>"
   ]
  },
  {
   "cell_type": "markdown",
   "metadata": {},
   "source": [
    "## Проверка гипотез"
   ]
  },
  {
   "cell_type": "markdown",
   "metadata": {},
   "source": [
    "### Средние пользовательские рейтинги платформ '<font color=\"blue\">Xbox One</font>' и '<font color=\"blue\">PC</font>' одинаковые"
   ]
  },
  {
   "cell_type": "code",
   "execution_count": 39,
   "metadata": {},
   "outputs": [
    {
     "name": "stdout",
     "output_type": "stream",
     "text": [
      "pvalue = 11.6%\n",
      "Нулевую гипотезу отбросить не получится\n"
     ]
    }
   ],
   "source": [
    "#нулевая гипотеза - Средние пользовательские рейтинги платформ Xbox One и PC одинаковые\n",
    "#альтернативная - Средние пользовательские рейтинги платформ Xbox One и PC разные\n",
    "alpha = .05\n",
    "result = st.ttest_ind(df_actual.loc[(df_actual['platform'] == 'PC')&(~df_actual['user_score'].isna()), 'user_score'], \\\n",
    "    df_actual.loc[(df_actual['platform'] == 'XOne')&(~df_actual['user_score'].isna()), 'user_score'], equal_var=False) \n",
    "print('pvalue = {:.1%}'.format(result.pvalue))\n",
    "if result.pvalue < alpha:\n",
    "    print('Нулевую гипотезу следуют отбросить')\n",
    "else:\n",
    "    print('Нулевую гипотезу отбросить не получится')"
   ]
  },
  {
   "cell_type": "markdown",
   "metadata": {},
   "source": [
    "**<font color=\"maroon\">У нас нет оснований утверждать, что средние пользовательские рейтинги игр, выходивших на платформах '<font color=\"blue\">Xbox One</font>' и '<font color=\"blue\">PC</font>', значимо различаются.**</font>"
   ]
  },
  {
   "cell_type": "markdown",
   "metadata": {},
   "source": [
    "### Средние пользовательские рейтинги жанров '<font color=\"blue\">Action</font>' и '<font color=\"blue\">Sports</font>' разные"
   ]
  },
  {
   "cell_type": "code",
   "execution_count": 40,
   "metadata": {
    "scrolled": true
   },
   "outputs": [
    {
     "name": "stdout",
     "output_type": "stream",
     "text": [
      "pvalue = 0.0000000000012%\n",
      "Нулевую гипотезу следуют отбросить\n"
     ]
    }
   ],
   "source": [
    "#нулевая гипотеза - Средние пользовательские рейтинги жанров Action и Sports равны..\n",
    "#альтернативная - Средние пользовательские рейтинги жанров Action и Sports разные.\n",
    "alpha = .05\n",
    "result = st.ttest_ind(df_actual.loc[(df_actual['genre'] == 'Action')&(~df_actual['user_score'].isna()), 'user_score'], \\\n",
    "    df_actual.loc[(df_actual['genre'] == 'Sports')&(~df_actual['user_score'].isna()), 'user_score'], equal_var=False) \n",
    "print('pvalue = {:.13%}'.format(result.pvalue))\n",
    "if result.pvalue < alpha:\n",
    "    print('Нулевую гипотезу следуют отбросить')\n",
    "else:\n",
    "    print('Нулевую гипотезу отбросить не получится')"
   ]
  },
  {
   "cell_type": "markdown",
   "metadata": {},
   "source": [
    "**<font color=\"maroon\">У нас нет оснований утверждать, что средние пользовательские рейтинги игр, принадлежащих к жанрам '<font color=\"blue\">Action</font>' и '<font color=\"blue\">Sports</font>', равны.**</font>"
   ]
  },
  {
   "cell_type": "markdown",
   "metadata": {},
   "source": [
    "### Пояснение способа проверки гипотез"
   ]
  },
  {
   "cell_type": "markdown",
   "metadata": {},
   "source": [
    "**<font color=\"maroon\">Составим гипотезы с упором на то, что в нулевой стоит проверять равенство, затем проверим их с помощью t-теста, с помощью библиотеки scipy, уровень статистической значимости зададим 5-тью процентами, а т.к. нельзя утверждать равенство генеральных выборок, параметр 'equal_var' зададим значением False.<font color=\"maroon\">**"
   ]
  },
  {
   "cell_type": "markdown",
   "metadata": {},
   "source": [
    "## Общий вывод"
   ]
  },
  {
   "cell_type": "markdown",
   "metadata": {},
   "source": [
    "<b><font color=\"maroon\">\n",
    "- Датафрейм представляет собой набор данных о играх продающихся до 2016 года. Названия столбцов были приведены к нижнему регистру. Пропуски в столбце с оцеками критиков, возрастными рейтингами, годами выпуска и названиями жанра были заменены на значения-заглушки, в столбце с оценками пользователей - оставлены, строки с пропусками в столбце с названиями игр - удалены. В некоторых столбцах был изменен тип данных на правильный. В столбце c возрастными рейтингами некоторые малочисленные значения были заменены на более распространенные или были удалены. Выдвинуто предположение о возникновение пропусков в том же столбце, связанное с тем, где, асоциация, определяющая возрастной рейтинг компьютерных игр, предоставляет свои услуги. Был добавлен новый столбец с суммарными продажами для каждой игры. \n",
    "\n",
    "- Был сделан вывод, что не все данные будут актуальны для анализа. Был выбран срок актуальности платформ в 10 лет. Актуальный период был выбран с 2014 по 2016 года. Были выявлены перспективные платформы, исходя из графика продаж в акутуальный период. Были выявлены причины падения продаж некоторых платформ. Была выявленна прямая зависимость продаж от рейтинга критиков. Были выявлены самые прибыльные жанры. Для каждого региона был составлен портрет пользователя (самые прибыльные платформы, жанры, возрастные рейтинги). Были проверены некоторые гипотезы.\n",
    "\n",
    "- В 2017 году следует обратить внимание на игры выходящие на платформах '<font color=\"blue\">PC</font>', '<font color=\"blue\">PS4</font>', '<font color=\"blue\">XOne</font>', '<font color=\"blue\">3DS</font>'. На платформах '<font color=\"blue\">PC</font>', '<font color=\"blue\">PS4</font>', '<font color=\"blue\">XOne</font>' стоит обратить внимание на игры в  жанрах '<font color=\"blue\">Shooter</font>', '<font color=\"blue\">Action</font>', '<font color=\"blue\">Sports</font>', и имеющих возрастной рейтинг '<font color=\"blue\">M</font>'. А на платформе '<font color=\"blue\">3DS</font>' - '<font color=\"blue\">Action</font>', '<font color=\"blue\">Role-Playing</font>', '<font color=\"blue\">Fighting</font>'; возрастной рейтинг - '<font color=\"blue\">T</font>'. Также необходимо выбирать только, те игры, которые перед выпуском, получали высокие оценки критиков."
   ]
  },
  {
   "cell_type": "markdown",
   "metadata": {},
   "source": [
    "### Пояснение"
   ]
  },
  {
   "cell_type": "markdown",
   "metadata": {},
   "source": [
    "<font color=\"maroon\">**Платформы '<font color=\"blue\">PC</font>', '<font color=\"blue\">PS4</font>', '<font color=\"blue\">XOne</font>' популярны в регионах '<font color=\"orange\">NA</font>' и '<font color=\"orange\">EU</font>', поэтому, подбирая лучшие жанры и возрастной рейтинг для этих платформ, я опирался на портрет пользователей в этих регионах. Аналогично '<font color=\"blue\">3DS</font>' - популярна в регионе '<font color=\"orange\">JP</font>',возрастной рейтинг и жанры подобранны по портрету пользователя.**</font>"
   ]
  }
 ],
 "metadata": {
  "ExecuteTimeLog": [
   {
    "duration": 389,
    "start_time": "2023-01-17T10:37:01.990Z"
   },
   {
    "duration": 199,
    "start_time": "2023-01-17T10:42:52.592Z"
   },
   {
    "duration": 22,
    "start_time": "2023-01-17T10:42:57.567Z"
   },
   {
    "duration": 18,
    "start_time": "2023-01-17T10:43:36.591Z"
   },
   {
    "duration": 80,
    "start_time": "2023-01-17T10:45:21.875Z"
   },
   {
    "duration": 4,
    "start_time": "2023-01-17T10:45:33.786Z"
   },
   {
    "duration": 14,
    "start_time": "2023-01-17T10:45:47.362Z"
   },
   {
    "duration": 15,
    "start_time": "2023-01-17T10:46:12.111Z"
   },
   {
    "duration": 11,
    "start_time": "2023-01-17T10:46:24.271Z"
   },
   {
    "duration": 4,
    "start_time": "2023-01-17T10:46:34.681Z"
   },
   {
    "duration": 2,
    "start_time": "2023-01-17T10:46:41.855Z"
   },
   {
    "duration": 76,
    "start_time": "2023-01-17T10:46:42.657Z"
   },
   {
    "duration": 21,
    "start_time": "2023-01-17T10:46:43.328Z"
   },
   {
    "duration": 5,
    "start_time": "2023-01-17T10:46:45.404Z"
   },
   {
    "duration": 3,
    "start_time": "2023-01-17T10:46:58.689Z"
   },
   {
    "duration": 19,
    "start_time": "2023-01-17T10:46:59.337Z"
   },
   {
    "duration": 8,
    "start_time": "2023-01-17T10:48:42.508Z"
   },
   {
    "duration": 20,
    "start_time": "2023-01-17T10:48:45.952Z"
   },
   {
    "duration": 15,
    "start_time": "2023-01-17T10:49:36.795Z"
   },
   {
    "duration": 123,
    "start_time": "2023-01-17T10:51:07.106Z"
   },
   {
    "duration": 57,
    "start_time": "2023-01-17T10:51:14.579Z"
   },
   {
    "duration": 26,
    "start_time": "2023-01-17T10:51:17.601Z"
   },
   {
    "duration": 25,
    "start_time": "2023-01-17T10:51:39.960Z"
   },
   {
    "duration": 32,
    "start_time": "2023-01-17T11:02:19.634Z"
   },
   {
    "duration": 5,
    "start_time": "2023-01-17T11:33:56.385Z"
   },
   {
    "duration": 15,
    "start_time": "2023-01-17T11:34:02.166Z"
   },
   {
    "duration": 14,
    "start_time": "2023-01-17T11:34:08.356Z"
   },
   {
    "duration": 4,
    "start_time": "2023-01-17T11:42:30.055Z"
   },
   {
    "duration": 23,
    "start_time": "2023-01-17T11:43:01.878Z"
   },
   {
    "duration": 25,
    "start_time": "2023-01-17T11:43:16.139Z"
   },
   {
    "duration": 8,
    "start_time": "2023-01-17T11:44:41.157Z"
   },
   {
    "duration": 55,
    "start_time": "2023-01-17T11:57:15.895Z"
   },
   {
    "duration": 51,
    "start_time": "2023-01-17T11:57:35.181Z"
   },
   {
    "duration": 52,
    "start_time": "2023-01-17T12:00:27.707Z"
   },
   {
    "duration": 13,
    "start_time": "2023-01-17T12:01:13.309Z"
   },
   {
    "duration": 9,
    "start_time": "2023-01-17T12:01:28.833Z"
   },
   {
    "duration": 11,
    "start_time": "2023-01-17T16:38:37.749Z"
   },
   {
    "duration": 3,
    "start_time": "2023-01-17T16:38:46.811Z"
   },
   {
    "duration": 79,
    "start_time": "2023-01-17T16:38:46.817Z"
   },
   {
    "duration": 22,
    "start_time": "2023-01-17T16:38:46.898Z"
   },
   {
    "duration": 20,
    "start_time": "2023-01-17T16:38:46.923Z"
   },
   {
    "duration": 18,
    "start_time": "2023-01-17T16:38:46.945Z"
   },
   {
    "duration": 8,
    "start_time": "2023-01-17T16:38:46.965Z"
   },
   {
    "duration": 22,
    "start_time": "2023-01-17T16:38:46.975Z"
   },
   {
    "duration": 4,
    "start_time": "2023-01-17T16:38:46.999Z"
   },
   {
    "duration": 27,
    "start_time": "2023-01-17T16:38:47.005Z"
   },
   {
    "duration": 30,
    "start_time": "2023-01-17T16:38:47.035Z"
   },
   {
    "duration": 4081,
    "start_time": "2023-01-17T16:45:44.604Z"
   },
   {
    "duration": 70,
    "start_time": "2023-01-17T16:45:48.689Z"
   },
   {
    "duration": 15,
    "start_time": "2023-01-17T16:45:48.762Z"
   },
   {
    "duration": 26,
    "start_time": "2023-01-17T16:45:48.780Z"
   },
   {
    "duration": 15,
    "start_time": "2023-01-17T16:45:48.808Z"
   },
   {
    "duration": 16,
    "start_time": "2023-01-17T16:45:48.825Z"
   },
   {
    "duration": 19,
    "start_time": "2023-01-17T16:45:48.843Z"
   },
   {
    "duration": 9,
    "start_time": "2023-01-17T16:45:48.864Z"
   },
   {
    "duration": 14,
    "start_time": "2023-01-17T16:45:48.874Z"
   },
   {
    "duration": 16,
    "start_time": "2023-01-17T16:45:48.891Z"
   },
   {
    "duration": 69,
    "start_time": "2023-01-17T16:45:48.908Z"
   },
   {
    "duration": 16,
    "start_time": "2023-01-17T16:46:13.603Z"
   },
   {
    "duration": 3,
    "start_time": "2023-01-17T16:47:23.260Z"
   },
   {
    "duration": 18,
    "start_time": "2023-01-17T16:50:46.563Z"
   },
   {
    "duration": 1312,
    "start_time": "2023-01-17T16:51:17.282Z"
   },
   {
    "duration": 5,
    "start_time": "2023-01-17T16:53:28.319Z"
   },
   {
    "duration": 22,
    "start_time": "2023-01-17T16:54:52.628Z"
   },
   {
    "duration": 21,
    "start_time": "2023-01-17T16:55:08.041Z"
   },
   {
    "duration": 4,
    "start_time": "2023-01-17T17:01:05.027Z"
   },
   {
    "duration": 63,
    "start_time": "2023-01-17T17:04:42.632Z"
   },
   {
    "duration": 5,
    "start_time": "2023-01-17T17:05:49.684Z"
   },
   {
    "duration": 5,
    "start_time": "2023-01-17T17:06:00.210Z"
   },
   {
    "duration": 4,
    "start_time": "2023-01-17T17:06:00.405Z"
   },
   {
    "duration": 4,
    "start_time": "2023-01-17T17:30:01.442Z"
   },
   {
    "duration": 46,
    "start_time": "2023-01-17T17:38:28.796Z"
   },
   {
    "duration": 9,
    "start_time": "2023-01-17T17:38:40.540Z"
   },
   {
    "duration": 2370,
    "start_time": "2023-01-17T17:38:50.001Z"
   },
   {
    "duration": 70,
    "start_time": "2023-01-17T17:38:52.374Z"
   },
   {
    "duration": 22,
    "start_time": "2023-01-17T17:38:52.447Z"
   },
   {
    "duration": 42,
    "start_time": "2023-01-17T17:38:52.473Z"
   },
   {
    "duration": 19,
    "start_time": "2023-01-17T17:38:52.517Z"
   },
   {
    "duration": 1199,
    "start_time": "2023-01-17T17:38:52.539Z"
   },
   {
    "duration": 925,
    "start_time": "2023-01-17T17:38:53.739Z"
   },
   {
    "duration": 3,
    "start_time": "2023-01-17T17:38:54.666Z"
   },
   {
    "duration": 11,
    "start_time": "2023-01-17T17:38:54.671Z"
   },
   {
    "duration": 6,
    "start_time": "2023-01-17T17:38:54.684Z"
   },
   {
    "duration": 669,
    "start_time": "2023-01-17T17:38:54.692Z"
   },
   {
    "duration": 0,
    "start_time": "2023-01-17T17:38:55.363Z"
   },
   {
    "duration": 0,
    "start_time": "2023-01-17T17:38:55.364Z"
   },
   {
    "duration": 0,
    "start_time": "2023-01-17T17:38:55.365Z"
   },
   {
    "duration": 862,
    "start_time": "2023-01-17T17:40:14.983Z"
   },
   {
    "duration": 6,
    "start_time": "2023-01-17T17:50:26.289Z"
   },
   {
    "duration": 7,
    "start_time": "2023-01-17T17:50:29.180Z"
   },
   {
    "duration": 2215,
    "start_time": "2023-01-17T18:12:32.824Z"
   },
   {
    "duration": 56,
    "start_time": "2023-01-17T18:12:35.042Z"
   },
   {
    "duration": 16,
    "start_time": "2023-01-17T18:12:35.100Z"
   },
   {
    "duration": 17,
    "start_time": "2023-01-17T18:12:35.118Z"
   },
   {
    "duration": 6,
    "start_time": "2023-01-17T18:12:35.136Z"
   },
   {
    "duration": 1159,
    "start_time": "2023-01-17T18:12:35.144Z"
   },
   {
    "duration": 815,
    "start_time": "2023-01-17T18:12:36.305Z"
   },
   {
    "duration": 3,
    "start_time": "2023-01-17T18:12:37.122Z"
   },
   {
    "duration": 36,
    "start_time": "2023-01-17T18:12:37.127Z"
   },
   {
    "duration": 23,
    "start_time": "2023-01-17T18:12:37.166Z"
   },
   {
    "duration": 24,
    "start_time": "2023-01-17T18:12:37.191Z"
   },
   {
    "duration": 1039,
    "start_time": "2023-01-17T18:12:37.217Z"
   },
   {
    "duration": 0,
    "start_time": "2023-01-17T18:12:38.258Z"
   },
   {
    "duration": 0,
    "start_time": "2023-01-17T18:12:38.259Z"
   },
   {
    "duration": 0,
    "start_time": "2023-01-17T18:12:38.260Z"
   },
   {
    "duration": 24,
    "start_time": "2023-01-17T18:15:03.101Z"
   },
   {
    "duration": 48,
    "start_time": "2023-01-17T18:15:13.601Z"
   },
   {
    "duration": 23,
    "start_time": "2023-01-17T18:15:17.301Z"
   },
   {
    "duration": 2119,
    "start_time": "2023-01-17T18:16:34.242Z"
   },
   {
    "duration": 54,
    "start_time": "2023-01-17T18:16:36.363Z"
   },
   {
    "duration": 15,
    "start_time": "2023-01-17T18:16:36.419Z"
   },
   {
    "duration": 16,
    "start_time": "2023-01-17T18:16:36.436Z"
   },
   {
    "duration": 7,
    "start_time": "2023-01-17T18:16:36.454Z"
   },
   {
    "duration": 1278,
    "start_time": "2023-01-17T18:16:36.462Z"
   },
   {
    "duration": 815,
    "start_time": "2023-01-17T18:16:37.742Z"
   },
   {
    "duration": 3,
    "start_time": "2023-01-17T18:16:38.559Z"
   },
   {
    "duration": 29,
    "start_time": "2023-01-17T18:16:38.564Z"
   },
   {
    "duration": 0,
    "start_time": "2023-01-17T18:16:38.595Z"
   },
   {
    "duration": 0,
    "start_time": "2023-01-17T18:16:38.597Z"
   },
   {
    "duration": 0,
    "start_time": "2023-01-17T18:16:38.598Z"
   },
   {
    "duration": 0,
    "start_time": "2023-01-17T18:16:38.599Z"
   },
   {
    "duration": 0,
    "start_time": "2023-01-17T18:16:38.600Z"
   },
   {
    "duration": 0,
    "start_time": "2023-01-17T18:16:38.602Z"
   },
   {
    "duration": 7,
    "start_time": "2023-01-17T18:17:14.458Z"
   },
   {
    "duration": 23,
    "start_time": "2023-01-17T18:17:20.703Z"
   },
   {
    "duration": 6,
    "start_time": "2023-01-17T18:17:37.060Z"
   },
   {
    "duration": 7,
    "start_time": "2023-01-17T18:17:48.790Z"
   },
   {
    "duration": 40,
    "start_time": "2023-01-17T18:18:38.854Z"
   },
   {
    "duration": 16,
    "start_time": "2023-01-17T18:18:59.833Z"
   },
   {
    "duration": 10,
    "start_time": "2023-01-17T18:19:42.213Z"
   },
   {
    "duration": 9,
    "start_time": "2023-01-17T18:20:10.537Z"
   },
   {
    "duration": 4,
    "start_time": "2023-01-17T18:20:30.126Z"
   },
   {
    "duration": 7,
    "start_time": "2023-01-17T18:25:51.010Z"
   },
   {
    "duration": 15,
    "start_time": "2023-01-17T18:26:09.109Z"
   },
   {
    "duration": 16,
    "start_time": "2023-01-17T18:26:11.415Z"
   },
   {
    "duration": 8,
    "start_time": "2023-01-17T18:26:16.621Z"
   },
   {
    "duration": 9,
    "start_time": "2023-01-17T18:26:43.387Z"
   },
   {
    "duration": 6,
    "start_time": "2023-01-17T18:26:52.344Z"
   },
   {
    "duration": 6,
    "start_time": "2023-01-17T18:26:56.747Z"
   },
   {
    "duration": 62,
    "start_time": "2023-01-17T18:28:07.186Z"
   },
   {
    "duration": 16,
    "start_time": "2023-01-17T18:28:09.100Z"
   },
   {
    "duration": 19,
    "start_time": "2023-01-17T18:28:18.029Z"
   },
   {
    "duration": 8,
    "start_time": "2023-01-17T18:29:09.338Z"
   },
   {
    "duration": 564,
    "start_time": "2023-01-17T18:31:52.372Z"
   },
   {
    "duration": 593,
    "start_time": "2023-01-17T18:33:54.327Z"
   },
   {
    "duration": 587,
    "start_time": "2023-01-17T18:52:05.787Z"
   },
   {
    "duration": 18,
    "start_time": "2023-01-17T18:52:35.960Z"
   },
   {
    "duration": 5,
    "start_time": "2023-01-17T18:53:07.238Z"
   },
   {
    "duration": 6,
    "start_time": "2023-01-17T18:53:15.863Z"
   },
   {
    "duration": 11,
    "start_time": "2023-01-17T18:53:32.303Z"
   },
   {
    "duration": 6,
    "start_time": "2023-01-17T18:53:33.795Z"
   },
   {
    "duration": 253,
    "start_time": "2023-01-17T19:43:52.509Z"
   },
   {
    "duration": 2284,
    "start_time": "2023-01-17T19:44:04.804Z"
   },
   {
    "duration": 57,
    "start_time": "2023-01-17T19:44:07.091Z"
   },
   {
    "duration": 16,
    "start_time": "2023-01-17T19:44:07.150Z"
   },
   {
    "duration": 26,
    "start_time": "2023-01-17T19:44:07.168Z"
   },
   {
    "duration": 16,
    "start_time": "2023-01-17T19:44:07.196Z"
   },
   {
    "duration": 1232,
    "start_time": "2023-01-17T19:44:07.214Z"
   },
   {
    "duration": 807,
    "start_time": "2023-01-17T19:44:08.448Z"
   },
   {
    "duration": 3,
    "start_time": "2023-01-17T19:44:09.257Z"
   },
   {
    "duration": 15,
    "start_time": "2023-01-17T19:44:09.263Z"
   },
   {
    "duration": 12,
    "start_time": "2023-01-17T19:44:09.281Z"
   },
   {
    "duration": 8,
    "start_time": "2023-01-17T19:44:09.295Z"
   },
   {
    "duration": 714,
    "start_time": "2023-01-17T19:44:09.305Z"
   },
   {
    "duration": 0,
    "start_time": "2023-01-17T19:44:10.021Z"
   },
   {
    "duration": 0,
    "start_time": "2023-01-17T19:44:10.022Z"
   },
   {
    "duration": 0,
    "start_time": "2023-01-17T19:44:10.023Z"
   },
   {
    "duration": 5,
    "start_time": "2023-01-17T19:48:47.051Z"
   },
   {
    "duration": 8,
    "start_time": "2023-01-17T19:53:04.427Z"
   },
   {
    "duration": 54,
    "start_time": "2023-01-17T19:53:36.715Z"
   },
   {
    "duration": 5,
    "start_time": "2023-01-17T19:55:49.594Z"
   },
   {
    "duration": 7,
    "start_time": "2023-01-17T19:56:32.566Z"
   },
   {
    "duration": 8,
    "start_time": "2023-01-17T20:00:12.694Z"
   },
   {
    "duration": 77,
    "start_time": "2023-01-17T20:06:24.471Z"
   },
   {
    "duration": 72,
    "start_time": "2023-01-17T20:06:55.174Z"
   },
   {
    "duration": 68,
    "start_time": "2023-01-17T20:08:24.200Z"
   },
   {
    "duration": 143034,
    "start_time": "2023-01-17T20:09:52.699Z"
   },
   {
    "duration": 2443,
    "start_time": "2023-01-17T20:12:31.955Z"
   },
   {
    "duration": 57,
    "start_time": "2023-01-17T20:12:34.401Z"
   },
   {
    "duration": 17,
    "start_time": "2023-01-17T20:12:34.460Z"
   },
   {
    "duration": 41,
    "start_time": "2023-01-17T20:12:34.480Z"
   },
   {
    "duration": 13,
    "start_time": "2023-01-17T20:12:34.523Z"
   },
   {
    "duration": 1307,
    "start_time": "2023-01-17T20:12:34.538Z"
   },
   {
    "duration": 848,
    "start_time": "2023-01-17T20:12:35.847Z"
   },
   {
    "duration": 5,
    "start_time": "2023-01-17T20:12:36.697Z"
   },
   {
    "duration": 14,
    "start_time": "2023-01-17T20:12:36.704Z"
   },
   {
    "duration": 20,
    "start_time": "2023-01-17T20:12:36.721Z"
   },
   {
    "duration": 16,
    "start_time": "2023-01-17T20:12:36.743Z"
   },
   {
    "duration": 151638,
    "start_time": "2023-01-17T20:12:36.761Z"
   },
   {
    "duration": 6,
    "start_time": "2023-01-17T20:15:08.401Z"
   },
   {
    "duration": 6,
    "start_time": "2023-01-17T20:15:08.409Z"
   },
   {
    "duration": 688,
    "start_time": "2023-01-17T20:15:08.417Z"
   },
   {
    "duration": 0,
    "start_time": "2023-01-17T20:15:09.107Z"
   },
   {
    "duration": 0,
    "start_time": "2023-01-17T20:15:09.109Z"
   },
   {
    "duration": 0,
    "start_time": "2023-01-17T20:15:09.110Z"
   },
   {
    "duration": 79394,
    "start_time": "2023-01-17T20:16:02.119Z"
   },
   {
    "duration": 50,
    "start_time": "2023-01-17T20:19:05.302Z"
   },
   {
    "duration": 146504,
    "start_time": "2023-01-17T20:20:24.835Z"
   },
   {
    "duration": 14,
    "start_time": "2023-01-17T20:23:09.115Z"
   },
   {
    "duration": 16,
    "start_time": "2023-01-17T20:23:11.290Z"
   },
   {
    "duration": 6,
    "start_time": "2023-01-17T20:23:56.380Z"
   },
   {
    "duration": 16,
    "start_time": "2023-01-17T20:24:36.243Z"
   },
   {
    "duration": 6,
    "start_time": "2023-01-17T20:25:44.717Z"
   },
   {
    "duration": 4823,
    "start_time": "2023-01-17T20:28:12.266Z"
   },
   {
    "duration": 14,
    "start_time": "2023-01-17T20:28:58.780Z"
   },
   {
    "duration": 2500,
    "start_time": "2023-01-17T20:29:52.195Z"
   },
   {
    "duration": 54,
    "start_time": "2023-01-17T20:29:54.698Z"
   },
   {
    "duration": 19,
    "start_time": "2023-01-17T20:29:54.754Z"
   },
   {
    "duration": 26,
    "start_time": "2023-01-17T20:29:54.775Z"
   },
   {
    "duration": 30,
    "start_time": "2023-01-17T20:29:54.803Z"
   },
   {
    "duration": 1518,
    "start_time": "2023-01-17T20:29:54.836Z"
   },
   {
    "duration": 869,
    "start_time": "2023-01-17T20:29:56.355Z"
   },
   {
    "duration": 14,
    "start_time": "2023-01-17T20:29:57.225Z"
   },
   {
    "duration": 13,
    "start_time": "2023-01-17T20:29:57.241Z"
   },
   {
    "duration": 20,
    "start_time": "2023-01-17T20:29:57.257Z"
   },
   {
    "duration": 12,
    "start_time": "2023-01-17T20:29:57.278Z"
   },
   {
    "duration": 162279,
    "start_time": "2023-01-17T20:29:57.292Z"
   },
   {
    "duration": 6,
    "start_time": "2023-01-17T20:32:39.573Z"
   },
   {
    "duration": 5559,
    "start_time": "2023-01-17T20:32:39.581Z"
   },
   {
    "duration": 6,
    "start_time": "2023-01-17T20:32:45.142Z"
   },
   {
    "duration": 20,
    "start_time": "2023-01-17T20:32:45.150Z"
   },
   {
    "duration": 9,
    "start_time": "2023-01-17T20:32:45.172Z"
   },
   {
    "duration": 709,
    "start_time": "2023-01-17T20:32:45.183Z"
   },
   {
    "duration": 0,
    "start_time": "2023-01-17T20:32:45.895Z"
   },
   {
    "duration": 0,
    "start_time": "2023-01-17T20:32:45.897Z"
   },
   {
    "duration": 0,
    "start_time": "2023-01-17T20:32:45.898Z"
   },
   {
    "duration": 50,
    "start_time": "2023-01-17T20:33:46.388Z"
   },
   {
    "duration": 972,
    "start_time": "2023-01-17T20:34:02.908Z"
   },
   {
    "duration": 8,
    "start_time": "2023-01-17T20:34:05.488Z"
   },
   {
    "duration": 4315,
    "start_time": "2023-01-17T20:45:43.962Z"
   },
   {
    "duration": 2773,
    "start_time": "2023-01-17T20:48:40.642Z"
   },
   {
    "duration": 4,
    "start_time": "2023-01-17T20:49:26.176Z"
   },
   {
    "duration": 4,
    "start_time": "2023-01-17T20:49:30.695Z"
   },
   {
    "duration": 55,
    "start_time": "2023-01-18T07:32:17.153Z"
   },
   {
    "duration": 4584,
    "start_time": "2023-01-18T07:32:56.931Z"
   },
   {
    "duration": 104,
    "start_time": "2023-01-18T07:33:01.518Z"
   },
   {
    "duration": 17,
    "start_time": "2023-01-18T07:33:01.624Z"
   },
   {
    "duration": 29,
    "start_time": "2023-01-18T07:33:01.644Z"
   },
   {
    "duration": 9,
    "start_time": "2023-01-18T07:33:01.675Z"
   },
   {
    "duration": 1258,
    "start_time": "2023-01-18T07:33:01.686Z"
   },
   {
    "duration": 817,
    "start_time": "2023-01-18T07:33:02.951Z"
   },
   {
    "duration": 4,
    "start_time": "2023-01-18T07:33:03.770Z"
   },
   {
    "duration": 35,
    "start_time": "2023-01-18T07:33:03.777Z"
   },
   {
    "duration": 13,
    "start_time": "2023-01-18T07:33:03.816Z"
   },
   {
    "duration": 14,
    "start_time": "2023-01-18T07:33:03.831Z"
   },
   {
    "duration": 11,
    "start_time": "2023-01-18T07:33:03.847Z"
   },
   {
    "duration": 1232,
    "start_time": "2023-01-18T07:33:03.860Z"
   },
   {
    "duration": 0,
    "start_time": "2023-01-18T07:33:05.094Z"
   },
   {
    "duration": 0,
    "start_time": "2023-01-18T07:33:05.096Z"
   },
   {
    "duration": 0,
    "start_time": "2023-01-18T07:33:05.097Z"
   },
   {
    "duration": 0,
    "start_time": "2023-01-18T07:33:05.098Z"
   },
   {
    "duration": 0,
    "start_time": "2023-01-18T07:33:05.100Z"
   },
   {
    "duration": 0,
    "start_time": "2023-01-18T07:33:05.101Z"
   },
   {
    "duration": 0,
    "start_time": "2023-01-18T07:33:05.103Z"
   },
   {
    "duration": 0,
    "start_time": "2023-01-18T07:33:05.104Z"
   },
   {
    "duration": 0,
    "start_time": "2023-01-18T07:33:05.106Z"
   },
   {
    "duration": 19,
    "start_time": "2023-01-18T07:33:41.904Z"
   },
   {
    "duration": 138,
    "start_time": "2023-01-18T07:33:43.766Z"
   },
   {
    "duration": 39,
    "start_time": "2023-01-18T07:34:04.885Z"
   },
   {
    "duration": 97,
    "start_time": "2023-01-18T07:34:29.983Z"
   },
   {
    "duration": 43,
    "start_time": "2023-01-18T08:00:22.762Z"
   },
   {
    "duration": 126257,
    "start_time": "2023-01-18T08:05:43.597Z"
   },
   {
    "duration": 5,
    "start_time": "2023-01-18T08:08:08.774Z"
   },
   {
    "duration": 2450,
    "start_time": "2023-01-18T08:10:28.112Z"
   },
   {
    "duration": 61,
    "start_time": "2023-01-18T08:10:30.565Z"
   },
   {
    "duration": 18,
    "start_time": "2023-01-18T08:10:30.628Z"
   },
   {
    "duration": 44,
    "start_time": "2023-01-18T08:10:30.649Z"
   },
   {
    "duration": 29,
    "start_time": "2023-01-18T08:10:30.694Z"
   },
   {
    "duration": 1126,
    "start_time": "2023-01-18T08:10:30.725Z"
   },
   {
    "duration": 819,
    "start_time": "2023-01-18T08:10:31.853Z"
   },
   {
    "duration": 4,
    "start_time": "2023-01-18T08:10:32.674Z"
   },
   {
    "duration": 22,
    "start_time": "2023-01-18T08:10:32.680Z"
   },
   {
    "duration": 29,
    "start_time": "2023-01-18T08:10:32.705Z"
   },
   {
    "duration": 27,
    "start_time": "2023-01-18T08:10:32.736Z"
   },
   {
    "duration": 27,
    "start_time": "2023-01-18T08:10:32.765Z"
   },
   {
    "duration": 22,
    "start_time": "2023-01-18T08:10:32.794Z"
   },
   {
    "duration": 125501,
    "start_time": "2023-01-18T08:10:32.818Z"
   },
   {
    "duration": 4,
    "start_time": "2023-01-18T08:12:38.321Z"
   },
   {
    "duration": 9,
    "start_time": "2023-01-18T08:12:38.327Z"
   },
   {
    "duration": 18,
    "start_time": "2023-01-18T08:12:38.338Z"
   },
   {
    "duration": 14,
    "start_time": "2023-01-18T08:12:38.358Z"
   },
   {
    "duration": 10,
    "start_time": "2023-01-18T08:12:38.373Z"
   },
   {
    "duration": 1173,
    "start_time": "2023-01-18T08:12:38.385Z"
   },
   {
    "duration": 0,
    "start_time": "2023-01-18T08:12:39.560Z"
   },
   {
    "duration": 0,
    "start_time": "2023-01-18T08:12:39.561Z"
   },
   {
    "duration": 0,
    "start_time": "2023-01-18T08:12:39.563Z"
   },
   {
    "duration": 14,
    "start_time": "2023-01-18T08:16:22.626Z"
   },
   {
    "duration": 12,
    "start_time": "2023-01-18T08:16:26.877Z"
   },
   {
    "duration": 11,
    "start_time": "2023-01-18T08:16:32.976Z"
   },
   {
    "duration": 8,
    "start_time": "2023-01-18T08:16:49.346Z"
   },
   {
    "duration": 6,
    "start_time": "2023-01-18T08:17:26.051Z"
   },
   {
    "duration": 7,
    "start_time": "2023-01-18T08:17:37.669Z"
   },
   {
    "duration": 7,
    "start_time": "2023-01-18T08:17:57.886Z"
   },
   {
    "duration": 7,
    "start_time": "2023-01-18T08:19:15.184Z"
   },
   {
    "duration": 7,
    "start_time": "2023-01-18T08:19:17.468Z"
   },
   {
    "duration": 128047,
    "start_time": "2023-01-18T08:20:20.893Z"
   },
   {
    "duration": 151927,
    "start_time": "2023-01-18T08:24:20.432Z"
   },
   {
    "duration": 173758,
    "start_time": "2023-01-18T08:29:52.449Z"
   },
   {
    "duration": 10,
    "start_time": "2023-01-18T08:34:48.146Z"
   },
   {
    "duration": 2534,
    "start_time": "2023-01-18T08:35:42.924Z"
   },
   {
    "duration": 60,
    "start_time": "2023-01-18T08:35:45.461Z"
   },
   {
    "duration": 27,
    "start_time": "2023-01-18T08:35:45.523Z"
   },
   {
    "duration": 35,
    "start_time": "2023-01-18T08:35:45.553Z"
   },
   {
    "duration": 22,
    "start_time": "2023-01-18T08:35:45.592Z"
   },
   {
    "duration": 1345,
    "start_time": "2023-01-18T08:35:45.616Z"
   },
   {
    "duration": 924,
    "start_time": "2023-01-18T08:35:46.964Z"
   },
   {
    "duration": 4,
    "start_time": "2023-01-18T08:35:47.890Z"
   },
   {
    "duration": 8,
    "start_time": "2023-01-18T08:35:47.896Z"
   },
   {
    "duration": 10,
    "start_time": "2023-01-18T08:35:47.907Z"
   },
   {
    "duration": 7,
    "start_time": "2023-01-18T08:35:47.919Z"
   },
   {
    "duration": 14,
    "start_time": "2023-01-18T08:35:47.950Z"
   },
   {
    "duration": 16,
    "start_time": "2023-01-18T08:35:47.966Z"
   },
   {
    "duration": 176,
    "start_time": "2023-01-18T08:35:47.985Z"
   },
   {
    "duration": 0,
    "start_time": "2023-01-18T08:35:48.164Z"
   },
   {
    "duration": 0,
    "start_time": "2023-01-18T08:35:48.166Z"
   },
   {
    "duration": 0,
    "start_time": "2023-01-18T08:35:48.167Z"
   },
   {
    "duration": 0,
    "start_time": "2023-01-18T08:35:48.169Z"
   },
   {
    "duration": 0,
    "start_time": "2023-01-18T08:35:48.171Z"
   },
   {
    "duration": 0,
    "start_time": "2023-01-18T08:35:48.173Z"
   },
   {
    "duration": 0,
    "start_time": "2023-01-18T08:35:48.175Z"
   },
   {
    "duration": 0,
    "start_time": "2023-01-18T08:35:48.177Z"
   },
   {
    "duration": 0,
    "start_time": "2023-01-18T08:35:48.179Z"
   },
   {
    "duration": 0,
    "start_time": "2023-01-18T08:35:48.180Z"
   },
   {
    "duration": 0,
    "start_time": "2023-01-18T08:35:48.181Z"
   },
   {
    "duration": 193231,
    "start_time": "2023-01-18T08:37:58.367Z"
   },
   {
    "duration": 51,
    "start_time": "2023-01-18T08:41:29.849Z"
   },
   {
    "duration": 3522,
    "start_time": "2023-01-18T08:43:01.368Z"
   },
   {
    "duration": 52,
    "start_time": "2023-01-18T08:43:04.892Z"
   },
   {
    "duration": 16,
    "start_time": "2023-01-18T08:43:04.946Z"
   },
   {
    "duration": 25,
    "start_time": "2023-01-18T08:43:04.964Z"
   },
   {
    "duration": 6,
    "start_time": "2023-01-18T08:43:04.992Z"
   },
   {
    "duration": 1040,
    "start_time": "2023-01-18T08:43:05.000Z"
   },
   {
    "duration": 816,
    "start_time": "2023-01-18T08:43:06.042Z"
   },
   {
    "duration": 3,
    "start_time": "2023-01-18T08:43:06.859Z"
   },
   {
    "duration": 11,
    "start_time": "2023-01-18T08:43:06.864Z"
   },
   {
    "duration": 16,
    "start_time": "2023-01-18T08:43:06.877Z"
   },
   {
    "duration": 9,
    "start_time": "2023-01-18T08:43:06.895Z"
   },
   {
    "duration": 15,
    "start_time": "2023-01-18T08:43:06.906Z"
   },
   {
    "duration": 14,
    "start_time": "2023-01-18T08:43:06.923Z"
   },
   {
    "duration": 200319,
    "start_time": "2023-01-18T08:43:06.940Z"
   },
   {
    "duration": 4,
    "start_time": "2023-01-18T08:46:27.261Z"
   },
   {
    "duration": 28,
    "start_time": "2023-01-18T08:46:27.267Z"
   },
   {
    "duration": 13,
    "start_time": "2023-01-18T08:46:27.297Z"
   },
   {
    "duration": 12,
    "start_time": "2023-01-18T08:46:27.311Z"
   },
   {
    "duration": 8,
    "start_time": "2023-01-18T08:46:27.325Z"
   },
   {
    "duration": 11,
    "start_time": "2023-01-18T08:46:27.335Z"
   },
   {
    "duration": 21,
    "start_time": "2023-01-18T08:46:27.351Z"
   },
   {
    "duration": 1243,
    "start_time": "2023-01-18T08:46:27.374Z"
   },
   {
    "duration": 0,
    "start_time": "2023-01-18T08:46:28.619Z"
   },
   {
    "duration": 0,
    "start_time": "2023-01-18T08:46:28.621Z"
   },
   {
    "duration": 0,
    "start_time": "2023-01-18T08:46:28.623Z"
   },
   {
    "duration": 61,
    "start_time": "2023-01-18T08:47:18.142Z"
   },
   {
    "duration": 3754,
    "start_time": "2023-01-18T08:47:26.329Z"
   },
   {
    "duration": 56,
    "start_time": "2023-01-18T08:47:30.085Z"
   },
   {
    "duration": 20,
    "start_time": "2023-01-18T08:47:30.142Z"
   },
   {
    "duration": 31,
    "start_time": "2023-01-18T08:47:30.165Z"
   },
   {
    "duration": 12,
    "start_time": "2023-01-18T08:47:30.197Z"
   },
   {
    "duration": 1130,
    "start_time": "2023-01-18T08:47:30.211Z"
   },
   {
    "duration": 859,
    "start_time": "2023-01-18T08:47:31.350Z"
   },
   {
    "duration": 6,
    "start_time": "2023-01-18T08:47:32.211Z"
   },
   {
    "duration": 6,
    "start_time": "2023-01-18T08:47:32.220Z"
   },
   {
    "duration": 24,
    "start_time": "2023-01-18T08:47:32.230Z"
   },
   {
    "duration": 6,
    "start_time": "2023-01-18T08:47:32.255Z"
   },
   {
    "duration": 14,
    "start_time": "2023-01-18T08:47:32.263Z"
   },
   {
    "duration": 8,
    "start_time": "2023-01-18T08:47:32.279Z"
   },
   {
    "duration": 162491,
    "start_time": "2023-01-18T08:47:32.289Z"
   },
   {
    "duration": 5,
    "start_time": "2023-01-18T08:50:14.782Z"
   },
   {
    "duration": 17,
    "start_time": "2023-01-18T08:50:14.788Z"
   },
   {
    "duration": 13,
    "start_time": "2023-01-18T08:50:14.806Z"
   },
   {
    "duration": 11,
    "start_time": "2023-01-18T08:50:14.821Z"
   },
   {
    "duration": 20,
    "start_time": "2023-01-18T08:50:14.834Z"
   },
   {
    "duration": 23,
    "start_time": "2023-01-18T08:50:14.856Z"
   },
   {
    "duration": 9,
    "start_time": "2023-01-18T08:50:14.881Z"
   },
   {
    "duration": 1342,
    "start_time": "2023-01-18T08:50:14.892Z"
   },
   {
    "duration": 0,
    "start_time": "2023-01-18T08:50:16.236Z"
   },
   {
    "duration": 0,
    "start_time": "2023-01-18T08:50:16.238Z"
   },
   {
    "duration": 0,
    "start_time": "2023-01-18T08:50:16.239Z"
   },
   {
    "duration": 7,
    "start_time": "2023-01-18T08:52:11.903Z"
   },
   {
    "duration": 2375,
    "start_time": "2023-01-18T08:52:22.829Z"
   },
   {
    "duration": 52,
    "start_time": "2023-01-18T08:52:25.206Z"
   },
   {
    "duration": 17,
    "start_time": "2023-01-18T08:52:25.260Z"
   },
   {
    "duration": 24,
    "start_time": "2023-01-18T08:52:25.280Z"
   },
   {
    "duration": 25,
    "start_time": "2023-01-18T08:52:25.306Z"
   },
   {
    "duration": 1107,
    "start_time": "2023-01-18T08:52:25.333Z"
   },
   {
    "duration": 822,
    "start_time": "2023-01-18T08:52:26.442Z"
   },
   {
    "duration": 3,
    "start_time": "2023-01-18T08:52:27.266Z"
   },
   {
    "duration": 17,
    "start_time": "2023-01-18T08:52:27.270Z"
   },
   {
    "duration": 31,
    "start_time": "2023-01-18T08:52:27.290Z"
   },
   {
    "duration": 29,
    "start_time": "2023-01-18T08:52:27.323Z"
   },
   {
    "duration": 35,
    "start_time": "2023-01-18T08:52:27.354Z"
   },
   {
    "duration": 46,
    "start_time": "2023-01-18T08:52:27.391Z"
   },
   {
    "duration": 145185,
    "start_time": "2023-01-18T08:52:27.438Z"
   },
   {
    "duration": 6,
    "start_time": "2023-01-18T08:54:52.625Z"
   },
   {
    "duration": 33,
    "start_time": "2023-01-18T08:54:52.633Z"
   },
   {
    "duration": 25,
    "start_time": "2023-01-18T08:54:52.668Z"
   },
   {
    "duration": 9,
    "start_time": "2023-01-18T08:54:52.695Z"
   },
   {
    "duration": 16,
    "start_time": "2023-01-18T08:54:52.706Z"
   },
   {
    "duration": 14,
    "start_time": "2023-01-18T08:54:52.725Z"
   },
   {
    "duration": 7,
    "start_time": "2023-01-18T08:54:52.742Z"
   },
   {
    "duration": 1239,
    "start_time": "2023-01-18T08:54:52.751Z"
   },
   {
    "duration": 0,
    "start_time": "2023-01-18T08:54:53.992Z"
   },
   {
    "duration": 0,
    "start_time": "2023-01-18T08:54:53.993Z"
   },
   {
    "duration": 0,
    "start_time": "2023-01-18T08:54:53.994Z"
   },
   {
    "duration": 8,
    "start_time": "2023-01-18T09:02:28.781Z"
   },
   {
    "duration": 2338,
    "start_time": "2023-01-18T09:02:34.702Z"
   },
   {
    "duration": 51,
    "start_time": "2023-01-18T09:02:37.043Z"
   },
   {
    "duration": 16,
    "start_time": "2023-01-18T09:02:37.096Z"
   },
   {
    "duration": 22,
    "start_time": "2023-01-18T09:02:37.114Z"
   },
   {
    "duration": 9,
    "start_time": "2023-01-18T09:02:37.139Z"
   },
   {
    "duration": 1216,
    "start_time": "2023-01-18T09:02:37.149Z"
   },
   {
    "duration": 847,
    "start_time": "2023-01-18T09:02:38.367Z"
   },
   {
    "duration": 4,
    "start_time": "2023-01-18T09:02:39.216Z"
   },
   {
    "duration": 10,
    "start_time": "2023-01-18T09:02:39.222Z"
   },
   {
    "duration": 21,
    "start_time": "2023-01-18T09:02:39.234Z"
   },
   {
    "duration": 4,
    "start_time": "2023-01-18T09:02:39.258Z"
   },
   {
    "duration": 21,
    "start_time": "2023-01-18T09:02:39.264Z"
   },
   {
    "duration": 9,
    "start_time": "2023-01-18T09:02:39.287Z"
   },
   {
    "duration": 142111,
    "start_time": "2023-01-18T09:02:39.299Z"
   },
   {
    "duration": 6,
    "start_time": "2023-01-18T09:05:01.412Z"
   },
   {
    "duration": 16,
    "start_time": "2023-01-18T09:05:01.420Z"
   },
   {
    "duration": 18,
    "start_time": "2023-01-18T09:05:01.438Z"
   },
   {
    "duration": 12,
    "start_time": "2023-01-18T09:05:01.458Z"
   },
   {
    "duration": 19,
    "start_time": "2023-01-18T09:05:01.473Z"
   },
   {
    "duration": 18,
    "start_time": "2023-01-18T09:05:01.494Z"
   },
   {
    "duration": 8,
    "start_time": "2023-01-18T09:05:01.514Z"
   },
   {
    "duration": 1542,
    "start_time": "2023-01-18T09:05:01.523Z"
   },
   {
    "duration": 0,
    "start_time": "2023-01-18T09:05:03.067Z"
   },
   {
    "duration": 0,
    "start_time": "2023-01-18T09:05:03.068Z"
   },
   {
    "duration": 0,
    "start_time": "2023-01-18T09:05:03.069Z"
   },
   {
    "duration": 2443,
    "start_time": "2023-01-18T09:12:55.347Z"
   },
   {
    "duration": 53,
    "start_time": "2023-01-18T09:12:57.792Z"
   },
   {
    "duration": 17,
    "start_time": "2023-01-18T09:12:57.847Z"
   },
   {
    "duration": 48,
    "start_time": "2023-01-18T09:12:57.866Z"
   },
   {
    "duration": 63,
    "start_time": "2023-01-18T09:12:57.916Z"
   },
   {
    "duration": 1275,
    "start_time": "2023-01-18T09:12:57.982Z"
   },
   {
    "duration": 1092,
    "start_time": "2023-01-18T09:12:59.259Z"
   },
   {
    "duration": 4,
    "start_time": "2023-01-18T09:13:00.353Z"
   },
   {
    "duration": 59,
    "start_time": "2023-01-18T09:13:00.359Z"
   },
   {
    "duration": 20,
    "start_time": "2023-01-18T09:13:00.421Z"
   },
   {
    "duration": 20,
    "start_time": "2023-01-18T09:13:00.443Z"
   },
   {
    "duration": 21,
    "start_time": "2023-01-18T09:13:00.465Z"
   },
   {
    "duration": 15,
    "start_time": "2023-01-18T09:13:00.487Z"
   },
   {
    "duration": 143730,
    "start_time": "2023-01-18T09:13:00.504Z"
   },
   {
    "duration": 14,
    "start_time": "2023-01-18T09:15:24.236Z"
   },
   {
    "duration": 4,
    "start_time": "2023-01-18T09:15:24.252Z"
   },
   {
    "duration": 10,
    "start_time": "2023-01-18T09:15:24.258Z"
   },
   {
    "duration": 10,
    "start_time": "2023-01-18T09:15:24.270Z"
   },
   {
    "duration": 12,
    "start_time": "2023-01-18T09:15:24.281Z"
   },
   {
    "duration": 12,
    "start_time": "2023-01-18T09:15:24.295Z"
   },
   {
    "duration": 9,
    "start_time": "2023-01-18T09:15:24.310Z"
   },
   {
    "duration": 1359,
    "start_time": "2023-01-18T09:15:24.321Z"
   },
   {
    "duration": 0,
    "start_time": "2023-01-18T09:15:25.683Z"
   },
   {
    "duration": 0,
    "start_time": "2023-01-18T09:15:25.685Z"
   },
   {
    "duration": 0,
    "start_time": "2023-01-18T09:15:25.686Z"
   },
   {
    "duration": 2333,
    "start_time": "2023-01-18T09:33:04.844Z"
   },
   {
    "duration": 52,
    "start_time": "2023-01-18T09:33:07.180Z"
   },
   {
    "duration": 17,
    "start_time": "2023-01-18T09:33:07.235Z"
   },
   {
    "duration": 18,
    "start_time": "2023-01-18T09:33:07.255Z"
   },
   {
    "duration": 6,
    "start_time": "2023-01-18T09:33:07.275Z"
   },
   {
    "duration": 1173,
    "start_time": "2023-01-18T09:33:07.283Z"
   },
   {
    "duration": 799,
    "start_time": "2023-01-18T09:33:08.457Z"
   },
   {
    "duration": 4,
    "start_time": "2023-01-18T09:33:09.257Z"
   },
   {
    "duration": 23,
    "start_time": "2023-01-18T09:33:09.262Z"
   },
   {
    "duration": 22,
    "start_time": "2023-01-18T09:33:09.288Z"
   },
   {
    "duration": 11,
    "start_time": "2023-01-18T09:33:09.312Z"
   },
   {
    "duration": 30,
    "start_time": "2023-01-18T09:33:09.325Z"
   },
   {
    "duration": 27,
    "start_time": "2023-01-18T09:33:09.357Z"
   },
   {
    "duration": 0,
    "start_time": "2023-01-18T09:36:15.980Z"
   },
   {
    "duration": 0,
    "start_time": "2023-01-18T09:36:15.983Z"
   },
   {
    "duration": 0,
    "start_time": "2023-01-18T09:36:15.986Z"
   },
   {
    "duration": 0,
    "start_time": "2023-01-18T09:36:15.988Z"
   },
   {
    "duration": 0,
    "start_time": "2023-01-18T09:36:15.991Z"
   },
   {
    "duration": 0,
    "start_time": "2023-01-18T09:36:15.994Z"
   },
   {
    "duration": 0,
    "start_time": "2023-01-18T09:36:15.997Z"
   },
   {
    "duration": 0,
    "start_time": "2023-01-18T09:36:16.000Z"
   },
   {
    "duration": 0,
    "start_time": "2023-01-18T09:36:16.003Z"
   },
   {
    "duration": 0,
    "start_time": "2023-01-18T09:36:16.005Z"
   },
   {
    "duration": 0,
    "start_time": "2023-01-18T09:36:16.051Z"
   },
   {
    "duration": 0,
    "start_time": "2023-01-18T09:36:16.054Z"
   },
   {
    "duration": 0,
    "start_time": "2023-01-18T09:36:16.056Z"
   },
   {
    "duration": 0,
    "start_time": "2023-01-18T09:36:16.060Z"
   },
   {
    "duration": 0,
    "start_time": "2023-01-18T09:36:16.062Z"
   },
   {
    "duration": 0,
    "start_time": "2023-01-18T09:36:16.065Z"
   },
   {
    "duration": 0,
    "start_time": "2023-01-18T09:36:16.068Z"
   },
   {
    "duration": 0,
    "start_time": "2023-01-18T09:36:16.070Z"
   },
   {
    "duration": 0,
    "start_time": "2023-01-18T09:36:16.073Z"
   },
   {
    "duration": 0,
    "start_time": "2023-01-18T09:36:16.076Z"
   },
   {
    "duration": 1,
    "start_time": "2023-01-18T09:36:16.078Z"
   },
   {
    "duration": 0,
    "start_time": "2023-01-18T09:36:16.083Z"
   },
   {
    "duration": 0,
    "start_time": "2023-01-18T09:36:16.086Z"
   },
   {
    "duration": 0,
    "start_time": "2023-01-18T09:36:16.088Z"
   },
   {
    "duration": 0,
    "start_time": "2023-01-18T09:36:16.091Z"
   },
   {
    "duration": 2396,
    "start_time": "2023-01-18T09:36:20.966Z"
   },
   {
    "duration": 63,
    "start_time": "2023-01-18T09:36:23.365Z"
   },
   {
    "duration": 18,
    "start_time": "2023-01-18T09:36:23.430Z"
   },
   {
    "duration": 19,
    "start_time": "2023-01-18T09:36:23.451Z"
   },
   {
    "duration": 9,
    "start_time": "2023-01-18T09:36:23.471Z"
   },
   {
    "duration": 1179,
    "start_time": "2023-01-18T09:36:23.481Z"
   },
   {
    "duration": 812,
    "start_time": "2023-01-18T09:36:24.662Z"
   },
   {
    "duration": 4,
    "start_time": "2023-01-18T09:36:25.476Z"
   },
   {
    "duration": 16,
    "start_time": "2023-01-18T09:36:25.482Z"
   },
   {
    "duration": 28,
    "start_time": "2023-01-18T09:36:25.501Z"
   },
   {
    "duration": 6,
    "start_time": "2023-01-18T09:36:25.531Z"
   },
   {
    "duration": 16,
    "start_time": "2023-01-18T09:36:25.539Z"
   },
   {
    "duration": 9,
    "start_time": "2023-01-18T09:36:25.558Z"
   },
   {
    "duration": 139320,
    "start_time": "2023-01-18T09:36:25.569Z"
   },
   {
    "duration": 6,
    "start_time": "2023-01-18T09:38:44.891Z"
   },
   {
    "duration": 6,
    "start_time": "2023-01-18T09:38:44.899Z"
   },
   {
    "duration": 7,
    "start_time": "2023-01-18T09:38:44.907Z"
   },
   {
    "duration": 7,
    "start_time": "2023-01-18T09:38:44.915Z"
   },
   {
    "duration": 28,
    "start_time": "2023-01-18T09:38:44.924Z"
   },
   {
    "duration": 6,
    "start_time": "2023-01-18T09:38:44.954Z"
   },
   {
    "duration": 8,
    "start_time": "2023-01-18T09:38:44.961Z"
   },
   {
    "duration": 1148,
    "start_time": "2023-01-18T09:38:44.970Z"
   },
   {
    "duration": 0,
    "start_time": "2023-01-18T09:38:46.120Z"
   },
   {
    "duration": 0,
    "start_time": "2023-01-18T09:38:46.121Z"
   },
   {
    "duration": 0,
    "start_time": "2023-01-18T09:38:46.123Z"
   },
   {
    "duration": 5,
    "start_time": "2023-01-18T09:39:18.974Z"
   },
   {
    "duration": 2259,
    "start_time": "2023-01-18T09:40:36.587Z"
   },
   {
    "duration": 55,
    "start_time": "2023-01-18T09:40:38.849Z"
   },
   {
    "duration": 16,
    "start_time": "2023-01-18T09:40:38.906Z"
   },
   {
    "duration": 30,
    "start_time": "2023-01-18T09:40:38.924Z"
   },
   {
    "duration": 28,
    "start_time": "2023-01-18T09:40:38.956Z"
   },
   {
    "duration": 1251,
    "start_time": "2023-01-18T09:40:38.986Z"
   },
   {
    "duration": 830,
    "start_time": "2023-01-18T09:40:40.238Z"
   },
   {
    "duration": 3,
    "start_time": "2023-01-18T09:40:41.070Z"
   },
   {
    "duration": 35,
    "start_time": "2023-01-18T09:40:41.074Z"
   },
   {
    "duration": 40,
    "start_time": "2023-01-18T09:40:41.112Z"
   },
   {
    "duration": 30,
    "start_time": "2023-01-18T09:40:41.153Z"
   },
   {
    "duration": 29,
    "start_time": "2023-01-18T09:40:41.184Z"
   },
   {
    "duration": 23,
    "start_time": "2023-01-18T09:40:41.215Z"
   },
   {
    "duration": 137101,
    "start_time": "2023-01-18T09:40:41.240Z"
   },
   {
    "duration": 10,
    "start_time": "2023-01-18T09:42:58.343Z"
   },
   {
    "duration": 7,
    "start_time": "2023-01-18T09:42:58.355Z"
   },
   {
    "duration": 7,
    "start_time": "2023-01-18T09:42:58.364Z"
   },
   {
    "duration": 8,
    "start_time": "2023-01-18T09:42:58.372Z"
   },
   {
    "duration": 11,
    "start_time": "2023-01-18T09:42:58.382Z"
   },
   {
    "duration": 15,
    "start_time": "2023-01-18T09:42:58.395Z"
   },
   {
    "duration": 7,
    "start_time": "2023-01-18T09:42:58.412Z"
   },
   {
    "duration": 1416,
    "start_time": "2023-01-18T09:42:58.421Z"
   },
   {
    "duration": 0,
    "start_time": "2023-01-18T09:42:59.839Z"
   },
   {
    "duration": 0,
    "start_time": "2023-01-18T09:42:59.840Z"
   },
   {
    "duration": 0,
    "start_time": "2023-01-18T09:42:59.842Z"
   },
   {
    "duration": 23,
    "start_time": "2023-01-18T09:43:11.140Z"
   },
   {
    "duration": 2722,
    "start_time": "2023-01-18T09:53:08.184Z"
   },
   {
    "duration": 55,
    "start_time": "2023-01-18T09:53:10.909Z"
   },
   {
    "duration": 19,
    "start_time": "2023-01-18T09:53:10.965Z"
   },
   {
    "duration": 22,
    "start_time": "2023-01-18T09:53:10.987Z"
   },
   {
    "duration": 9,
    "start_time": "2023-01-18T09:53:11.011Z"
   },
   {
    "duration": 1130,
    "start_time": "2023-01-18T09:53:11.022Z"
   },
   {
    "duration": 917,
    "start_time": "2023-01-18T09:53:12.154Z"
   },
   {
    "duration": 3,
    "start_time": "2023-01-18T09:53:13.073Z"
   },
   {
    "duration": 38,
    "start_time": "2023-01-18T09:53:13.079Z"
   },
   {
    "duration": 56,
    "start_time": "2023-01-18T09:53:13.121Z"
   },
   {
    "duration": 31,
    "start_time": "2023-01-18T09:53:13.178Z"
   },
   {
    "duration": 47,
    "start_time": "2023-01-18T09:53:13.212Z"
   },
   {
    "duration": 36,
    "start_time": "2023-01-18T09:53:13.261Z"
   },
   {
    "duration": 141716,
    "start_time": "2023-01-18T09:53:13.299Z"
   },
   {
    "duration": 70,
    "start_time": "2023-01-18T09:55:35.017Z"
   },
   {
    "duration": 0,
    "start_time": "2023-01-18T09:55:35.088Z"
   },
   {
    "duration": 0,
    "start_time": "2023-01-18T09:55:35.090Z"
   },
   {
    "duration": 0,
    "start_time": "2023-01-18T09:55:35.091Z"
   },
   {
    "duration": 0,
    "start_time": "2023-01-18T09:55:35.092Z"
   },
   {
    "duration": 0,
    "start_time": "2023-01-18T09:55:35.094Z"
   },
   {
    "duration": 0,
    "start_time": "2023-01-18T09:55:35.095Z"
   },
   {
    "duration": 0,
    "start_time": "2023-01-18T09:55:35.096Z"
   },
   {
    "duration": 0,
    "start_time": "2023-01-18T09:55:35.097Z"
   },
   {
    "duration": 0,
    "start_time": "2023-01-18T09:55:35.099Z"
   },
   {
    "duration": 0,
    "start_time": "2023-01-18T09:55:35.100Z"
   },
   {
    "duration": 5,
    "start_time": "2023-01-18T09:55:48.477Z"
   },
   {
    "duration": 7,
    "start_time": "2023-01-18T09:59:12.157Z"
   },
   {
    "duration": 17,
    "start_time": "2023-01-18T10:01:27.809Z"
   },
   {
    "duration": 2537,
    "start_time": "2023-01-18T13:36:46.977Z"
   },
   {
    "duration": 72,
    "start_time": "2023-01-18T13:36:49.518Z"
   },
   {
    "duration": 22,
    "start_time": "2023-01-18T13:36:49.593Z"
   },
   {
    "duration": 29,
    "start_time": "2023-01-18T13:36:49.618Z"
   },
   {
    "duration": 11,
    "start_time": "2023-01-18T13:36:49.649Z"
   },
   {
    "duration": 1327,
    "start_time": "2023-01-18T13:36:49.663Z"
   },
   {
    "duration": 976,
    "start_time": "2023-01-18T13:36:50.992Z"
   },
   {
    "duration": 3,
    "start_time": "2023-01-18T13:36:51.970Z"
   },
   {
    "duration": 29,
    "start_time": "2023-01-18T13:36:51.975Z"
   },
   {
    "duration": 22,
    "start_time": "2023-01-18T13:36:52.006Z"
   },
   {
    "duration": 18,
    "start_time": "2023-01-18T13:36:52.030Z"
   },
   {
    "duration": 142286,
    "start_time": "2023-01-18T13:36:52.051Z"
   },
   {
    "duration": 879,
    "start_time": "2023-01-18T13:39:14.339Z"
   },
   {
    "duration": 1118,
    "start_time": "2023-01-18T13:39:24.211Z"
   },
   {
    "duration": 9,
    "start_time": "2023-01-18T13:54:30.950Z"
   },
   {
    "duration": 8,
    "start_time": "2023-01-18T13:56:54.685Z"
   },
   {
    "duration": 10,
    "start_time": "2023-01-18T13:57:04.694Z"
   },
   {
    "duration": 16,
    "start_time": "2023-01-18T13:58:45.450Z"
   },
   {
    "duration": 14,
    "start_time": "2023-01-18T13:58:54.582Z"
   },
   {
    "duration": 2663,
    "start_time": "2023-01-18T14:18:48.779Z"
   },
   {
    "duration": 68,
    "start_time": "2023-01-18T14:18:51.446Z"
   },
   {
    "duration": 19,
    "start_time": "2023-01-18T14:18:51.516Z"
   },
   {
    "duration": 24,
    "start_time": "2023-01-18T14:18:51.537Z"
   },
   {
    "duration": 29,
    "start_time": "2023-01-18T14:18:51.564Z"
   },
   {
    "duration": 1414,
    "start_time": "2023-01-18T14:18:51.594Z"
   },
   {
    "duration": 897,
    "start_time": "2023-01-18T14:18:53.010Z"
   },
   {
    "duration": 4,
    "start_time": "2023-01-18T14:18:53.909Z"
   },
   {
    "duration": 32,
    "start_time": "2023-01-18T14:18:53.914Z"
   },
   {
    "duration": 16,
    "start_time": "2023-01-18T14:18:53.948Z"
   },
   {
    "duration": 42,
    "start_time": "2023-01-18T14:18:53.966Z"
   },
   {
    "duration": 177475,
    "start_time": "2023-01-18T14:18:54.010Z"
   },
   {
    "duration": 1169344,
    "start_time": "2023-01-18T14:21:51.493Z"
   },
   {
    "duration": 82,
    "start_time": "2023-01-18T14:41:20.840Z"
   },
   {
    "duration": 5,
    "start_time": "2023-01-18T14:41:44.118Z"
   },
   {
    "duration": 2623,
    "start_time": "2023-01-18T14:48:16.806Z"
   },
   {
    "duration": 76,
    "start_time": "2023-01-18T14:48:19.432Z"
   },
   {
    "duration": 18,
    "start_time": "2023-01-18T14:48:19.510Z"
   },
   {
    "duration": 19,
    "start_time": "2023-01-18T14:48:19.531Z"
   },
   {
    "duration": 6,
    "start_time": "2023-01-18T14:48:19.553Z"
   },
   {
    "duration": 1391,
    "start_time": "2023-01-18T14:48:19.588Z"
   },
   {
    "duration": 981,
    "start_time": "2023-01-18T14:48:20.986Z"
   },
   {
    "duration": 4,
    "start_time": "2023-01-18T14:48:21.969Z"
   },
   {
    "duration": 26,
    "start_time": "2023-01-18T14:48:21.988Z"
   },
   {
    "duration": 8,
    "start_time": "2023-01-18T14:48:22.017Z"
   },
   {
    "duration": 18,
    "start_time": "2023-01-18T14:48:22.027Z"
   },
   {
    "duration": 169692,
    "start_time": "2023-01-18T14:48:22.047Z"
   },
   {
    "duration": 1147732,
    "start_time": "2023-01-18T14:51:11.741Z"
   },
   {
    "duration": 14,
    "start_time": "2023-01-18T15:10:19.489Z"
   },
   {
    "duration": 2538,
    "start_time": "2023-01-18T15:43:50.513Z"
   },
   {
    "duration": 63,
    "start_time": "2023-01-18T15:43:53.055Z"
   },
   {
    "duration": 20,
    "start_time": "2023-01-18T15:43:53.119Z"
   },
   {
    "duration": 19,
    "start_time": "2023-01-18T15:43:53.142Z"
   },
   {
    "duration": 25,
    "start_time": "2023-01-18T15:43:53.164Z"
   },
   {
    "duration": 1280,
    "start_time": "2023-01-18T15:43:53.191Z"
   },
   {
    "duration": 1020,
    "start_time": "2023-01-18T15:43:54.472Z"
   },
   {
    "duration": 4,
    "start_time": "2023-01-18T15:43:55.500Z"
   },
   {
    "duration": 9,
    "start_time": "2023-01-18T15:43:55.506Z"
   },
   {
    "duration": 6,
    "start_time": "2023-01-18T15:43:55.517Z"
   },
   {
    "duration": 7,
    "start_time": "2023-01-18T15:43:55.525Z"
   },
   {
    "duration": 13,
    "start_time": "2023-01-18T15:43:55.534Z"
   },
   {
    "duration": 1107814,
    "start_time": "2023-01-18T15:43:55.549Z"
   },
   {
    "duration": 1168487,
    "start_time": "2023-01-18T16:02:23.366Z"
   },
   {
    "duration": 18,
    "start_time": "2023-01-18T16:21:51.855Z"
   },
   {
    "duration": 13,
    "start_time": "2023-01-18T16:23:04.246Z"
   },
   {
    "duration": 19,
    "start_time": "2023-01-18T16:23:07.344Z"
   },
   {
    "duration": 14,
    "start_time": "2023-01-18T16:23:46.684Z"
   },
   {
    "duration": 39,
    "start_time": "2023-01-18T16:23:55.074Z"
   },
   {
    "duration": 9,
    "start_time": "2023-01-18T16:24:12.050Z"
   },
   {
    "duration": 15,
    "start_time": "2023-01-18T16:24:13.644Z"
   },
   {
    "duration": 5,
    "start_time": "2023-01-18T16:26:09.312Z"
   },
   {
    "duration": 34,
    "start_time": "2023-01-18T16:26:16.472Z"
   },
   {
    "duration": 8,
    "start_time": "2023-01-18T16:37:52.795Z"
   },
   {
    "duration": 161,
    "start_time": "2023-01-18T16:37:59.047Z"
   },
   {
    "duration": 15,
    "start_time": "2023-01-18T16:38:46.093Z"
   },
   {
    "duration": 159,
    "start_time": "2023-01-18T16:38:54.715Z"
   },
   {
    "duration": 179,
    "start_time": "2023-01-18T16:39:03.875Z"
   },
   {
    "duration": 168,
    "start_time": "2023-01-18T16:39:10.602Z"
   },
   {
    "duration": 180,
    "start_time": "2023-01-18T16:39:19.123Z"
   },
   {
    "duration": 162,
    "start_time": "2023-01-18T16:39:45.898Z"
   },
   {
    "duration": 260,
    "start_time": "2023-01-18T16:41:01.049Z"
   },
   {
    "duration": 186,
    "start_time": "2023-01-18T16:41:14.753Z"
   },
   {
    "duration": 358,
    "start_time": "2023-01-18T16:45:51.926Z"
   },
   {
    "duration": 459,
    "start_time": "2023-01-18T16:46:47.024Z"
   },
   {
    "duration": 0,
    "start_time": "2023-01-18T16:51:01.769Z"
   },
   {
    "duration": 0,
    "start_time": "2023-01-18T16:51:01.771Z"
   },
   {
    "duration": 0,
    "start_time": "2023-01-18T16:51:01.772Z"
   },
   {
    "duration": 4,
    "start_time": "2023-01-18T16:51:07.627Z"
   },
   {
    "duration": 10,
    "start_time": "2023-01-18T16:51:50.541Z"
   },
   {
    "duration": 427,
    "start_time": "2023-01-18T16:52:42.657Z"
   },
   {
    "duration": 483,
    "start_time": "2023-01-18T16:52:54.818Z"
   },
   {
    "duration": 435,
    "start_time": "2023-01-18T16:53:33.810Z"
   },
   {
    "duration": 338,
    "start_time": "2023-01-18T16:54:14.286Z"
   },
   {
    "duration": 317,
    "start_time": "2023-01-18T16:54:18.542Z"
   },
   {
    "duration": 357,
    "start_time": "2023-01-18T16:54:23.773Z"
   },
   {
    "duration": 345,
    "start_time": "2023-01-18T16:56:11.684Z"
   },
   {
    "duration": 316,
    "start_time": "2023-01-18T16:56:18.560Z"
   },
   {
    "duration": 333,
    "start_time": "2023-01-18T16:57:24.897Z"
   },
   {
    "duration": 402,
    "start_time": "2023-01-18T16:57:34.349Z"
   },
   {
    "duration": 8,
    "start_time": "2023-01-18T17:20:25.626Z"
   },
   {
    "duration": 11,
    "start_time": "2023-01-18T17:21:33.293Z"
   },
   {
    "duration": 15,
    "start_time": "2023-01-18T17:21:52.340Z"
   },
   {
    "duration": 12,
    "start_time": "2023-01-18T17:23:46.860Z"
   },
   {
    "duration": 10,
    "start_time": "2023-01-18T17:27:24.834Z"
   },
   {
    "duration": 95,
    "start_time": "2023-01-18T17:28:22.299Z"
   },
   {
    "duration": 7,
    "start_time": "2023-01-18T17:28:25.471Z"
   },
   {
    "duration": 1314,
    "start_time": "2023-01-18T17:32:29.261Z"
   },
   {
    "duration": 1105,
    "start_time": "2023-01-18T17:33:04.118Z"
   },
   {
    "duration": 6,
    "start_time": "2023-01-18T17:41:22.349Z"
   },
   {
    "duration": 1038,
    "start_time": "2023-01-18T18:01:53.037Z"
   },
   {
    "duration": 899,
    "start_time": "2023-01-18T18:43:21.975Z"
   },
   {
    "duration": 12,
    "start_time": "2023-01-18T18:44:06.106Z"
   },
   {
    "duration": 10,
    "start_time": "2023-01-18T18:44:21.841Z"
   },
   {
    "duration": 9,
    "start_time": "2023-01-18T18:44:35.850Z"
   },
   {
    "duration": 799,
    "start_time": "2023-01-18T19:08:28.425Z"
   },
   {
    "duration": 195,
    "start_time": "2023-01-18T19:10:18.164Z"
   },
   {
    "duration": 248,
    "start_time": "2023-01-18T19:10:32.799Z"
   },
   {
    "duration": 837,
    "start_time": "2023-01-18T19:10:56.369Z"
   },
   {
    "duration": 783,
    "start_time": "2023-01-18T19:12:44.939Z"
   },
   {
    "duration": 5,
    "start_time": "2023-01-18T19:22:21.121Z"
   },
   {
    "duration": 8,
    "start_time": "2023-01-18T19:22:24.414Z"
   },
   {
    "duration": 9,
    "start_time": "2023-01-18T19:22:35.128Z"
   },
   {
    "duration": 7,
    "start_time": "2023-01-18T19:33:34.305Z"
   },
   {
    "duration": 7,
    "start_time": "2023-01-18T19:33:42.468Z"
   },
   {
    "duration": 8,
    "start_time": "2023-01-18T19:33:52.774Z"
   },
   {
    "duration": 72,
    "start_time": "2023-01-18T19:35:47.850Z"
   },
   {
    "duration": 7,
    "start_time": "2023-01-18T19:35:53.428Z"
   },
   {
    "duration": 50,
    "start_time": "2023-01-18T19:37:57.742Z"
   },
   {
    "duration": 10,
    "start_time": "2023-01-18T19:39:03.220Z"
   },
   {
    "duration": 8,
    "start_time": "2023-01-18T19:40:54.078Z"
   },
   {
    "duration": 10,
    "start_time": "2023-01-18T19:41:01.121Z"
   },
   {
    "duration": 10,
    "start_time": "2023-01-18T19:41:10.093Z"
   },
   {
    "duration": 8,
    "start_time": "2023-01-18T19:41:52.006Z"
   },
   {
    "duration": 9,
    "start_time": "2023-01-18T19:42:00.517Z"
   },
   {
    "duration": 46,
    "start_time": "2023-01-18T19:54:55.437Z"
   },
   {
    "duration": 19,
    "start_time": "2023-01-18T19:54:55.527Z"
   },
   {
    "duration": 19,
    "start_time": "2023-01-18T19:54:55.548Z"
   },
   {
    "duration": 19,
    "start_time": "2023-01-18T19:55:23.881Z"
   },
   {
    "duration": 14,
    "start_time": "2023-01-18T20:00:10.109Z"
   },
   {
    "duration": 93,
    "start_time": "2023-01-18T20:13:55.833Z"
   },
   {
    "duration": 48,
    "start_time": "2023-01-18T20:14:15.999Z"
   },
   {
    "duration": 55,
    "start_time": "2023-01-18T20:24:36.096Z"
   },
   {
    "duration": 72,
    "start_time": "2023-01-18T20:25:28.376Z"
   },
   {
    "duration": 93,
    "start_time": "2023-01-18T20:30:54.375Z"
   },
   {
    "duration": 90,
    "start_time": "2023-01-18T20:30:58.917Z"
   },
   {
    "duration": 70,
    "start_time": "2023-01-18T20:31:13.197Z"
   },
   {
    "duration": 66,
    "start_time": "2023-01-18T20:31:23.698Z"
   },
   {
    "duration": 75,
    "start_time": "2023-01-18T20:32:08.215Z"
   },
   {
    "duration": 799,
    "start_time": "2023-01-18T20:34:33.806Z"
   },
   {
    "duration": 118,
    "start_time": "2023-01-18T20:36:06.373Z"
   },
   {
    "duration": 82,
    "start_time": "2023-01-18T20:36:11.434Z"
   },
   {
    "duration": 2715,
    "start_time": "2023-01-18T20:36:30.184Z"
   },
   {
    "duration": 53,
    "start_time": "2023-01-19T08:54:29.343Z"
   },
   {
    "duration": 4125,
    "start_time": "2023-01-19T08:54:45.772Z"
   },
   {
    "duration": 110,
    "start_time": "2023-01-19T08:54:49.899Z"
   },
   {
    "duration": 16,
    "start_time": "2023-01-19T08:54:50.012Z"
   },
   {
    "duration": 26,
    "start_time": "2023-01-19T08:54:50.030Z"
   },
   {
    "duration": 4,
    "start_time": "2023-01-19T08:54:50.059Z"
   },
   {
    "duration": 1019,
    "start_time": "2023-01-19T08:54:50.065Z"
   },
   {
    "duration": 631,
    "start_time": "2023-01-19T08:54:51.086Z"
   },
   {
    "duration": 4,
    "start_time": "2023-01-19T08:54:51.719Z"
   },
   {
    "duration": 11,
    "start_time": "2023-01-19T08:54:51.725Z"
   },
   {
    "duration": 6,
    "start_time": "2023-01-19T08:54:51.738Z"
   },
   {
    "duration": 9,
    "start_time": "2023-01-19T08:54:51.745Z"
   },
   {
    "duration": 7,
    "start_time": "2023-01-19T08:54:51.756Z"
   },
   {
    "duration": 11,
    "start_time": "2023-01-19T08:54:51.765Z"
   },
   {
    "duration": 834953,
    "start_time": "2023-01-19T08:54:51.779Z"
   },
   {
    "duration": 836277,
    "start_time": "2023-01-19T09:08:46.734Z"
   },
   {
    "duration": 5,
    "start_time": "2023-01-19T09:22:43.013Z"
   },
   {
    "duration": 49,
    "start_time": "2023-01-19T09:22:43.020Z"
   },
   {
    "duration": 299,
    "start_time": "2023-01-19T09:22:43.070Z"
   },
   {
    "duration": 741,
    "start_time": "2023-01-19T09:22:43.370Z"
   },
   {
    "duration": 5,
    "start_time": "2023-01-19T09:22:44.113Z"
   },
   {
    "duration": 821,
    "start_time": "2023-01-19T09:22:44.120Z"
   },
   {
    "duration": 69,
    "start_time": "2023-01-19T09:22:44.943Z"
   },
   {
    "duration": 2,
    "start_time": "2023-01-19T10:52:50.922Z"
   },
   {
    "duration": 9,
    "start_time": "2023-01-19T10:55:20.922Z"
   },
   {
    "duration": 4,
    "start_time": "2023-01-19T10:55:33.290Z"
   },
   {
    "duration": 22,
    "start_time": "2023-01-19T11:00:08.324Z"
   },
   {
    "duration": 8,
    "start_time": "2023-01-19T11:00:39.917Z"
   },
   {
    "duration": 8,
    "start_time": "2023-01-19T11:02:28.508Z"
   },
   {
    "duration": 9,
    "start_time": "2023-01-19T11:05:27.252Z"
   },
   {
    "duration": 76,
    "start_time": "2023-01-19T15:50:15.548Z"
   },
   {
    "duration": 8,
    "start_time": "2023-01-19T15:50:29.871Z"
   },
   {
    "duration": 4702,
    "start_time": "2023-01-19T15:50:36.344Z"
   },
   {
    "duration": 116,
    "start_time": "2023-01-19T15:50:41.049Z"
   },
   {
    "duration": 17,
    "start_time": "2023-01-19T15:50:41.166Z"
   },
   {
    "duration": 22,
    "start_time": "2023-01-19T15:50:41.185Z"
   },
   {
    "duration": 3,
    "start_time": "2023-01-19T15:50:41.209Z"
   },
   {
    "duration": 1291,
    "start_time": "2023-01-19T15:50:41.214Z"
   },
   {
    "duration": 738,
    "start_time": "2023-01-19T15:50:42.507Z"
   },
   {
    "duration": 4,
    "start_time": "2023-01-19T15:50:43.246Z"
   },
   {
    "duration": 10,
    "start_time": "2023-01-19T15:50:43.251Z"
   },
   {
    "duration": 21,
    "start_time": "2023-01-19T15:50:43.264Z"
   },
   {
    "duration": 4,
    "start_time": "2023-01-19T15:50:43.288Z"
   },
   {
    "duration": 6,
    "start_time": "2023-01-19T15:50:43.294Z"
   },
   {
    "duration": 13,
    "start_time": "2023-01-19T15:50:43.302Z"
   },
   {
    "duration": 985883,
    "start_time": "2023-01-19T15:50:43.317Z"
   },
   {
    "duration": 1005443,
    "start_time": "2023-01-19T16:07:09.203Z"
   },
   {
    "duration": 7,
    "start_time": "2023-01-19T16:23:54.648Z"
   },
   {
    "duration": 16,
    "start_time": "2023-01-19T16:23:54.657Z"
   },
   {
    "duration": 341,
    "start_time": "2023-01-19T16:23:54.676Z"
   },
   {
    "duration": 820,
    "start_time": "2023-01-19T16:23:55.019Z"
   },
   {
    "duration": 8,
    "start_time": "2023-01-19T16:23:55.841Z"
   },
   {
    "duration": 869,
    "start_time": "2023-01-19T16:23:55.851Z"
   },
   {
    "duration": 9,
    "start_time": "2023-01-19T16:23:56.722Z"
   },
   {
    "duration": 7,
    "start_time": "2023-01-19T16:23:56.733Z"
   },
   {
    "duration": 11,
    "start_time": "2023-01-19T16:23:56.742Z"
   },
   {
    "duration": 39,
    "start_time": "2023-01-19T16:23:56.755Z"
   },
   {
    "duration": 12,
    "start_time": "2023-01-20T10:59:00.485Z"
   },
   {
    "duration": 46,
    "start_time": "2023-01-20T10:59:12.557Z"
   },
   {
    "duration": 6,
    "start_time": "2023-01-20T10:59:14.699Z"
   },
   {
    "duration": 7,
    "start_time": "2023-01-20T16:22:11.494Z"
   },
   {
    "duration": 4123,
    "start_time": "2023-01-20T16:22:18.960Z"
   },
   {
    "duration": 91,
    "start_time": "2023-01-20T16:22:23.085Z"
   },
   {
    "duration": 14,
    "start_time": "2023-01-20T16:22:23.177Z"
   },
   {
    "duration": 40,
    "start_time": "2023-01-20T16:22:23.193Z"
   },
   {
    "duration": 36,
    "start_time": "2023-01-20T16:22:23.234Z"
   },
   {
    "duration": 1113,
    "start_time": "2023-01-20T16:22:23.271Z"
   },
   {
    "duration": 617,
    "start_time": "2023-01-20T16:22:24.386Z"
   },
   {
    "duration": 3,
    "start_time": "2023-01-20T16:22:25.005Z"
   },
   {
    "duration": 22,
    "start_time": "2023-01-20T16:22:25.010Z"
   },
   {
    "duration": 26,
    "start_time": "2023-01-20T16:22:25.035Z"
   },
   {
    "duration": 17,
    "start_time": "2023-01-20T16:22:25.062Z"
   },
   {
    "duration": 39,
    "start_time": "2023-01-20T16:22:25.080Z"
   },
   {
    "duration": 21,
    "start_time": "2023-01-20T16:22:25.121Z"
   },
   {
    "duration": 795005,
    "start_time": "2023-01-20T16:22:25.144Z"
   },
   {
    "duration": 792508,
    "start_time": "2023-01-20T16:35:40.150Z"
   },
   {
    "duration": 5,
    "start_time": "2023-01-20T16:48:52.660Z"
   },
   {
    "duration": 15,
    "start_time": "2023-01-20T16:48:52.667Z"
   },
   {
    "duration": 275,
    "start_time": "2023-01-20T16:48:52.684Z"
   },
   {
    "duration": 679,
    "start_time": "2023-01-20T16:48:52.961Z"
   },
   {
    "duration": 4,
    "start_time": "2023-01-20T16:48:53.642Z"
   },
   {
    "duration": 723,
    "start_time": "2023-01-20T16:48:53.648Z"
   },
   {
    "duration": 6,
    "start_time": "2023-01-20T16:48:54.373Z"
   },
   {
    "duration": 7,
    "start_time": "2023-01-20T16:48:54.381Z"
   },
   {
    "duration": 13,
    "start_time": "2023-01-20T16:48:54.390Z"
   },
   {
    "duration": 10,
    "start_time": "2023-01-20T16:48:54.405Z"
   },
   {
    "duration": 26,
    "start_time": "2023-01-20T16:48:54.416Z"
   },
   {
    "duration": 7,
    "start_time": "2023-01-20T16:54:45.706Z"
   },
   {
    "duration": 4,
    "start_time": "2023-01-20T17:02:16.179Z"
   },
   {
    "duration": 10,
    "start_time": "2023-01-20T17:02:38.598Z"
   },
   {
    "duration": 4,
    "start_time": "2023-01-20T17:03:23.449Z"
   },
   {
    "duration": 12,
    "start_time": "2023-01-20T17:03:25.638Z"
   },
   {
    "duration": 4,
    "start_time": "2023-01-20T17:03:36.622Z"
   },
   {
    "duration": 17,
    "start_time": "2023-01-20T17:03:36.984Z"
   },
   {
    "duration": 12,
    "start_time": "2023-01-20T17:11:22.305Z"
   },
   {
    "duration": 11,
    "start_time": "2023-01-20T17:12:13.327Z"
   },
   {
    "duration": 44,
    "start_time": "2023-01-21T09:58:07.368Z"
   },
   {
    "duration": 4130,
    "start_time": "2023-01-21T10:00:53.441Z"
   },
   {
    "duration": 90,
    "start_time": "2023-01-21T10:00:57.573Z"
   },
   {
    "duration": 14,
    "start_time": "2023-01-21T10:00:57.664Z"
   },
   {
    "duration": 17,
    "start_time": "2023-01-21T10:00:57.680Z"
   },
   {
    "duration": 4,
    "start_time": "2023-01-21T10:00:57.699Z"
   },
   {
    "duration": 967,
    "start_time": "2023-01-21T10:00:57.704Z"
   },
   {
    "duration": 634,
    "start_time": "2023-01-21T10:00:58.673Z"
   },
   {
    "duration": 3,
    "start_time": "2023-01-21T10:00:59.308Z"
   },
   {
    "duration": 12,
    "start_time": "2023-01-21T10:00:59.313Z"
   },
   {
    "duration": 5,
    "start_time": "2023-01-21T10:00:59.328Z"
   },
   {
    "duration": 13,
    "start_time": "2023-01-21T10:00:59.335Z"
   },
   {
    "duration": 10,
    "start_time": "2023-01-21T10:00:59.350Z"
   },
   {
    "duration": 10,
    "start_time": "2023-01-21T10:00:59.362Z"
   },
   {
    "duration": 792486,
    "start_time": "2023-01-21T10:00:59.374Z"
   },
   {
    "duration": 783856,
    "start_time": "2023-01-21T10:14:11.862Z"
   },
   {
    "duration": 6,
    "start_time": "2023-01-21T10:27:15.720Z"
   },
   {
    "duration": 7,
    "start_time": "2023-01-21T10:27:15.728Z"
   },
   {
    "duration": 289,
    "start_time": "2023-01-21T10:27:15.736Z"
   },
   {
    "duration": 661,
    "start_time": "2023-01-21T10:27:16.026Z"
   },
   {
    "duration": 11,
    "start_time": "2023-01-21T10:27:16.688Z"
   },
   {
    "duration": 721,
    "start_time": "2023-01-21T10:27:16.700Z"
   },
   {
    "duration": 4,
    "start_time": "2023-01-21T10:27:17.422Z"
   },
   {
    "duration": 17,
    "start_time": "2023-01-21T10:27:17.427Z"
   },
   {
    "duration": 11,
    "start_time": "2023-01-21T10:27:17.446Z"
   },
   {
    "duration": 9,
    "start_time": "2023-01-21T10:27:17.459Z"
   },
   {
    "duration": 5,
    "start_time": "2023-01-21T10:27:17.470Z"
   },
   {
    "duration": 9,
    "start_time": "2023-01-21T10:27:17.499Z"
   },
   {
    "duration": 13,
    "start_time": "2023-01-21T10:27:17.511Z"
   },
   {
    "duration": 28,
    "start_time": "2023-01-21T10:27:17.525Z"
   },
   {
    "duration": 5,
    "start_time": "2023-01-21T12:19:55.117Z"
   },
   {
    "duration": 6,
    "start_time": "2023-01-21T12:20:48.699Z"
   },
   {
    "duration": 3,
    "start_time": "2023-01-21T12:24:14.318Z"
   },
   {
    "duration": 4,
    "start_time": "2023-01-21T12:24:20.226Z"
   },
   {
    "duration": 4,
    "start_time": "2023-01-21T12:24:31.767Z"
   },
   {
    "duration": 4,
    "start_time": "2023-01-21T12:24:37.494Z"
   },
   {
    "duration": 4,
    "start_time": "2023-01-21T12:24:44.317Z"
   },
   {
    "duration": 70,
    "start_time": "2023-01-21T12:24:48.100Z"
   },
   {
    "duration": 4,
    "start_time": "2023-01-21T12:25:02.893Z"
   },
   {
    "duration": 8,
    "start_time": "2023-01-21T12:25:50.692Z"
   },
   {
    "duration": 4,
    "start_time": "2023-01-21T12:25:59.939Z"
   },
   {
    "duration": 7,
    "start_time": "2023-01-21T12:26:44.687Z"
   },
   {
    "duration": 7,
    "start_time": "2023-01-21T12:26:48.894Z"
   },
   {
    "duration": 6,
    "start_time": "2023-01-21T12:29:35.620Z"
   },
   {
    "duration": 28,
    "start_time": "2023-01-21T12:30:23.821Z"
   },
   {
    "duration": 1296,
    "start_time": "2023-01-21T12:35:13.538Z"
   },
   {
    "duration": 3,
    "start_time": "2023-01-21T12:41:29.735Z"
   },
   {
    "duration": 1427,
    "start_time": "2023-01-21T12:53:17.268Z"
   },
   {
    "duration": 1268,
    "start_time": "2023-01-21T12:53:22.660Z"
   },
   {
    "duration": 12,
    "start_time": "2023-01-21T13:46:38.294Z"
   },
   {
    "duration": 230,
    "start_time": "2023-01-21T13:48:52.531Z"
   },
   {
    "duration": 12,
    "start_time": "2023-01-21T13:51:36.021Z"
   },
   {
    "duration": 40,
    "start_time": "2023-01-21T13:51:43.528Z"
   },
   {
    "duration": 2996,
    "start_time": "2023-01-21T13:53:25.811Z"
   },
   {
    "duration": 47,
    "start_time": "2023-01-21T13:53:28.809Z"
   },
   {
    "duration": 15,
    "start_time": "2023-01-21T13:53:28.858Z"
   },
   {
    "duration": 20,
    "start_time": "2023-01-21T13:53:28.875Z"
   },
   {
    "duration": 4,
    "start_time": "2023-01-21T13:53:28.897Z"
   },
   {
    "duration": 969,
    "start_time": "2023-01-21T13:53:28.902Z"
   },
   {
    "duration": 641,
    "start_time": "2023-01-21T13:53:29.872Z"
   },
   {
    "duration": 3,
    "start_time": "2023-01-21T13:53:30.515Z"
   },
   {
    "duration": 54,
    "start_time": "2023-01-21T13:53:30.520Z"
   },
   {
    "duration": 32,
    "start_time": "2023-01-21T13:53:30.577Z"
   },
   {
    "duration": 39,
    "start_time": "2023-01-21T13:53:30.611Z"
   },
   {
    "duration": 30,
    "start_time": "2023-01-21T13:53:30.652Z"
   },
   {
    "duration": 36,
    "start_time": "2023-01-21T13:53:30.684Z"
   },
   {
    "duration": 117845,
    "start_time": "2023-01-21T13:53:30.722Z"
   },
   {
    "duration": 119290,
    "start_time": "2023-01-21T13:55:28.569Z"
   },
   {
    "duration": 6,
    "start_time": "2023-01-21T13:57:27.860Z"
   },
   {
    "duration": 70,
    "start_time": "2023-01-21T13:57:27.868Z"
   },
   {
    "duration": 335,
    "start_time": "2023-01-21T13:57:27.939Z"
   },
   {
    "duration": 716,
    "start_time": "2023-01-21T13:57:28.276Z"
   },
   {
    "duration": 9,
    "start_time": "2023-01-21T13:57:28.993Z"
   },
   {
    "duration": 748,
    "start_time": "2023-01-21T13:57:29.003Z"
   },
   {
    "duration": 1269,
    "start_time": "2023-01-21T13:57:29.752Z"
   },
   {
    "duration": 3,
    "start_time": "2023-01-21T13:57:31.023Z"
   },
   {
    "duration": 25,
    "start_time": "2023-01-21T13:57:31.027Z"
   },
   {
    "duration": 31,
    "start_time": "2023-01-21T13:57:31.054Z"
   },
   {
    "duration": 31,
    "start_time": "2023-01-21T13:57:31.087Z"
   },
   {
    "duration": 12,
    "start_time": "2023-01-21T13:57:31.119Z"
   },
   {
    "duration": 11,
    "start_time": "2023-01-21T13:57:31.134Z"
   },
   {
    "duration": 18,
    "start_time": "2023-01-21T13:57:31.146Z"
   },
   {
    "duration": 31,
    "start_time": "2023-01-21T13:57:31.166Z"
   },
   {
    "duration": 31,
    "start_time": "2023-01-21T13:57:31.199Z"
   },
   {
    "duration": 14,
    "start_time": "2023-01-21T13:57:31.232Z"
   },
   {
    "duration": 284,
    "start_time": "2023-01-21T13:58:57.507Z"
   },
   {
    "duration": 287,
    "start_time": "2023-01-21T13:59:18.747Z"
   },
   {
    "duration": 333,
    "start_time": "2023-01-21T13:59:38.079Z"
   },
   {
    "duration": 417,
    "start_time": "2023-01-21T14:01:16.271Z"
   },
   {
    "duration": 485,
    "start_time": "2023-01-21T14:02:26.433Z"
   },
   {
    "duration": 173,
    "start_time": "2023-01-21T14:03:51.087Z"
   },
   {
    "duration": 43,
    "start_time": "2023-01-21T14:03:59.632Z"
   },
   {
    "duration": 311,
    "start_time": "2023-01-21T14:04:01.776Z"
   },
   {
    "duration": 259,
    "start_time": "2023-01-21T14:04:29.499Z"
   },
   {
    "duration": 301,
    "start_time": "2023-01-21T14:04:37.629Z"
   },
   {
    "duration": 397,
    "start_time": "2023-01-21T14:07:05.185Z"
   },
   {
    "duration": 141,
    "start_time": "2023-01-21T14:19:58.854Z"
   },
   {
    "duration": 165,
    "start_time": "2023-01-21T14:20:12.057Z"
   },
   {
    "duration": 131,
    "start_time": "2023-01-21T14:21:14.741Z"
   },
   {
    "duration": 315,
    "start_time": "2023-01-21T14:21:39.617Z"
   },
   {
    "duration": 52,
    "start_time": "2023-01-21T14:22:46.546Z"
   },
   {
    "duration": 139,
    "start_time": "2023-01-21T14:22:52.606Z"
   },
   {
    "duration": 0,
    "start_time": "2023-01-21T14:25:34.184Z"
   },
   {
    "duration": 776,
    "start_time": "2023-01-21T14:25:38.491Z"
   },
   {
    "duration": 21,
    "start_time": "2023-01-21T14:26:22.428Z"
   },
   {
    "duration": 748,
    "start_time": "2023-01-21T14:26:25.236Z"
   },
   {
    "duration": 5,
    "start_time": "2023-01-21T14:26:39.415Z"
   },
   {
    "duration": 63,
    "start_time": "2023-01-21T14:26:48.236Z"
   },
   {
    "duration": 159,
    "start_time": "2023-01-21T14:26:52.182Z"
   },
   {
    "duration": 162,
    "start_time": "2023-01-21T14:27:37.294Z"
   },
   {
    "duration": 259,
    "start_time": "2023-01-21T14:27:40.284Z"
   },
   {
    "duration": 14,
    "start_time": "2023-01-21T14:41:52.965Z"
   },
   {
    "duration": 5,
    "start_time": "2023-01-21T14:42:12.296Z"
   },
   {
    "duration": 5,
    "start_time": "2023-01-21T14:42:21.534Z"
   },
   {
    "duration": 40,
    "start_time": "2023-01-21T15:13:40.090Z"
   },
   {
    "duration": 48,
    "start_time": "2023-01-21T15:13:54.993Z"
   },
   {
    "duration": 9,
    "start_time": "2023-01-21T15:13:58.074Z"
   },
   {
    "duration": 7,
    "start_time": "2023-01-21T15:14:04.114Z"
   },
   {
    "duration": 737,
    "start_time": "2023-01-21T15:30:36.314Z"
   },
   {
    "duration": 14,
    "start_time": "2023-01-21T15:30:41.649Z"
   },
   {
    "duration": 15,
    "start_time": "2023-01-21T15:30:50.992Z"
   },
   {
    "duration": 11,
    "start_time": "2023-01-21T15:31:02.111Z"
   },
   {
    "duration": 9,
    "start_time": "2023-01-21T15:31:06.835Z"
   },
   {
    "duration": 10,
    "start_time": "2023-01-21T15:31:09.639Z"
   },
   {
    "duration": 9,
    "start_time": "2023-01-21T15:31:21.964Z"
   },
   {
    "duration": 163,
    "start_time": "2023-01-21T15:31:57.749Z"
   },
   {
    "duration": 154,
    "start_time": "2023-01-21T15:32:26.671Z"
   },
   {
    "duration": 9,
    "start_time": "2023-01-21T15:34:57.721Z"
   },
   {
    "duration": 111,
    "start_time": "2023-01-21T15:35:30.401Z"
   },
   {
    "duration": 164,
    "start_time": "2023-01-21T15:35:38.010Z"
   },
   {
    "duration": 170,
    "start_time": "2023-01-21T15:35:44.567Z"
   },
   {
    "duration": 153,
    "start_time": "2023-01-21T15:35:53.503Z"
   },
   {
    "duration": 158,
    "start_time": "2023-01-21T15:36:11.461Z"
   },
   {
    "duration": 153,
    "start_time": "2023-01-21T15:38:55.760Z"
   },
   {
    "duration": 1892,
    "start_time": "2023-01-21T15:59:30.275Z"
   },
   {
    "duration": 46,
    "start_time": "2023-01-21T15:59:32.169Z"
   },
   {
    "duration": 14,
    "start_time": "2023-01-21T15:59:32.217Z"
   },
   {
    "duration": 34,
    "start_time": "2023-01-21T15:59:32.233Z"
   },
   {
    "duration": 20,
    "start_time": "2023-01-21T15:59:32.269Z"
   },
   {
    "duration": 1083,
    "start_time": "2023-01-21T15:59:32.291Z"
   },
   {
    "duration": 811,
    "start_time": "2023-01-21T15:59:33.376Z"
   },
   {
    "duration": 10,
    "start_time": "2023-01-21T15:59:34.189Z"
   },
   {
    "duration": 8,
    "start_time": "2023-01-21T15:59:34.201Z"
   },
   {
    "duration": 5,
    "start_time": "2023-01-21T15:59:34.212Z"
   },
   {
    "duration": 5,
    "start_time": "2023-01-21T15:59:34.219Z"
   },
   {
    "duration": 5,
    "start_time": "2023-01-21T15:59:34.226Z"
   },
   {
    "duration": 11,
    "start_time": "2023-01-21T15:59:34.233Z"
   },
   {
    "duration": 784176,
    "start_time": "2023-01-21T15:59:34.246Z"
   },
   {
    "duration": 790462,
    "start_time": "2023-01-21T16:12:38.424Z"
   },
   {
    "duration": 6,
    "start_time": "2023-01-21T16:25:48.888Z"
   },
   {
    "duration": 11,
    "start_time": "2023-01-21T16:25:48.899Z"
   },
   {
    "duration": 288,
    "start_time": "2023-01-21T16:25:48.912Z"
   },
   {
    "duration": 757,
    "start_time": "2023-01-21T16:25:49.202Z"
   },
   {
    "duration": 6,
    "start_time": "2023-01-21T16:25:49.960Z"
   },
   {
    "duration": 653,
    "start_time": "2023-01-21T16:25:49.967Z"
   },
   {
    "duration": 1236,
    "start_time": "2023-01-21T16:25:50.622Z"
   },
   {
    "duration": 2,
    "start_time": "2023-01-21T16:25:51.860Z"
   },
   {
    "duration": 319,
    "start_time": "2023-01-21T16:25:51.864Z"
   },
   {
    "duration": 148,
    "start_time": "2023-01-21T16:25:52.184Z"
   },
   {
    "duration": 169,
    "start_time": "2023-01-21T16:25:52.333Z"
   },
   {
    "duration": 5,
    "start_time": "2023-01-21T16:25:52.503Z"
   },
   {
    "duration": 154,
    "start_time": "2023-01-21T16:25:52.511Z"
   },
   {
    "duration": 153,
    "start_time": "2023-01-21T16:25:52.667Z"
   },
   {
    "duration": 4,
    "start_time": "2023-01-21T16:25:52.821Z"
   },
   {
    "duration": 20,
    "start_time": "2023-01-21T16:25:52.827Z"
   },
   {
    "duration": 10,
    "start_time": "2023-01-21T16:25:52.848Z"
   },
   {
    "duration": 29,
    "start_time": "2023-01-21T16:25:52.860Z"
   },
   {
    "duration": 3,
    "start_time": "2023-01-21T16:25:52.891Z"
   },
   {
    "duration": 8,
    "start_time": "2023-01-21T16:25:52.898Z"
   },
   {
    "duration": 19,
    "start_time": "2023-01-21T16:25:52.908Z"
   },
   {
    "duration": 20,
    "start_time": "2023-01-21T16:25:52.929Z"
   },
   {
    "duration": 8,
    "start_time": "2023-01-21T16:25:52.951Z"
   },
   {
    "duration": 4218,
    "start_time": "2023-01-21T18:37:23.514Z"
   },
   {
    "duration": 92,
    "start_time": "2023-01-21T18:37:27.734Z"
   },
   {
    "duration": 17,
    "start_time": "2023-01-21T18:37:27.828Z"
   },
   {
    "duration": 22,
    "start_time": "2023-01-21T18:37:27.848Z"
   },
   {
    "duration": 4,
    "start_time": "2023-01-21T18:37:27.872Z"
   },
   {
    "duration": 1083,
    "start_time": "2023-01-21T18:37:27.878Z"
   },
   {
    "duration": 644,
    "start_time": "2023-01-21T18:37:28.963Z"
   },
   {
    "duration": 3,
    "start_time": "2023-01-21T18:37:29.609Z"
   },
   {
    "duration": 7,
    "start_time": "2023-01-21T18:37:29.615Z"
   },
   {
    "duration": 6,
    "start_time": "2023-01-21T18:37:29.626Z"
   },
   {
    "duration": 9,
    "start_time": "2023-01-21T18:37:29.634Z"
   },
   {
    "duration": 6,
    "start_time": "2023-01-21T18:37:29.645Z"
   },
   {
    "duration": 13,
    "start_time": "2023-01-21T18:37:29.652Z"
   },
   {
    "duration": 801146,
    "start_time": "2023-01-21T18:37:29.667Z"
   },
   {
    "duration": 777889,
    "start_time": "2023-01-21T18:50:50.814Z"
   },
   {
    "duration": 7,
    "start_time": "2023-01-21T19:03:48.704Z"
   },
   {
    "duration": 13,
    "start_time": "2023-01-21T19:03:48.712Z"
   },
   {
    "duration": 292,
    "start_time": "2023-01-21T19:03:48.726Z"
   },
   {
    "duration": 742,
    "start_time": "2023-01-21T19:03:49.020Z"
   },
   {
    "duration": 9,
    "start_time": "2023-01-21T19:03:49.764Z"
   },
   {
    "duration": 746,
    "start_time": "2023-01-21T19:03:49.775Z"
   },
   {
    "duration": 1199,
    "start_time": "2023-01-21T19:03:50.523Z"
   },
   {
    "duration": 2,
    "start_time": "2023-01-21T19:03:51.724Z"
   },
   {
    "duration": 412,
    "start_time": "2023-01-21T19:03:51.728Z"
   },
   {
    "duration": 183,
    "start_time": "2023-01-21T19:03:52.142Z"
   },
   {
    "duration": 158,
    "start_time": "2023-01-21T19:03:52.327Z"
   },
   {
    "duration": 5,
    "start_time": "2023-01-21T19:03:52.487Z"
   },
   {
    "duration": 163,
    "start_time": "2023-01-21T19:03:52.506Z"
   },
   {
    "duration": 161,
    "start_time": "2023-01-21T19:03:52.671Z"
   },
   {
    "duration": 4,
    "start_time": "2023-01-21T19:03:52.833Z"
   },
   {
    "duration": 20,
    "start_time": "2023-01-21T19:03:52.838Z"
   },
   {
    "duration": 11,
    "start_time": "2023-01-21T19:03:52.860Z"
   },
   {
    "duration": 11,
    "start_time": "2023-01-21T19:03:52.873Z"
   },
   {
    "duration": 19,
    "start_time": "2023-01-21T19:03:52.885Z"
   },
   {
    "duration": 11,
    "start_time": "2023-01-21T19:03:52.906Z"
   },
   {
    "duration": 17,
    "start_time": "2023-01-21T19:03:52.918Z"
   },
   {
    "duration": 11,
    "start_time": "2023-01-21T19:03:52.937Z"
   },
   {
    "duration": 47,
    "start_time": "2023-01-22T15:50:58.036Z"
   },
   {
    "duration": 49,
    "start_time": "2023-01-23T08:51:26.423Z"
   },
   {
    "duration": 8,
    "start_time": "2023-01-23T08:51:31.253Z"
   },
   {
    "duration": 5404,
    "start_time": "2023-01-23T08:51:41.767Z"
   },
   {
    "duration": 2181,
    "start_time": "2023-01-23T08:51:54.208Z"
   },
   {
    "duration": 205,
    "start_time": "2023-01-23T08:51:57.521Z"
   },
   {
    "duration": 16,
    "start_time": "2023-01-23T08:51:58.877Z"
   },
   {
    "duration": 19,
    "start_time": "2023-01-23T08:51:59.973Z"
   },
   {
    "duration": 5,
    "start_time": "2023-01-23T08:52:04.313Z"
   },
   {
    "duration": 1231,
    "start_time": "2023-01-23T08:52:05.757Z"
   },
   {
    "duration": 638,
    "start_time": "2023-01-23T08:52:08.519Z"
   },
   {
    "duration": 15,
    "start_time": "2023-01-23T08:52:11.411Z"
   },
   {
    "duration": 16,
    "start_time": "2023-01-23T08:53:13.062Z"
   },
   {
    "duration": 15,
    "start_time": "2023-01-23T08:53:30.134Z"
   },
   {
    "duration": 4,
    "start_time": "2023-01-23T09:57:00.007Z"
   },
   {
    "duration": 4,
    "start_time": "2023-01-23T09:57:02.470Z"
   },
   {
    "duration": 74,
    "start_time": "2023-01-23T09:57:04.354Z"
   },
   {
    "duration": 7,
    "start_time": "2023-01-23T09:57:17.496Z"
   },
   {
    "duration": 149,
    "start_time": "2023-01-23T10:11:01.174Z"
   },
   {
    "duration": 232,
    "start_time": "2023-01-23T10:12:26.589Z"
   },
   {
    "duration": 148,
    "start_time": "2023-01-23T10:21:49.113Z"
   },
   {
    "duration": 5,
    "start_time": "2023-01-23T10:45:33.806Z"
   },
   {
    "duration": 7,
    "start_time": "2023-01-23T10:45:44.022Z"
   },
   {
    "duration": 2246,
    "start_time": "2023-01-23T10:48:02.891Z"
   },
   {
    "duration": 56,
    "start_time": "2023-01-23T10:48:06.266Z"
   },
   {
    "duration": 17,
    "start_time": "2023-01-23T10:48:08.880Z"
   },
   {
    "duration": 16,
    "start_time": "2023-01-23T10:48:09.463Z"
   },
   {
    "duration": 4,
    "start_time": "2023-01-23T10:48:10.355Z"
   },
   {
    "duration": 1091,
    "start_time": "2023-01-23T10:48:11.316Z"
   },
   {
    "duration": 716,
    "start_time": "2023-01-23T10:48:12.410Z"
   },
   {
    "duration": 16,
    "start_time": "2023-01-23T10:48:13.851Z"
   },
   {
    "duration": 5,
    "start_time": "2023-01-23T10:48:16.887Z"
   },
   {
    "duration": 8,
    "start_time": "2023-01-23T10:48:36.115Z"
   },
   {
    "duration": 8,
    "start_time": "2023-01-23T10:48:36.902Z"
   },
   {
    "duration": 6,
    "start_time": "2023-01-23T10:48:38.585Z"
   },
   {
    "duration": 163,
    "start_time": "2023-01-23T10:48:38.937Z"
   },
   {
    "duration": 6,
    "start_time": "2023-01-23T10:48:40.111Z"
   },
   {
    "duration": 6,
    "start_time": "2023-01-23T10:48:40.931Z"
   },
   {
    "duration": 4,
    "start_time": "2023-01-23T10:49:19.927Z"
   },
   {
    "duration": 6,
    "start_time": "2023-01-23T10:49:20.079Z"
   },
   {
    "duration": 2262,
    "start_time": "2023-01-23T10:49:28.344Z"
   },
   {
    "duration": 58,
    "start_time": "2023-01-23T10:49:30.608Z"
   },
   {
    "duration": 18,
    "start_time": "2023-01-23T10:49:31.064Z"
   },
   {
    "duration": 18,
    "start_time": "2023-01-23T10:49:31.537Z"
   },
   {
    "duration": 5,
    "start_time": "2023-01-23T10:49:32.019Z"
   },
   {
    "duration": 1132,
    "start_time": "2023-01-23T10:49:32.466Z"
   },
   {
    "duration": 787,
    "start_time": "2023-01-23T10:49:33.600Z"
   },
   {
    "duration": 15,
    "start_time": "2023-01-23T10:49:35.401Z"
   },
   {
    "duration": 4,
    "start_time": "2023-01-23T10:49:41.861Z"
   },
   {
    "duration": 5,
    "start_time": "2023-01-23T10:49:43.655Z"
   },
   {
    "duration": 11,
    "start_time": "2023-01-23T10:49:44.432Z"
   },
   {
    "duration": 5,
    "start_time": "2023-01-23T10:49:46.721Z"
   },
   {
    "duration": 153,
    "start_time": "2023-01-23T10:49:46.991Z"
   },
   {
    "duration": 5,
    "start_time": "2023-01-23T10:49:47.419Z"
   },
   {
    "duration": 7,
    "start_time": "2023-01-23T10:49:48.691Z"
   },
   {
    "duration": 5,
    "start_time": "2023-01-23T10:50:06.190Z"
   },
   {
    "duration": 7,
    "start_time": "2023-01-23T10:50:06.850Z"
   },
   {
    "duration": 11,
    "start_time": "2023-01-23T11:10:43.754Z"
   },
   {
    "duration": 672961,
    "start_time": "2023-01-23T11:10:43.767Z"
   },
   {
    "duration": 677988,
    "start_time": "2023-01-23T11:21:56.730Z"
   },
   {
    "duration": 5,
    "start_time": "2023-01-23T11:33:14.720Z"
   },
   {
    "duration": 9,
    "start_time": "2023-01-23T11:33:14.728Z"
   },
   {
    "duration": 368,
    "start_time": "2023-01-23T11:33:14.738Z"
   },
   {
    "duration": 853,
    "start_time": "2023-01-23T11:33:15.109Z"
   },
   {
    "duration": 7,
    "start_time": "2023-01-23T11:33:15.964Z"
   },
   {
    "duration": 684,
    "start_time": "2023-01-23T11:33:15.973Z"
   },
   {
    "duration": 1297,
    "start_time": "2023-01-23T11:33:16.659Z"
   },
   {
    "duration": 3,
    "start_time": "2023-01-23T11:33:17.958Z"
   },
   {
    "duration": 354,
    "start_time": "2023-01-23T11:33:17.964Z"
   },
   {
    "duration": 175,
    "start_time": "2023-01-23T11:33:18.323Z"
   },
   {
    "duration": 159,
    "start_time": "2023-01-23T11:33:18.501Z"
   },
   {
    "duration": 6,
    "start_time": "2023-01-23T11:33:18.662Z"
   },
   {
    "duration": 256,
    "start_time": "2023-01-23T11:33:18.670Z"
   },
   {
    "duration": 168,
    "start_time": "2023-01-23T11:33:18.927Z"
   },
   {
    "duration": 3,
    "start_time": "2023-01-23T11:33:19.097Z"
   },
   {
    "duration": 26,
    "start_time": "2023-01-23T11:33:19.102Z"
   },
   {
    "duration": 12,
    "start_time": "2023-01-23T11:33:19.130Z"
   },
   {
    "duration": 11,
    "start_time": "2023-01-23T11:33:19.144Z"
   },
   {
    "duration": 4,
    "start_time": "2023-01-23T11:33:19.156Z"
   },
   {
    "duration": 10,
    "start_time": "2023-01-23T11:33:19.161Z"
   },
   {
    "duration": 12,
    "start_time": "2023-01-23T11:33:19.173Z"
   },
   {
    "duration": 2290,
    "start_time": "2023-01-23T11:33:19.187Z"
   },
   {
    "duration": 58,
    "start_time": "2023-01-23T11:33:21.480Z"
   },
   {
    "duration": 15,
    "start_time": "2023-01-23T11:33:21.540Z"
   },
   {
    "duration": 18,
    "start_time": "2023-01-23T11:33:21.557Z"
   },
   {
    "duration": 8,
    "start_time": "2023-01-23T11:33:21.577Z"
   },
   {
    "duration": 1116,
    "start_time": "2023-01-23T11:33:21.587Z"
   },
   {
    "duration": 681,
    "start_time": "2023-01-23T11:33:22.705Z"
   },
   {
    "duration": 16,
    "start_time": "2023-01-23T11:33:23.388Z"
   },
   {
    "duration": 15,
    "start_time": "2023-01-23T11:33:23.406Z"
   },
   {
    "duration": 6,
    "start_time": "2023-01-23T11:33:23.424Z"
   },
   {
    "duration": 9,
    "start_time": "2023-01-23T11:33:23.432Z"
   },
   {
    "duration": 8,
    "start_time": "2023-01-23T11:33:23.443Z"
   },
   {
    "duration": 170,
    "start_time": "2023-01-23T11:33:23.452Z"
   },
   {
    "duration": 5,
    "start_time": "2023-01-23T11:33:23.624Z"
   },
   {
    "duration": 8,
    "start_time": "2023-01-23T11:33:23.631Z"
   },
   {
    "duration": 46,
    "start_time": "2023-01-23T20:31:21.965Z"
   },
   {
    "duration": 4496,
    "start_time": "2023-01-23T20:31:30.882Z"
   },
   {
    "duration": 201,
    "start_time": "2023-01-23T20:31:35.380Z"
   },
   {
    "duration": 14,
    "start_time": "2023-01-23T20:31:35.583Z"
   },
   {
    "duration": 17,
    "start_time": "2023-01-23T20:31:35.598Z"
   },
   {
    "duration": 3,
    "start_time": "2023-01-23T20:31:35.617Z"
   },
   {
    "duration": 1199,
    "start_time": "2023-01-23T20:31:35.622Z"
   },
   {
    "duration": 608,
    "start_time": "2023-01-23T20:31:36.823Z"
   },
   {
    "duration": 21,
    "start_time": "2023-01-23T20:31:37.433Z"
   },
   {
    "duration": 4,
    "start_time": "2023-01-23T20:31:37.455Z"
   },
   {
    "duration": 5,
    "start_time": "2023-01-23T20:31:37.461Z"
   },
   {
    "duration": 8,
    "start_time": "2023-01-23T20:31:37.467Z"
   },
   {
    "duration": 6,
    "start_time": "2023-01-23T20:31:37.476Z"
   },
   {
    "duration": 184,
    "start_time": "2023-01-23T20:31:37.483Z"
   },
   {
    "duration": 6,
    "start_time": "2023-01-23T20:31:37.669Z"
   },
   {
    "duration": 7,
    "start_time": "2023-01-23T20:31:37.676Z"
   },
   {
    "duration": 9,
    "start_time": "2023-01-23T20:31:37.684Z"
   },
   {
    "duration": 4,
    "start_time": "2023-01-23T20:31:37.694Z"
   },
   {
    "duration": 7,
    "start_time": "2023-01-23T20:31:37.724Z"
   },
   {
    "duration": 35,
    "start_time": "2023-01-23T20:31:44.112Z"
   },
   {
    "duration": 26,
    "start_time": "2023-01-23T20:31:48.732Z"
   },
   {
    "duration": 84,
    "start_time": "2023-01-23T20:34:06.880Z"
   },
   {
    "duration": 73,
    "start_time": "2023-01-23T20:34:11.630Z"
   },
   {
    "duration": 19,
    "start_time": "2023-01-23T20:34:14.180Z"
   },
   {
    "duration": 18,
    "start_time": "2023-01-23T20:35:37.731Z"
   },
   {
    "duration": 16,
    "start_time": "2023-01-23T20:36:21.677Z"
   },
   {
    "duration": 34,
    "start_time": "2023-01-23T20:37:00.437Z"
   },
   {
    "duration": 147,
    "start_time": "2023-01-23T20:38:50.008Z"
   },
   {
    "duration": 29,
    "start_time": "2023-01-23T20:39:16.783Z"
   },
   {
    "duration": 9,
    "start_time": "2023-01-23T20:39:36.038Z"
   },
   {
    "duration": 29,
    "start_time": "2023-01-23T20:39:42.739Z"
   },
   {
    "duration": 69,
    "start_time": "2023-01-23T20:40:26.863Z"
   },
   {
    "duration": 76,
    "start_time": "2023-01-23T20:40:30.177Z"
   },
   {
    "duration": 410,
    "start_time": "2023-01-23T20:41:33.275Z"
   },
   {
    "duration": 18,
    "start_time": "2023-01-23T20:41:53.629Z"
   },
   {
    "duration": 13,
    "start_time": "2023-01-23T20:42:01.980Z"
   },
   {
    "duration": 72,
    "start_time": "2023-01-23T20:44:49.199Z"
   },
   {
    "duration": 943,
    "start_time": "2023-01-23T20:45:38.145Z"
   },
   {
    "duration": 1054,
    "start_time": "2023-01-23T20:45:45.019Z"
   },
   {
    "duration": 72,
    "start_time": "2023-01-23T20:45:48.074Z"
   },
   {
    "duration": 46,
    "start_time": "2023-01-23T20:46:30.170Z"
   },
   {
    "duration": 39,
    "start_time": "2023-01-23T20:46:32.987Z"
   },
   {
    "duration": 903,
    "start_time": "2023-01-23T20:47:12.490Z"
   },
   {
    "duration": 998,
    "start_time": "2023-01-23T20:47:21.617Z"
   },
   {
    "duration": 969,
    "start_time": "2023-01-23T20:47:34.847Z"
   },
   {
    "duration": 80,
    "start_time": "2023-01-23T20:48:59.922Z"
   },
   {
    "duration": 76,
    "start_time": "2023-01-23T20:49:22.292Z"
   },
   {
    "duration": 92,
    "start_time": "2023-01-23T20:49:51.371Z"
   },
   {
    "duration": 84,
    "start_time": "2023-01-23T20:49:59.893Z"
   },
   {
    "duration": 20,
    "start_time": "2023-01-23T20:51:31.899Z"
   },
   {
    "duration": 72,
    "start_time": "2023-01-23T20:53:18.424Z"
   },
   {
    "duration": 102,
    "start_time": "2023-01-23T20:53:33.070Z"
   },
   {
    "duration": 118,
    "start_time": "2023-01-23T20:53:42.142Z"
   },
   {
    "duration": 5,
    "start_time": "2023-01-23T20:56:51.640Z"
   },
   {
    "duration": 36,
    "start_time": "2023-01-23T20:57:02.562Z"
   },
   {
    "duration": 79,
    "start_time": "2023-01-23T21:05:04.673Z"
   },
   {
    "duration": 77,
    "start_time": "2023-01-23T21:05:44.269Z"
   },
   {
    "duration": 65,
    "start_time": "2023-01-23T21:05:47.501Z"
   },
   {
    "duration": 9,
    "start_time": "2023-01-23T21:06:00.179Z"
   },
   {
    "duration": 55,
    "start_time": "2023-01-23T21:06:38.223Z"
   },
   {
    "duration": 39,
    "start_time": "2023-01-23T21:06:46.870Z"
   },
   {
    "duration": 11,
    "start_time": "2023-01-23T21:08:42.947Z"
   },
   {
    "duration": 6,
    "start_time": "2023-01-23T21:08:50.791Z"
   },
   {
    "duration": 48,
    "start_time": "2023-01-23T21:10:41.185Z"
   },
   {
    "duration": 356,
    "start_time": "2023-01-23T21:11:02.028Z"
   },
   {
    "duration": 359,
    "start_time": "2023-01-23T21:12:32.859Z"
   },
   {
    "duration": 97,
    "start_time": "2023-01-23T21:13:09.259Z"
   },
   {
    "duration": 74,
    "start_time": "2023-01-23T21:13:18.467Z"
   },
   {
    "duration": 401,
    "start_time": "2023-01-23T21:13:21.286Z"
   },
   {
    "duration": 398,
    "start_time": "2023-01-23T21:14:47.997Z"
   },
   {
    "duration": 387,
    "start_time": "2023-01-23T21:14:55.692Z"
   },
   {
    "duration": 8,
    "start_time": "2023-01-23T21:24:59.401Z"
   },
   {
    "duration": 9,
    "start_time": "2023-01-23T21:25:12.362Z"
   },
   {
    "duration": 12,
    "start_time": "2023-01-23T21:25:24.744Z"
   },
   {
    "duration": 22,
    "start_time": "2023-01-23T21:31:26.308Z"
   },
   {
    "duration": 38,
    "start_time": "2023-01-23T21:31:30.508Z"
   },
   {
    "duration": 24,
    "start_time": "2023-01-23T21:31:53.544Z"
   },
   {
    "duration": 7,
    "start_time": "2023-01-23T21:32:41.563Z"
   },
   {
    "duration": 7,
    "start_time": "2023-01-23T21:32:57.855Z"
   },
   {
    "duration": 30,
    "start_time": "2023-01-23T21:33:17.375Z"
   },
   {
    "duration": 29,
    "start_time": "2023-01-23T21:33:27.695Z"
   },
   {
    "duration": 325,
    "start_time": "2023-01-23T21:35:07.534Z"
   },
   {
    "duration": 775,
    "start_time": "2023-01-23T21:35:25.655Z"
   },
   {
    "duration": 48,
    "start_time": "2023-01-24T07:39:02.732Z"
   },
   {
    "duration": 4092,
    "start_time": "2023-01-24T07:39:28.753Z"
   },
   {
    "duration": 90,
    "start_time": "2023-01-24T07:39:32.847Z"
   },
   {
    "duration": 16,
    "start_time": "2023-01-24T07:39:32.939Z"
   },
   {
    "duration": 38,
    "start_time": "2023-01-24T07:39:32.957Z"
   },
   {
    "duration": 5,
    "start_time": "2023-01-24T07:39:32.996Z"
   },
   {
    "duration": 1212,
    "start_time": "2023-01-24T07:39:33.003Z"
   },
   {
    "duration": 710,
    "start_time": "2023-01-24T07:39:34.218Z"
   },
   {
    "duration": 16,
    "start_time": "2023-01-24T07:39:34.930Z"
   },
   {
    "duration": 3,
    "start_time": "2023-01-24T07:39:34.948Z"
   },
   {
    "duration": 11,
    "start_time": "2023-01-24T07:39:34.953Z"
   },
   {
    "duration": 11,
    "start_time": "2023-01-24T07:39:34.966Z"
   },
   {
    "duration": 4,
    "start_time": "2023-01-24T07:39:34.979Z"
   },
   {
    "duration": 197,
    "start_time": "2023-01-24T07:39:34.985Z"
   },
   {
    "duration": 7,
    "start_time": "2023-01-24T07:39:35.184Z"
   },
   {
    "duration": 20,
    "start_time": "2023-01-24T07:39:35.193Z"
   },
   {
    "duration": 18,
    "start_time": "2023-01-24T07:39:35.214Z"
   },
   {
    "duration": 8,
    "start_time": "2023-01-24T07:39:35.234Z"
   },
   {
    "duration": 11,
    "start_time": "2023-01-24T07:39:35.243Z"
   },
   {
    "duration": 450,
    "start_time": "2023-01-24T07:39:35.255Z"
   },
   {
    "duration": 936,
    "start_time": "2023-01-24T07:39:35.707Z"
   },
   {
    "duration": 5,
    "start_time": "2023-01-24T07:39:36.646Z"
   },
   {
    "duration": 44,
    "start_time": "2023-01-24T08:01:14.863Z"
   },
   {
    "duration": 54,
    "start_time": "2023-01-24T08:02:11.360Z"
   },
   {
    "duration": 79,
    "start_time": "2023-01-24T08:02:22.212Z"
   },
   {
    "duration": 887,
    "start_time": "2023-01-24T08:03:10.194Z"
   },
   {
    "duration": 903,
    "start_time": "2023-01-24T08:04:02.518Z"
   },
   {
    "duration": 2073,
    "start_time": "2023-01-24T08:04:14.040Z"
   },
   {
    "duration": 51,
    "start_time": "2023-01-24T08:05:00.954Z"
   },
   {
    "duration": 263,
    "start_time": "2023-01-24T08:05:22.911Z"
   },
   {
    "duration": 268,
    "start_time": "2023-01-24T08:06:51.531Z"
   },
   {
    "duration": 370,
    "start_time": "2023-01-24T08:07:20.658Z"
   },
   {
    "duration": 430,
    "start_time": "2023-01-24T08:07:43.500Z"
   },
   {
    "duration": 379,
    "start_time": "2023-01-24T08:15:17.543Z"
   },
   {
    "duration": 338,
    "start_time": "2023-01-24T08:20:09.227Z"
   },
   {
    "duration": 172,
    "start_time": "2023-01-24T08:33:27.713Z"
   },
   {
    "duration": 827,
    "start_time": "2023-01-24T08:33:35.531Z"
   },
   {
    "duration": 388,
    "start_time": "2023-01-24T08:44:41.349Z"
   },
   {
    "duration": 174,
    "start_time": "2023-01-24T08:44:52.978Z"
   },
   {
    "duration": 418,
    "start_time": "2023-01-24T08:45:03.777Z"
   },
   {
    "duration": 833,
    "start_time": "2023-01-24T08:49:41.358Z"
   },
   {
    "duration": 3,
    "start_time": "2023-01-24T09:15:15.764Z"
   },
   {
    "duration": 379,
    "start_time": "2023-01-24T09:16:37.722Z"
   },
   {
    "duration": 325,
    "start_time": "2023-01-24T09:16:58.859Z"
   },
   {
    "duration": 313,
    "start_time": "2023-01-24T09:17:05.663Z"
   },
   {
    "duration": 329,
    "start_time": "2023-01-24T09:17:12.856Z"
   },
   {
    "duration": 180,
    "start_time": "2023-01-24T09:18:50.003Z"
   },
   {
    "duration": 421,
    "start_time": "2023-01-24T09:19:30.975Z"
   },
   {
    "duration": 494,
    "start_time": "2023-01-24T09:19:50.697Z"
   },
   {
    "duration": 342,
    "start_time": "2023-01-24T09:20:05.909Z"
   },
   {
    "duration": 318,
    "start_time": "2023-01-24T09:20:17.874Z"
   },
   {
    "duration": 331,
    "start_time": "2023-01-24T09:20:38.121Z"
   },
   {
    "duration": 1267,
    "start_time": "2023-01-24T09:28:42.471Z"
   },
   {
    "duration": 1407,
    "start_time": "2023-01-24T09:32:44.673Z"
   },
   {
    "duration": 1359,
    "start_time": "2023-01-24T09:33:59.275Z"
   },
   {
    "duration": 71,
    "start_time": "2023-01-24T09:35:06.891Z"
   },
   {
    "duration": 68,
    "start_time": "2023-01-24T09:35:29.574Z"
   },
   {
    "duration": 1399,
    "start_time": "2023-01-24T09:35:32.223Z"
   },
   {
    "duration": 1135,
    "start_time": "2023-01-24T15:50:12.561Z"
   },
   {
    "duration": 50,
    "start_time": "2023-01-24T16:11:46.199Z"
   },
   {
    "duration": 53,
    "start_time": "2023-01-24T16:12:28.476Z"
   },
   {
    "duration": 45,
    "start_time": "2023-01-24T16:14:08.841Z"
   },
   {
    "duration": 48,
    "start_time": "2023-01-24T16:14:21.129Z"
   },
   {
    "duration": 1239,
    "start_time": "2023-01-24T16:14:34.338Z"
   },
   {
    "duration": 1214,
    "start_time": "2023-01-24T16:14:48.400Z"
   },
   {
    "duration": 1136,
    "start_time": "2023-01-24T16:15:32.749Z"
   },
   {
    "duration": 1201,
    "start_time": "2023-01-24T16:15:45.448Z"
   },
   {
    "duration": 1161,
    "start_time": "2023-01-24T16:16:04.166Z"
   },
   {
    "duration": 1312,
    "start_time": "2023-01-24T16:28:49.672Z"
   },
   {
    "duration": 156,
    "start_time": "2023-01-24T16:36:56.023Z"
   },
   {
    "duration": 208,
    "start_time": "2023-01-24T16:37:30.287Z"
   },
   {
    "duration": 177,
    "start_time": "2023-01-24T16:37:46.323Z"
   },
   {
    "duration": 157,
    "start_time": "2023-01-24T16:44:13.878Z"
   },
   {
    "duration": 130,
    "start_time": "2023-01-24T16:52:27.193Z"
   },
   {
    "duration": 225,
    "start_time": "2023-01-24T16:52:27.695Z"
   },
   {
    "duration": 4,
    "start_time": "2023-01-24T17:01:38.971Z"
   },
   {
    "duration": 11,
    "start_time": "2023-01-24T17:01:39.509Z"
   },
   {
    "duration": 10,
    "start_time": "2023-01-24T17:01:39.917Z"
   },
   {
    "duration": 14,
    "start_time": "2023-01-24T17:01:40.349Z"
   },
   {
    "duration": 4,
    "start_time": "2023-01-24T17:03:38.890Z"
   },
   {
    "duration": 82,
    "start_time": "2023-01-24T17:03:39.223Z"
   },
   {
    "duration": 4,
    "start_time": "2023-01-24T17:04:35.414Z"
   },
   {
    "duration": 231,
    "start_time": "2023-01-24T17:04:36.561Z"
   },
   {
    "duration": 235,
    "start_time": "2023-01-24T17:04:50.033Z"
   },
   {
    "duration": 240,
    "start_time": "2023-01-24T17:04:50.879Z"
   },
   {
    "duration": 5,
    "start_time": "2023-01-24T17:07:06.822Z"
   },
   {
    "duration": 322,
    "start_time": "2023-01-24T17:07:07.819Z"
   },
   {
    "duration": 6,
    "start_time": "2023-01-24T17:08:05.811Z"
   },
   {
    "duration": 413,
    "start_time": "2023-01-24T17:08:07.656Z"
   },
   {
    "duration": 6,
    "start_time": "2023-01-24T17:08:55.018Z"
   },
   {
    "duration": 368,
    "start_time": "2023-01-24T17:08:55.240Z"
   },
   {
    "duration": 5,
    "start_time": "2023-01-24T17:09:03.106Z"
   },
   {
    "duration": 364,
    "start_time": "2023-01-24T17:09:03.514Z"
   },
   {
    "duration": 9,
    "start_time": "2023-01-24T17:09:07.431Z"
   },
   {
    "duration": 329,
    "start_time": "2023-01-24T17:09:07.614Z"
   },
   {
    "duration": 6,
    "start_time": "2023-01-24T17:09:12.753Z"
   },
   {
    "duration": 413,
    "start_time": "2023-01-24T17:09:12.959Z"
   },
   {
    "duration": 5,
    "start_time": "2023-01-24T17:09:32.487Z"
   },
   {
    "duration": 303,
    "start_time": "2023-01-24T17:09:32.999Z"
   },
   {
    "duration": 6,
    "start_time": "2023-01-24T17:09:53.398Z"
   },
   {
    "duration": 294,
    "start_time": "2023-01-24T17:09:53.744Z"
   },
   {
    "duration": 319,
    "start_time": "2023-01-24T17:10:18.831Z"
   },
   {
    "duration": 286,
    "start_time": "2023-01-24T17:10:19.544Z"
   },
   {
    "duration": 381,
    "start_time": "2023-01-24T17:10:37.882Z"
   },
   {
    "duration": 6,
    "start_time": "2023-01-24T17:25:48.701Z"
   },
   {
    "duration": 290,
    "start_time": "2023-01-24T17:25:48.877Z"
   },
   {
    "duration": 6,
    "start_time": "2023-01-24T17:26:22.474Z"
   },
   {
    "duration": 298,
    "start_time": "2023-01-24T17:26:23.011Z"
   },
   {
    "duration": 6,
    "start_time": "2023-01-24T17:27:01.916Z"
   },
   {
    "duration": 322,
    "start_time": "2023-01-24T17:27:02.641Z"
   },
   {
    "duration": 395,
    "start_time": "2023-01-24T17:27:05.582Z"
   },
   {
    "duration": 5,
    "start_time": "2023-01-24T17:49:19.426Z"
   },
   {
    "duration": 405,
    "start_time": "2023-01-24T20:10:59.858Z"
   },
   {
    "duration": 6,
    "start_time": "2023-01-24T20:27:08.591Z"
   },
   {
    "duration": 7,
    "start_time": "2023-01-24T20:27:17.449Z"
   },
   {
    "duration": 4,
    "start_time": "2023-01-24T20:27:41.712Z"
   },
   {
    "duration": 8,
    "start_time": "2023-01-24T20:27:42.246Z"
   },
   {
    "duration": 7,
    "start_time": "2023-01-24T20:27:43.004Z"
   },
   {
    "duration": 2257,
    "start_time": "2023-01-24T20:27:52.323Z"
   },
   {
    "duration": 72,
    "start_time": "2023-01-24T20:27:54.582Z"
   },
   {
    "duration": 23,
    "start_time": "2023-01-24T20:27:54.656Z"
   },
   {
    "duration": 17,
    "start_time": "2023-01-24T20:27:54.681Z"
   },
   {
    "duration": 5,
    "start_time": "2023-01-24T20:27:54.700Z"
   },
   {
    "duration": 1123,
    "start_time": "2023-01-24T20:27:54.707Z"
   },
   {
    "duration": 733,
    "start_time": "2023-01-24T20:27:55.832Z"
   },
   {
    "duration": 16,
    "start_time": "2023-01-24T20:27:56.567Z"
   },
   {
    "duration": 3,
    "start_time": "2023-01-24T20:27:56.585Z"
   },
   {
    "duration": 6,
    "start_time": "2023-01-24T20:27:56.590Z"
   },
   {
    "duration": 9,
    "start_time": "2023-01-24T20:27:56.597Z"
   },
   {
    "duration": 5,
    "start_time": "2023-01-24T20:27:56.639Z"
   },
   {
    "duration": 167,
    "start_time": "2023-01-24T20:27:56.645Z"
   },
   {
    "duration": 5,
    "start_time": "2023-01-24T20:27:56.814Z"
   },
   {
    "duration": 21,
    "start_time": "2023-01-24T20:27:56.820Z"
   },
   {
    "duration": 23,
    "start_time": "2023-01-24T20:27:56.843Z"
   },
   {
    "duration": 4,
    "start_time": "2023-01-24T20:27:56.867Z"
   },
   {
    "duration": 6,
    "start_time": "2023-01-24T20:27:56.873Z"
   },
   {
    "duration": 476,
    "start_time": "2023-01-24T20:27:56.880Z"
   },
   {
    "duration": 905,
    "start_time": "2023-01-24T20:27:57.358Z"
   },
   {
    "duration": 5,
    "start_time": "2023-01-24T20:27:58.265Z"
   },
   {
    "duration": 417,
    "start_time": "2023-01-24T20:27:58.271Z"
   },
   {
    "duration": 3,
    "start_time": "2023-01-24T20:27:58.690Z"
   },
   {
    "duration": 287,
    "start_time": "2023-01-24T20:27:58.694Z"
   },
   {
    "duration": 383,
    "start_time": "2023-01-24T20:27:58.982Z"
   },
   {
    "duration": 5,
    "start_time": "2023-01-24T20:27:59.366Z"
   },
   {
    "duration": 1387,
    "start_time": "2023-01-24T20:27:59.373Z"
   },
   {
    "duration": 206,
    "start_time": "2023-01-24T20:28:00.763Z"
   },
   {
    "duration": 193,
    "start_time": "2023-01-24T20:28:00.971Z"
   },
   {
    "duration": 6,
    "start_time": "2023-01-24T20:28:01.166Z"
   },
   {
    "duration": 500,
    "start_time": "2023-01-24T20:28:01.173Z"
   },
   {
    "duration": 350,
    "start_time": "2023-01-24T20:28:01.675Z"
   },
   {
    "duration": 372,
    "start_time": "2023-01-24T20:28:02.027Z"
   },
   {
    "duration": 5,
    "start_time": "2023-01-24T20:28:02.400Z"
   },
   {
    "duration": 16,
    "start_time": "2023-01-24T20:28:02.406Z"
   },
   {
    "duration": 43,
    "start_time": "2023-01-24T20:28:02.423Z"
   },
   {
    "duration": 6,
    "start_time": "2023-01-24T20:33:09.812Z"
   },
   {
    "duration": 7,
    "start_time": "2023-01-24T20:35:35.995Z"
   },
   {
    "duration": 7,
    "start_time": "2023-01-24T20:35:42.872Z"
   },
   {
    "duration": 5,
    "start_time": "2023-01-24T20:35:57.211Z"
   },
   {
    "duration": 31,
    "start_time": "2023-01-24T20:37:14.855Z"
   },
   {
    "duration": 8,
    "start_time": "2023-01-24T20:41:21.277Z"
   },
   {
    "duration": 8,
    "start_time": "2023-01-24T20:43:15.726Z"
   },
   {
    "duration": 8,
    "start_time": "2023-01-24T20:48:32.414Z"
   },
   {
    "duration": 9,
    "start_time": "2023-01-24T20:49:07.819Z"
   },
   {
    "duration": 8,
    "start_time": "2023-01-24T20:49:18.722Z"
   },
   {
    "duration": 8,
    "start_time": "2023-01-24T20:49:25.374Z"
   },
   {
    "duration": 7,
    "start_time": "2023-01-24T20:49:48.738Z"
   },
   {
    "duration": 9,
    "start_time": "2023-01-24T20:50:00.281Z"
   },
   {
    "duration": 8,
    "start_time": "2023-01-24T20:50:01.077Z"
   },
   {
    "duration": 8,
    "start_time": "2023-01-24T21:20:39.603Z"
   },
   {
    "duration": 11,
    "start_time": "2023-01-25T09:20:09.572Z"
   },
   {
    "duration": 4381,
    "start_time": "2023-01-25T09:20:20.200Z"
   },
   {
    "duration": 194,
    "start_time": "2023-01-25T09:20:24.583Z"
   },
   {
    "duration": 14,
    "start_time": "2023-01-25T09:20:24.778Z"
   },
   {
    "duration": 18,
    "start_time": "2023-01-25T09:20:24.794Z"
   },
   {
    "duration": 5,
    "start_time": "2023-01-25T09:20:24.813Z"
   },
   {
    "duration": 1166,
    "start_time": "2023-01-25T09:20:24.820Z"
   },
   {
    "duration": 642,
    "start_time": "2023-01-25T09:20:25.987Z"
   },
   {
    "duration": 29,
    "start_time": "2023-01-25T09:20:26.631Z"
   },
   {
    "duration": 3,
    "start_time": "2023-01-25T09:20:26.663Z"
   },
   {
    "duration": 8,
    "start_time": "2023-01-25T09:20:26.668Z"
   },
   {
    "duration": 8,
    "start_time": "2023-01-25T09:20:26.678Z"
   },
   {
    "duration": 11,
    "start_time": "2023-01-25T09:20:26.687Z"
   },
   {
    "duration": 163,
    "start_time": "2023-01-25T09:20:26.699Z"
   },
   {
    "duration": 9,
    "start_time": "2023-01-25T09:20:26.865Z"
   },
   {
    "duration": 8,
    "start_time": "2023-01-25T09:20:26.876Z"
   },
   {
    "duration": 8,
    "start_time": "2023-01-25T09:20:26.885Z"
   },
   {
    "duration": 3,
    "start_time": "2023-01-25T09:20:26.895Z"
   },
   {
    "duration": 6,
    "start_time": "2023-01-25T09:20:26.899Z"
   },
   {
    "duration": 430,
    "start_time": "2023-01-25T09:20:26.906Z"
   },
   {
    "duration": 793,
    "start_time": "2023-01-25T09:20:27.338Z"
   },
   {
    "duration": 4,
    "start_time": "2023-01-25T09:20:28.133Z"
   },
   {
    "duration": 380,
    "start_time": "2023-01-25T09:20:28.138Z"
   },
   {
    "duration": 3,
    "start_time": "2023-01-25T09:20:28.519Z"
   },
   {
    "duration": 271,
    "start_time": "2023-01-25T09:20:28.524Z"
   },
   {
    "duration": 342,
    "start_time": "2023-01-25T09:20:28.796Z"
   },
   {
    "duration": 1180,
    "start_time": "2023-01-25T09:20:29.140Z"
   },
   {
    "duration": 169,
    "start_time": "2023-01-25T09:20:30.322Z"
   },
   {
    "duration": 246,
    "start_time": "2023-01-25T09:20:30.495Z"
   },
   {
    "duration": 11,
    "start_time": "2023-01-25T09:20:30.743Z"
   },
   {
    "duration": 399,
    "start_time": "2023-01-25T09:20:30.756Z"
   },
   {
    "duration": 370,
    "start_time": "2023-01-25T09:20:31.158Z"
   },
   {
    "duration": 397,
    "start_time": "2023-01-25T09:20:31.530Z"
   },
   {
    "duration": 8,
    "start_time": "2023-01-25T09:20:31.928Z"
   },
   {
    "duration": 42,
    "start_time": "2023-01-25T09:20:31.956Z"
   },
   {
    "duration": 13,
    "start_time": "2023-01-25T09:22:19.344Z"
   },
   {
    "duration": 499,
    "start_time": "2023-01-25T09:22:25.181Z"
   },
   {
    "duration": 346,
    "start_time": "2023-01-25T09:24:04.874Z"
   },
   {
    "duration": 322,
    "start_time": "2023-01-25T09:24:06.404Z"
   },
   {
    "duration": 4601,
    "start_time": "2023-01-25T19:28:31.284Z"
   },
   {
    "duration": 61,
    "start_time": "2023-01-25T19:28:35.887Z"
   },
   {
    "duration": 26,
    "start_time": "2023-01-25T19:28:35.950Z"
   },
   {
    "duration": 19,
    "start_time": "2023-01-25T19:28:35.979Z"
   },
   {
    "duration": 4,
    "start_time": "2023-01-25T19:28:36.000Z"
   },
   {
    "duration": 1032,
    "start_time": "2023-01-25T19:28:36.006Z"
   },
   {
    "duration": 751,
    "start_time": "2023-01-25T19:28:37.043Z"
   },
   {
    "duration": 14,
    "start_time": "2023-01-25T19:28:37.796Z"
   },
   {
    "duration": 16,
    "start_time": "2023-01-25T19:28:37.812Z"
   },
   {
    "duration": 10,
    "start_time": "2023-01-25T19:28:37.835Z"
   },
   {
    "duration": 33,
    "start_time": "2023-01-25T19:28:37.847Z"
   },
   {
    "duration": 9,
    "start_time": "2023-01-25T19:28:37.882Z"
   },
   {
    "duration": 159,
    "start_time": "2023-01-25T19:28:37.893Z"
   },
   {
    "duration": 9,
    "start_time": "2023-01-25T19:28:38.056Z"
   },
   {
    "duration": 24,
    "start_time": "2023-01-25T19:28:38.066Z"
   },
   {
    "duration": 27,
    "start_time": "2023-01-25T19:28:38.092Z"
   },
   {
    "duration": 57,
    "start_time": "2023-01-25T19:28:38.121Z"
   },
   {
    "duration": 14,
    "start_time": "2023-01-25T19:28:38.179Z"
   },
   {
    "duration": 489,
    "start_time": "2023-01-25T19:28:38.195Z"
   },
   {
    "duration": 950,
    "start_time": "2023-01-25T19:28:38.687Z"
   },
   {
    "duration": 12,
    "start_time": "2023-01-25T19:28:39.642Z"
   },
   {
    "duration": 440,
    "start_time": "2023-01-25T19:28:39.665Z"
   },
   {
    "duration": 3,
    "start_time": "2023-01-25T19:28:40.107Z"
   },
   {
    "duration": 396,
    "start_time": "2023-01-25T19:28:40.111Z"
   },
   {
    "duration": 425,
    "start_time": "2023-01-25T19:28:40.509Z"
   },
   {
    "duration": 1345,
    "start_time": "2023-01-25T19:28:40.941Z"
   },
   {
    "duration": 193,
    "start_time": "2023-01-25T19:28:42.287Z"
   },
   {
    "duration": 204,
    "start_time": "2023-01-25T19:28:42.482Z"
   },
   {
    "duration": 6,
    "start_time": "2023-01-25T19:28:42.689Z"
   },
   {
    "duration": 515,
    "start_time": "2023-01-25T19:28:42.697Z"
   },
   {
    "duration": 399,
    "start_time": "2023-01-25T19:28:43.214Z"
   },
   {
    "duration": 416,
    "start_time": "2023-01-25T19:28:43.615Z"
   },
   {
    "duration": 12,
    "start_time": "2023-01-25T19:28:44.036Z"
   },
   {
    "duration": 31,
    "start_time": "2023-01-25T19:28:44.052Z"
   },
   {
    "duration": 23,
    "start_time": "2023-01-25T19:38:55.167Z"
   },
   {
    "duration": 16,
    "start_time": "2023-01-25T19:43:04.655Z"
   },
   {
    "duration": 7,
    "start_time": "2023-01-25T19:43:28.196Z"
   },
   {
    "duration": 5122,
    "start_time": "2023-01-25T19:54:46.983Z"
   },
   {
    "duration": 147,
    "start_time": "2023-01-25T19:54:52.107Z"
   },
   {
    "duration": 22,
    "start_time": "2023-01-25T19:54:52.255Z"
   },
   {
    "duration": 18,
    "start_time": "2023-01-25T19:54:52.279Z"
   },
   {
    "duration": 4,
    "start_time": "2023-01-25T19:54:52.299Z"
   },
   {
    "duration": 1139,
    "start_time": "2023-01-25T19:54:52.304Z"
   },
   {
    "duration": 770,
    "start_time": "2023-01-25T19:54:53.444Z"
   },
   {
    "duration": 24,
    "start_time": "2023-01-25T19:54:54.216Z"
   },
   {
    "duration": 31,
    "start_time": "2023-01-25T19:54:54.247Z"
   },
   {
    "duration": 10,
    "start_time": "2023-01-25T19:54:54.280Z"
   },
   {
    "duration": 13,
    "start_time": "2023-01-25T19:54:54.291Z"
   },
   {
    "duration": 18,
    "start_time": "2023-01-25T19:54:54.306Z"
   },
   {
    "duration": 239,
    "start_time": "2023-01-25T19:54:54.325Z"
   },
   {
    "duration": 6,
    "start_time": "2023-01-25T19:54:54.569Z"
   },
   {
    "duration": 15,
    "start_time": "2023-01-25T19:54:54.577Z"
   },
   {
    "duration": 20,
    "start_time": "2023-01-25T19:54:54.593Z"
   },
   {
    "duration": 67,
    "start_time": "2023-01-25T19:54:54.615Z"
   },
   {
    "duration": 125,
    "start_time": "2023-01-25T19:54:54.684Z"
   },
   {
    "duration": 0,
    "start_time": "2023-01-25T19:54:54.811Z"
   },
   {
    "duration": 0,
    "start_time": "2023-01-25T19:54:54.812Z"
   },
   {
    "duration": 0,
    "start_time": "2023-01-25T19:54:54.813Z"
   },
   {
    "duration": 0,
    "start_time": "2023-01-25T19:54:54.814Z"
   },
   {
    "duration": 0,
    "start_time": "2023-01-25T19:54:54.815Z"
   },
   {
    "duration": 0,
    "start_time": "2023-01-25T19:54:54.816Z"
   },
   {
    "duration": 0,
    "start_time": "2023-01-25T19:54:54.921Z"
   },
   {
    "duration": 0,
    "start_time": "2023-01-25T19:54:54.922Z"
   },
   {
    "duration": 0,
    "start_time": "2023-01-25T19:54:54.923Z"
   },
   {
    "duration": 0,
    "start_time": "2023-01-25T19:54:54.924Z"
   },
   {
    "duration": 0,
    "start_time": "2023-01-25T19:54:54.925Z"
   },
   {
    "duration": 0,
    "start_time": "2023-01-25T19:54:54.932Z"
   },
   {
    "duration": 0,
    "start_time": "2023-01-25T19:54:54.939Z"
   },
   {
    "duration": 0,
    "start_time": "2023-01-25T19:54:54.940Z"
   },
   {
    "duration": 0,
    "start_time": "2023-01-25T19:54:54.941Z"
   },
   {
    "duration": 0,
    "start_time": "2023-01-25T19:54:54.950Z"
   },
   {
    "duration": 0,
    "start_time": "2023-01-25T19:54:54.951Z"
   },
   {
    "duration": 5,
    "start_time": "2023-01-25T19:55:31.376Z"
   },
   {
    "duration": 390,
    "start_time": "2023-01-25T19:55:38.109Z"
   },
   {
    "duration": 901,
    "start_time": "2023-01-25T19:55:38.501Z"
   },
   {
    "duration": 35,
    "start_time": "2023-01-25T19:55:39.403Z"
   },
   {
    "duration": 4,
    "start_time": "2023-01-25T19:55:39.442Z"
   },
   {
    "duration": 436,
    "start_time": "2023-01-25T19:55:39.448Z"
   },
   {
    "duration": 3,
    "start_time": "2023-01-25T19:55:39.887Z"
   },
   {
    "duration": 311,
    "start_time": "2023-01-25T19:55:39.892Z"
   },
   {
    "duration": 463,
    "start_time": "2023-01-25T19:55:40.205Z"
   },
   {
    "duration": 1275,
    "start_time": "2023-01-25T19:55:40.673Z"
   },
   {
    "duration": 181,
    "start_time": "2023-01-25T19:55:41.953Z"
   },
   {
    "duration": 277,
    "start_time": "2023-01-25T19:55:42.144Z"
   },
   {
    "duration": 15,
    "start_time": "2023-01-25T19:55:42.430Z"
   },
   {
    "duration": 423,
    "start_time": "2023-01-25T19:55:42.447Z"
   },
   {
    "duration": 414,
    "start_time": "2023-01-25T19:55:42.872Z"
   },
   {
    "duration": 395,
    "start_time": "2023-01-25T19:55:43.288Z"
   },
   {
    "duration": 7,
    "start_time": "2023-01-25T19:55:43.685Z"
   },
   {
    "duration": 12,
    "start_time": "2023-01-25T19:55:43.693Z"
   },
   {
    "duration": 17,
    "start_time": "2023-01-25T19:56:22.081Z"
   },
   {
    "duration": 18,
    "start_time": "2023-01-25T19:56:29.607Z"
   },
   {
    "duration": 24,
    "start_time": "2023-01-25T19:56:36.710Z"
   },
   {
    "duration": 14,
    "start_time": "2023-01-25T20:52:38.815Z"
   },
   {
    "duration": 3,
    "start_time": "2023-01-25T20:52:42.361Z"
   },
   {
    "duration": 3,
    "start_time": "2023-01-25T20:52:43.412Z"
   },
   {
    "duration": 1927,
    "start_time": "2023-01-25T20:52:56.186Z"
   },
   {
    "duration": 47,
    "start_time": "2023-01-25T20:52:58.116Z"
   },
   {
    "duration": 15,
    "start_time": "2023-01-25T20:52:58.165Z"
   },
   {
    "duration": 15,
    "start_time": "2023-01-25T20:52:58.182Z"
   },
   {
    "duration": 6,
    "start_time": "2023-01-25T20:52:58.199Z"
   },
   {
    "duration": 1210,
    "start_time": "2023-01-25T20:52:58.207Z"
   },
   {
    "duration": 676,
    "start_time": "2023-01-25T20:52:59.418Z"
   },
   {
    "duration": 16,
    "start_time": "2023-01-25T20:53:00.096Z"
   },
   {
    "duration": 14,
    "start_time": "2023-01-25T20:53:00.113Z"
   },
   {
    "duration": 28,
    "start_time": "2023-01-25T20:53:00.130Z"
   },
   {
    "duration": 20,
    "start_time": "2023-01-25T20:53:00.160Z"
   },
   {
    "duration": 11,
    "start_time": "2023-01-25T20:53:00.182Z"
   },
   {
    "duration": 177,
    "start_time": "2023-01-25T20:53:00.195Z"
   },
   {
    "duration": 8,
    "start_time": "2023-01-25T20:53:00.374Z"
   },
   {
    "duration": 42,
    "start_time": "2023-01-25T20:53:00.384Z"
   },
   {
    "duration": 27,
    "start_time": "2023-01-25T20:53:00.428Z"
   },
   {
    "duration": 24,
    "start_time": "2023-01-25T20:53:00.458Z"
   },
   {
    "duration": 28,
    "start_time": "2023-01-25T20:53:00.484Z"
   },
   {
    "duration": 384,
    "start_time": "2023-01-25T20:53:00.514Z"
   },
   {
    "duration": 951,
    "start_time": "2023-01-25T20:53:00.901Z"
   },
   {
    "duration": 18,
    "start_time": "2023-01-25T20:53:01.854Z"
   },
   {
    "duration": 8,
    "start_time": "2023-01-25T20:53:01.874Z"
   },
   {
    "duration": 391,
    "start_time": "2023-01-25T20:53:01.883Z"
   },
   {
    "duration": 2,
    "start_time": "2023-01-25T20:53:02.276Z"
   },
   {
    "duration": 40,
    "start_time": "2023-01-25T20:53:02.280Z"
   },
   {
    "duration": 22,
    "start_time": "2023-01-25T20:56:50.456Z"
   },
   {
    "duration": 27,
    "start_time": "2023-01-25T20:57:18.257Z"
   },
   {
    "duration": 140,
    "start_time": "2023-01-25T20:58:44.281Z"
   },
   {
    "duration": 155,
    "start_time": "2023-01-25T20:58:54.628Z"
   },
   {
    "duration": 256,
    "start_time": "2023-01-25T21:10:27.672Z"
   },
   {
    "duration": 254,
    "start_time": "2023-01-25T21:10:27.931Z"
   },
   {
    "duration": 59,
    "start_time": "2023-01-25T21:10:31.060Z"
   },
   {
    "duration": 944,
    "start_time": "2023-01-25T21:10:55.048Z"
   },
   {
    "duration": 1123,
    "start_time": "2023-01-25T21:11:21.081Z"
   },
   {
    "duration": 167,
    "start_time": "2023-01-25T21:16:35.619Z"
   },
   {
    "duration": 155,
    "start_time": "2023-01-25T21:16:37.247Z"
   },
   {
    "duration": 6,
    "start_time": "2023-01-25T21:16:40.682Z"
   },
   {
    "duration": 370,
    "start_time": "2023-01-25T21:16:42.827Z"
   },
   {
    "duration": 332,
    "start_time": "2023-01-25T21:16:44.400Z"
   },
   {
    "duration": 479,
    "start_time": "2023-01-25T21:16:44.887Z"
   },
   {
    "duration": 4227,
    "start_time": "2023-01-26T12:03:17.000Z"
   },
   {
    "duration": 191,
    "start_time": "2023-01-26T12:03:21.229Z"
   },
   {
    "duration": 15,
    "start_time": "2023-01-26T12:03:21.422Z"
   },
   {
    "duration": 23,
    "start_time": "2023-01-26T12:03:21.440Z"
   },
   {
    "duration": 4,
    "start_time": "2023-01-26T12:03:21.465Z"
   },
   {
    "duration": 1081,
    "start_time": "2023-01-26T12:03:21.471Z"
   },
   {
    "duration": 638,
    "start_time": "2023-01-26T12:03:22.554Z"
   },
   {
    "duration": 19,
    "start_time": "2023-01-26T12:03:23.194Z"
   },
   {
    "duration": 21,
    "start_time": "2023-01-26T12:03:23.216Z"
   },
   {
    "duration": 11,
    "start_time": "2023-01-26T12:03:23.240Z"
   },
   {
    "duration": 22,
    "start_time": "2023-01-26T12:03:23.253Z"
   },
   {
    "duration": 5,
    "start_time": "2023-01-26T12:03:23.276Z"
   },
   {
    "duration": 154,
    "start_time": "2023-01-26T12:03:23.282Z"
   },
   {
    "duration": 5,
    "start_time": "2023-01-26T12:03:23.437Z"
   },
   {
    "duration": 16,
    "start_time": "2023-01-26T12:03:23.444Z"
   },
   {
    "duration": 23,
    "start_time": "2023-01-26T12:03:23.461Z"
   },
   {
    "duration": 6,
    "start_time": "2023-01-26T12:03:23.486Z"
   },
   {
    "duration": 14,
    "start_time": "2023-01-26T12:03:23.493Z"
   },
   {
    "duration": 424,
    "start_time": "2023-01-26T12:03:23.509Z"
   },
   {
    "duration": 762,
    "start_time": "2023-01-26T12:03:23.935Z"
   },
   {
    "duration": 19,
    "start_time": "2023-01-26T12:03:24.698Z"
   },
   {
    "duration": 5,
    "start_time": "2023-01-26T12:03:24.718Z"
   },
   {
    "duration": 369,
    "start_time": "2023-01-26T12:03:24.725Z"
   },
   {
    "duration": 2,
    "start_time": "2023-01-26T12:03:25.096Z"
   },
   {
    "duration": 14,
    "start_time": "2023-01-26T12:03:25.100Z"
   },
   {
    "duration": 152,
    "start_time": "2023-01-26T12:03:25.115Z"
   },
   {
    "duration": 337,
    "start_time": "2023-01-26T12:03:25.269Z"
   },
   {
    "duration": 282,
    "start_time": "2023-01-26T12:03:25.609Z"
   },
   {
    "duration": 108,
    "start_time": "2023-01-26T12:03:25.893Z"
   },
   {
    "duration": 0,
    "start_time": "2023-01-26T12:03:26.003Z"
   },
   {
    "duration": 0,
    "start_time": "2023-01-26T12:03:26.004Z"
   },
   {
    "duration": 0,
    "start_time": "2023-01-26T12:03:26.005Z"
   },
   {
    "duration": 0,
    "start_time": "2023-01-26T12:03:26.007Z"
   },
   {
    "duration": 0,
    "start_time": "2023-01-26T12:03:26.008Z"
   },
   {
    "duration": 0,
    "start_time": "2023-01-26T12:03:26.009Z"
   },
   {
    "duration": 0,
    "start_time": "2023-01-26T12:03:26.010Z"
   },
   {
    "duration": 0,
    "start_time": "2023-01-26T12:03:26.012Z"
   },
   {
    "duration": 2246,
    "start_time": "2023-01-26T12:03:59.966Z"
   },
   {
    "duration": 51,
    "start_time": "2023-01-26T12:04:02.215Z"
   },
   {
    "duration": 14,
    "start_time": "2023-01-26T12:04:02.268Z"
   },
   {
    "duration": 17,
    "start_time": "2023-01-26T12:04:02.284Z"
   },
   {
    "duration": 40,
    "start_time": "2023-01-26T12:04:02.302Z"
   },
   {
    "duration": 1139,
    "start_time": "2023-01-26T12:04:02.344Z"
   },
   {
    "duration": 639,
    "start_time": "2023-01-26T12:04:03.485Z"
   },
   {
    "duration": 17,
    "start_time": "2023-01-26T12:04:04.126Z"
   },
   {
    "duration": 3,
    "start_time": "2023-01-26T12:04:04.145Z"
   },
   {
    "duration": 6,
    "start_time": "2023-01-26T12:04:04.151Z"
   },
   {
    "duration": 33,
    "start_time": "2023-01-26T12:04:04.158Z"
   },
   {
    "duration": 5,
    "start_time": "2023-01-26T12:04:04.193Z"
   },
   {
    "duration": 148,
    "start_time": "2023-01-26T12:04:04.200Z"
   },
   {
    "duration": 6,
    "start_time": "2023-01-26T12:04:04.350Z"
   },
   {
    "duration": 9,
    "start_time": "2023-01-26T12:04:04.357Z"
   },
   {
    "duration": 25,
    "start_time": "2023-01-26T12:04:04.367Z"
   },
   {
    "duration": 4,
    "start_time": "2023-01-26T12:04:04.394Z"
   },
   {
    "duration": 6,
    "start_time": "2023-01-26T12:04:04.400Z"
   },
   {
    "duration": 356,
    "start_time": "2023-01-26T12:04:04.408Z"
   },
   {
    "duration": 885,
    "start_time": "2023-01-26T12:04:04.765Z"
   },
   {
    "duration": 20,
    "start_time": "2023-01-26T12:04:05.652Z"
   },
   {
    "duration": 5,
    "start_time": "2023-01-26T12:04:05.673Z"
   },
   {
    "duration": 385,
    "start_time": "2023-01-26T12:04:05.692Z"
   },
   {
    "duration": 3,
    "start_time": "2023-01-26T12:04:06.079Z"
   },
   {
    "duration": 16,
    "start_time": "2023-01-26T12:04:06.092Z"
   },
   {
    "duration": 196,
    "start_time": "2023-01-26T12:04:06.110Z"
   },
   {
    "duration": 277,
    "start_time": "2023-01-26T12:04:06.308Z"
   },
   {
    "duration": 357,
    "start_time": "2023-01-26T12:04:06.591Z"
   },
   {
    "duration": 1262,
    "start_time": "2023-01-26T12:04:06.950Z"
   },
   {
    "duration": 168,
    "start_time": "2023-01-26T12:04:08.214Z"
   },
   {
    "duration": 186,
    "start_time": "2023-01-26T12:04:08.384Z"
   },
   {
    "duration": 7,
    "start_time": "2023-01-26T12:04:08.571Z"
   },
   {
    "duration": 483,
    "start_time": "2023-01-26T12:04:08.591Z"
   },
   {
    "duration": 400,
    "start_time": "2023-01-26T12:04:09.076Z"
   },
   {
    "duration": 401,
    "start_time": "2023-01-26T12:04:09.491Z"
   },
   {
    "duration": 11,
    "start_time": "2023-01-26T12:04:09.893Z"
   },
   {
    "duration": 33,
    "start_time": "2023-01-26T12:04:09.908Z"
   },
   {
    "duration": 2358,
    "start_time": "2023-01-26T12:06:51.050Z"
   },
   {
    "duration": 18,
    "start_time": "2023-01-26T12:11:39.681Z"
   },
   {
    "duration": 12,
    "start_time": "2023-01-26T12:11:46.297Z"
   },
   {
    "duration": 3,
    "start_time": "2023-01-26T12:12:38.051Z"
   },
   {
    "duration": 8,
    "start_time": "2023-01-26T12:12:38.060Z"
   },
   {
    "duration": 19,
    "start_time": "2023-01-26T12:12:38.071Z"
   },
   {
    "duration": 8,
    "start_time": "2023-01-26T12:12:38.091Z"
   },
   {
    "duration": 147,
    "start_time": "2023-01-26T12:12:38.100Z"
   },
   {
    "duration": 5,
    "start_time": "2023-01-26T12:12:38.249Z"
   },
   {
    "duration": 25,
    "start_time": "2023-01-26T12:12:38.256Z"
   },
   {
    "duration": 8,
    "start_time": "2023-01-26T12:12:38.282Z"
   },
   {
    "duration": 3,
    "start_time": "2023-01-26T12:12:38.291Z"
   },
   {
    "duration": 6,
    "start_time": "2023-01-26T12:12:38.296Z"
   },
   {
    "duration": 347,
    "start_time": "2023-01-26T12:12:38.303Z"
   },
   {
    "duration": 860,
    "start_time": "2023-01-26T12:12:38.652Z"
   },
   {
    "duration": 18,
    "start_time": "2023-01-26T12:12:39.514Z"
   },
   {
    "duration": 4,
    "start_time": "2023-01-26T12:12:39.534Z"
   },
   {
    "duration": 366,
    "start_time": "2023-01-26T12:12:39.540Z"
   },
   {
    "duration": 4,
    "start_time": "2023-01-26T12:12:39.908Z"
   },
   {
    "duration": 8,
    "start_time": "2023-01-26T12:12:39.913Z"
   },
   {
    "duration": 151,
    "start_time": "2023-01-26T12:12:39.922Z"
   },
   {
    "duration": 270,
    "start_time": "2023-01-26T12:12:40.074Z"
   },
   {
    "duration": 266,
    "start_time": "2023-01-26T12:12:40.347Z"
   },
   {
    "duration": 1239,
    "start_time": "2023-01-26T12:12:40.614Z"
   },
   {
    "duration": 164,
    "start_time": "2023-01-26T12:12:41.855Z"
   },
   {
    "duration": 155,
    "start_time": "2023-01-26T12:12:42.021Z"
   },
   {
    "duration": 13,
    "start_time": "2023-01-26T12:12:42.178Z"
   },
   {
    "duration": 401,
    "start_time": "2023-01-26T12:12:42.193Z"
   },
   {
    "duration": 335,
    "start_time": "2023-01-26T12:12:42.596Z"
   },
   {
    "duration": 343,
    "start_time": "2023-01-26T12:12:42.933Z"
   },
   {
    "duration": 19,
    "start_time": "2023-01-26T12:12:43.277Z"
   },
   {
    "duration": 11,
    "start_time": "2023-01-26T12:12:43.298Z"
   },
   {
    "duration": 2288,
    "start_time": "2023-01-26T12:12:52.883Z"
   },
   {
    "duration": 51,
    "start_time": "2023-01-26T12:12:55.173Z"
   },
   {
    "duration": 16,
    "start_time": "2023-01-26T12:12:55.226Z"
   },
   {
    "duration": 17,
    "start_time": "2023-01-26T12:12:55.245Z"
   },
   {
    "duration": 9,
    "start_time": "2023-01-26T12:12:55.264Z"
   },
   {
    "duration": 1105,
    "start_time": "2023-01-26T12:12:55.275Z"
   },
   {
    "duration": 778,
    "start_time": "2023-01-26T12:12:56.382Z"
   },
   {
    "duration": 14,
    "start_time": "2023-01-26T12:12:57.161Z"
   },
   {
    "duration": 13,
    "start_time": "2023-01-26T12:13:14.819Z"
   },
   {
    "duration": 24,
    "start_time": "2023-01-26T12:13:46.436Z"
   },
   {
    "duration": 9,
    "start_time": "2023-01-26T12:14:13.781Z"
   },
   {
    "duration": 10,
    "start_time": "2023-01-26T12:14:19.472Z"
   },
   {
    "duration": 2146,
    "start_time": "2023-01-26T12:20:18.063Z"
   },
   {
    "duration": 49,
    "start_time": "2023-01-26T12:20:20.212Z"
   },
   {
    "duration": 14,
    "start_time": "2023-01-26T12:20:20.263Z"
   },
   {
    "duration": 15,
    "start_time": "2023-01-26T12:20:20.279Z"
   },
   {
    "duration": 10,
    "start_time": "2023-01-26T12:20:20.295Z"
   },
   {
    "duration": 1038,
    "start_time": "2023-01-26T12:20:20.307Z"
   },
   {
    "duration": 616,
    "start_time": "2023-01-26T12:20:21.347Z"
   },
   {
    "duration": 15,
    "start_time": "2023-01-26T12:20:21.965Z"
   },
   {
    "duration": 10,
    "start_time": "2023-01-26T12:20:21.991Z"
   },
   {
    "duration": 9,
    "start_time": "2023-01-26T12:20:22.004Z"
   },
   {
    "duration": 14,
    "start_time": "2023-01-26T12:20:22.015Z"
   },
   {
    "duration": 8,
    "start_time": "2023-01-26T12:20:22.030Z"
   },
   {
    "duration": 9,
    "start_time": "2023-01-26T12:20:22.040Z"
   },
   {
    "duration": 19,
    "start_time": "2023-01-26T12:20:22.050Z"
   },
   {
    "duration": 8,
    "start_time": "2023-01-26T12:20:22.071Z"
   },
   {
    "duration": 134,
    "start_time": "2023-01-26T12:20:22.080Z"
   },
   {
    "duration": 5,
    "start_time": "2023-01-26T12:20:22.216Z"
   },
   {
    "duration": 10,
    "start_time": "2023-01-26T12:20:22.223Z"
   },
   {
    "duration": 12,
    "start_time": "2023-01-26T12:20:22.235Z"
   },
   {
    "duration": 9,
    "start_time": "2023-01-26T12:20:22.248Z"
   },
   {
    "duration": 7,
    "start_time": "2023-01-26T12:20:22.258Z"
   },
   {
    "duration": 344,
    "start_time": "2023-01-26T12:20:22.266Z"
   },
   {
    "duration": 927,
    "start_time": "2023-01-26T12:20:22.612Z"
   },
   {
    "duration": 20,
    "start_time": "2023-01-26T12:20:23.540Z"
   },
   {
    "duration": 4,
    "start_time": "2023-01-26T12:20:23.562Z"
   },
   {
    "duration": 365,
    "start_time": "2023-01-26T12:20:23.568Z"
   },
   {
    "duration": 3,
    "start_time": "2023-01-26T12:20:23.934Z"
   },
   {
    "duration": 6,
    "start_time": "2023-01-26T12:20:23.940Z"
   },
   {
    "duration": 164,
    "start_time": "2023-01-26T12:20:23.948Z"
   },
   {
    "duration": 243,
    "start_time": "2023-01-26T12:20:24.114Z"
   },
   {
    "duration": 250,
    "start_time": "2023-01-26T12:20:24.359Z"
   },
   {
    "duration": 1237,
    "start_time": "2023-01-26T12:20:24.611Z"
   },
   {
    "duration": 154,
    "start_time": "2023-01-26T12:20:25.849Z"
   },
   {
    "duration": 165,
    "start_time": "2023-01-26T12:20:26.005Z"
   },
   {
    "duration": 5,
    "start_time": "2023-01-26T12:20:26.172Z"
   },
   {
    "duration": 463,
    "start_time": "2023-01-26T12:20:26.178Z"
   },
   {
    "duration": 395,
    "start_time": "2023-01-26T12:20:26.643Z"
   },
   {
    "duration": 353,
    "start_time": "2023-01-26T12:20:27.039Z"
   },
   {
    "duration": 7,
    "start_time": "2023-01-26T12:20:27.393Z"
   },
   {
    "duration": 16,
    "start_time": "2023-01-26T12:20:27.401Z"
   },
   {
    "duration": 3834,
    "start_time": "2023-01-26T14:30:47.393Z"
   },
   {
    "duration": 177,
    "start_time": "2023-01-26T14:30:51.228Z"
   },
   {
    "duration": 16,
    "start_time": "2023-01-26T14:30:51.407Z"
   },
   {
    "duration": 19,
    "start_time": "2023-01-26T14:30:51.425Z"
   },
   {
    "duration": 4,
    "start_time": "2023-01-26T14:30:51.445Z"
   },
   {
    "duration": 1192,
    "start_time": "2023-01-26T14:30:51.451Z"
   },
   {
    "duration": 620,
    "start_time": "2023-01-26T14:30:52.648Z"
   },
   {
    "duration": 14,
    "start_time": "2023-01-26T14:30:53.270Z"
   },
   {
    "duration": 9,
    "start_time": "2023-01-26T14:30:53.286Z"
   },
   {
    "duration": 10,
    "start_time": "2023-01-26T14:30:53.297Z"
   },
   {
    "duration": 40,
    "start_time": "2023-01-26T14:30:53.309Z"
   },
   {
    "duration": 4,
    "start_time": "2023-01-26T14:30:53.351Z"
   },
   {
    "duration": 8,
    "start_time": "2023-01-26T14:30:53.357Z"
   },
   {
    "duration": 12,
    "start_time": "2023-01-26T14:30:53.367Z"
   },
   {
    "duration": 5,
    "start_time": "2023-01-26T14:30:53.380Z"
   },
   {
    "duration": 163,
    "start_time": "2023-01-26T14:30:53.387Z"
   },
   {
    "duration": 6,
    "start_time": "2023-01-26T14:30:53.552Z"
   },
   {
    "duration": 13,
    "start_time": "2023-01-26T14:30:53.560Z"
   },
   {
    "duration": 13,
    "start_time": "2023-01-26T14:30:53.575Z"
   },
   {
    "duration": 5,
    "start_time": "2023-01-26T14:30:53.590Z"
   },
   {
    "duration": 9,
    "start_time": "2023-01-26T14:30:53.596Z"
   },
   {
    "duration": 432,
    "start_time": "2023-01-26T14:30:53.607Z"
   },
   {
    "duration": 770,
    "start_time": "2023-01-26T14:30:54.041Z"
   },
   {
    "duration": 19,
    "start_time": "2023-01-26T14:30:54.813Z"
   },
   {
    "duration": 19,
    "start_time": "2023-01-26T14:30:54.833Z"
   },
   {
    "duration": 345,
    "start_time": "2023-01-26T14:30:54.854Z"
   },
   {
    "duration": 3,
    "start_time": "2023-01-26T14:30:55.200Z"
   },
   {
    "duration": 5,
    "start_time": "2023-01-26T14:30:55.206Z"
   },
   {
    "duration": 169,
    "start_time": "2023-01-26T14:30:55.212Z"
   },
   {
    "duration": 314,
    "start_time": "2023-01-26T14:30:55.383Z"
   },
   {
    "duration": 321,
    "start_time": "2023-01-26T14:30:55.698Z"
   },
   {
    "duration": 1155,
    "start_time": "2023-01-26T14:30:56.021Z"
   },
   {
    "duration": 158,
    "start_time": "2023-01-26T14:30:57.177Z"
   },
   {
    "duration": 226,
    "start_time": "2023-01-26T14:30:57.337Z"
   },
   {
    "duration": 7,
    "start_time": "2023-01-26T14:30:57.565Z"
   },
   {
    "duration": 393,
    "start_time": "2023-01-26T14:30:57.574Z"
   },
   {
    "duration": 344,
    "start_time": "2023-01-26T14:30:57.969Z"
   },
   {
    "duration": 373,
    "start_time": "2023-01-26T14:30:58.315Z"
   },
   {
    "duration": 8,
    "start_time": "2023-01-26T14:30:58.690Z"
   },
   {
    "duration": 19,
    "start_time": "2023-01-26T14:30:58.699Z"
   }
  ],
  "kernelspec": {
   "display_name": "Python 3 (ipykernel)",
   "language": "python",
   "name": "python3"
  },
  "language_info": {
   "codemirror_mode": {
    "name": "ipython",
    "version": 3
   },
   "file_extension": ".py",
   "mimetype": "text/x-python",
   "name": "python",
   "nbconvert_exporter": "python",
   "pygments_lexer": "ipython3",
   "version": "3.9.21"
  },
  "toc": {
   "base_numbering": 1,
   "nav_menu": {},
   "number_sections": true,
   "sideBar": true,
   "skip_h1_title": true,
   "title_cell": "",
   "title_sidebar": "Оглавление",
   "toc_cell": true,
   "toc_position": {
    "height": "calc(100% - 180px)",
    "left": "10px",
    "top": "150px",
    "width": "740.66px"
   },
   "toc_section_display": true,
   "toc_window_display": false
  }
 },
 "nbformat": 4,
 "nbformat_minor": 4
}
